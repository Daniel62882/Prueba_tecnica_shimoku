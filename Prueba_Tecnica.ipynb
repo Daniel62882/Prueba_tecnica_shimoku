{
  "nbformat": 4,
  "nbformat_minor": 0,
  "metadata": {
    "colab": {
      "provenance": [],
      "gpuType": "T4"
    },
    "kernelspec": {
      "name": "python3",
      "display_name": "Python 3"
    },
    "language_info": {
      "name": "python"
    },
    "accelerator": "GPU"
  },
  "cells": [
    {
      "cell_type": "markdown",
      "source": [
        "# Proyecto Clientes\n",
        "\n",
        "---\n",
        "\n"
      ],
      "metadata": {
        "id": "Ep3uxREMJBAo"
      }
    },
    {
      "cell_type": "markdown",
      "source": [
        "# 1. FASE RECOLECCIÓN DE DATOS"
      ],
      "metadata": {
        "id": "jOLNjeDqJty-"
      }
    },
    {
      "cell_type": "code",
      "source": [
        "from google.colab import files\n",
        "uploaded = files.upload()"
      ],
      "metadata": {
        "colab": {
          "base_uri": "https://localhost:8080/",
          "height": 73
        },
        "id": "HlfIxDysJusK",
        "outputId": "41abedaf-b15a-42e4-ba45-33d01dd57eef"
      },
      "execution_count": 1,
      "outputs": [
        {
          "output_type": "display_data",
          "data": {
            "text/plain": [
              "<IPython.core.display.HTML object>"
            ],
            "text/html": [
              "\n",
              "     <input type=\"file\" id=\"files-5fce3b39-7b4c-4f3c-8a29-1b5096850c01\" name=\"files[]\" multiple disabled\n",
              "        style=\"border:none\" />\n",
              "     <output id=\"result-5fce3b39-7b4c-4f3c-8a29-1b5096850c01\">\n",
              "      Upload widget is only available when the cell has been executed in the\n",
              "      current browser session. Please rerun this cell to enable.\n",
              "      </output>\n",
              "      <script>// Copyright 2017 Google LLC\n",
              "//\n",
              "// Licensed under the Apache License, Version 2.0 (the \"License\");\n",
              "// you may not use this file except in compliance with the License.\n",
              "// You may obtain a copy of the License at\n",
              "//\n",
              "//      http://www.apache.org/licenses/LICENSE-2.0\n",
              "//\n",
              "// Unless required by applicable law or agreed to in writing, software\n",
              "// distributed under the License is distributed on an \"AS IS\" BASIS,\n",
              "// WITHOUT WARRANTIES OR CONDITIONS OF ANY KIND, either express or implied.\n",
              "// See the License for the specific language governing permissions and\n",
              "// limitations under the License.\n",
              "\n",
              "/**\n",
              " * @fileoverview Helpers for google.colab Python module.\n",
              " */\n",
              "(function(scope) {\n",
              "function span(text, styleAttributes = {}) {\n",
              "  const element = document.createElement('span');\n",
              "  element.textContent = text;\n",
              "  for (const key of Object.keys(styleAttributes)) {\n",
              "    element.style[key] = styleAttributes[key];\n",
              "  }\n",
              "  return element;\n",
              "}\n",
              "\n",
              "// Max number of bytes which will be uploaded at a time.\n",
              "const MAX_PAYLOAD_SIZE = 100 * 1024;\n",
              "\n",
              "function _uploadFiles(inputId, outputId) {\n",
              "  const steps = uploadFilesStep(inputId, outputId);\n",
              "  const outputElement = document.getElementById(outputId);\n",
              "  // Cache steps on the outputElement to make it available for the next call\n",
              "  // to uploadFilesContinue from Python.\n",
              "  outputElement.steps = steps;\n",
              "\n",
              "  return _uploadFilesContinue(outputId);\n",
              "}\n",
              "\n",
              "// This is roughly an async generator (not supported in the browser yet),\n",
              "// where there are multiple asynchronous steps and the Python side is going\n",
              "// to poll for completion of each step.\n",
              "// This uses a Promise to block the python side on completion of each step,\n",
              "// then passes the result of the previous step as the input to the next step.\n",
              "function _uploadFilesContinue(outputId) {\n",
              "  const outputElement = document.getElementById(outputId);\n",
              "  const steps = outputElement.steps;\n",
              "\n",
              "  const next = steps.next(outputElement.lastPromiseValue);\n",
              "  return Promise.resolve(next.value.promise).then((value) => {\n",
              "    // Cache the last promise value to make it available to the next\n",
              "    // step of the generator.\n",
              "    outputElement.lastPromiseValue = value;\n",
              "    return next.value.response;\n",
              "  });\n",
              "}\n",
              "\n",
              "/**\n",
              " * Generator function which is called between each async step of the upload\n",
              " * process.\n",
              " * @param {string} inputId Element ID of the input file picker element.\n",
              " * @param {string} outputId Element ID of the output display.\n",
              " * @return {!Iterable<!Object>} Iterable of next steps.\n",
              " */\n",
              "function* uploadFilesStep(inputId, outputId) {\n",
              "  const inputElement = document.getElementById(inputId);\n",
              "  inputElement.disabled = false;\n",
              "\n",
              "  const outputElement = document.getElementById(outputId);\n",
              "  outputElement.innerHTML = '';\n",
              "\n",
              "  const pickedPromise = new Promise((resolve) => {\n",
              "    inputElement.addEventListener('change', (e) => {\n",
              "      resolve(e.target.files);\n",
              "    });\n",
              "  });\n",
              "\n",
              "  const cancel = document.createElement('button');\n",
              "  inputElement.parentElement.appendChild(cancel);\n",
              "  cancel.textContent = 'Cancel upload';\n",
              "  const cancelPromise = new Promise((resolve) => {\n",
              "    cancel.onclick = () => {\n",
              "      resolve(null);\n",
              "    };\n",
              "  });\n",
              "\n",
              "  // Wait for the user to pick the files.\n",
              "  const files = yield {\n",
              "    promise: Promise.race([pickedPromise, cancelPromise]),\n",
              "    response: {\n",
              "      action: 'starting',\n",
              "    }\n",
              "  };\n",
              "\n",
              "  cancel.remove();\n",
              "\n",
              "  // Disable the input element since further picks are not allowed.\n",
              "  inputElement.disabled = true;\n",
              "\n",
              "  if (!files) {\n",
              "    return {\n",
              "      response: {\n",
              "        action: 'complete',\n",
              "      }\n",
              "    };\n",
              "  }\n",
              "\n",
              "  for (const file of files) {\n",
              "    const li = document.createElement('li');\n",
              "    li.append(span(file.name, {fontWeight: 'bold'}));\n",
              "    li.append(span(\n",
              "        `(${file.type || 'n/a'}) - ${file.size} bytes, ` +\n",
              "        `last modified: ${\n",
              "            file.lastModifiedDate ? file.lastModifiedDate.toLocaleDateString() :\n",
              "                                    'n/a'} - `));\n",
              "    const percent = span('0% done');\n",
              "    li.appendChild(percent);\n",
              "\n",
              "    outputElement.appendChild(li);\n",
              "\n",
              "    const fileDataPromise = new Promise((resolve) => {\n",
              "      const reader = new FileReader();\n",
              "      reader.onload = (e) => {\n",
              "        resolve(e.target.result);\n",
              "      };\n",
              "      reader.readAsArrayBuffer(file);\n",
              "    });\n",
              "    // Wait for the data to be ready.\n",
              "    let fileData = yield {\n",
              "      promise: fileDataPromise,\n",
              "      response: {\n",
              "        action: 'continue',\n",
              "      }\n",
              "    };\n",
              "\n",
              "    // Use a chunked sending to avoid message size limits. See b/62115660.\n",
              "    let position = 0;\n",
              "    do {\n",
              "      const length = Math.min(fileData.byteLength - position, MAX_PAYLOAD_SIZE);\n",
              "      const chunk = new Uint8Array(fileData, position, length);\n",
              "      position += length;\n",
              "\n",
              "      const base64 = btoa(String.fromCharCode.apply(null, chunk));\n",
              "      yield {\n",
              "        response: {\n",
              "          action: 'append',\n",
              "          file: file.name,\n",
              "          data: base64,\n",
              "        },\n",
              "      };\n",
              "\n",
              "      let percentDone = fileData.byteLength === 0 ?\n",
              "          100 :\n",
              "          Math.round((position / fileData.byteLength) * 100);\n",
              "      percent.textContent = `${percentDone}% done`;\n",
              "\n",
              "    } while (position < fileData.byteLength);\n",
              "  }\n",
              "\n",
              "  // All done.\n",
              "  yield {\n",
              "    response: {\n",
              "      action: 'complete',\n",
              "    }\n",
              "  };\n",
              "}\n",
              "\n",
              "scope.google = scope.google || {};\n",
              "scope.google.colab = scope.google.colab || {};\n",
              "scope.google.colab._files = {\n",
              "  _uploadFiles,\n",
              "  _uploadFilesContinue,\n",
              "};\n",
              "})(self);\n",
              "</script> "
            ]
          },
          "metadata": {}
        },
        {
          "output_type": "stream",
          "name": "stdout",
          "text": [
            "Saving leads.csv to leads.csv\n"
          ]
        }
      ]
    },
    {
      "cell_type": "markdown",
      "source": [
        "## 1.2 Importamos librerias y cargamos el dataset en una variable"
      ],
      "metadata": {
        "id": "rlG5xXLkJ6UK"
      }
    },
    {
      "cell_type": "code",
      "source": [
        "import pandas as pd\n",
        "import io\n",
        "\n",
        "leads = pd.read_csv(io.BytesIO(uploaded['leads.csv']))"
      ],
      "metadata": {
        "id": "c8Xby_SCJDV-"
      },
      "execution_count": 2,
      "outputs": []
    },
    {
      "cell_type": "code",
      "source": [
        "leads"
      ],
      "metadata": {
        "colab": {
          "base_uri": "https://localhost:8080/",
          "height": 652
        },
        "id": "y_u7EzHvKYYt",
        "outputId": "562448a8-6cd3-4832-e58f-589b13ae4824"
      },
      "execution_count": 3,
      "outputs": [
        {
          "output_type": "execute_result",
          "data": {
            "text/plain": [
              "             Id       First Name          Use Case    Source     Status  \\\n",
              "0      23okrabh              NaN  Corporate Events   Inbound  Nurturing   \n",
              "1           NaN  Taylor1 Harris1               NaN   Inbound  Discarded   \n",
              "2      hbzt0kp1   Alex6 Jackson3               NaN   Inbound  Nurturing   \n",
              "3      velluwdq  Bailey2 Taylor6  Corporate Events   Inbound  Discarded   \n",
              "4           NaN    Drew5 Wilson5  Corporate Events   Inbound  Nurturing   \n",
              "...         ...              ...               ...       ...        ...   \n",
              "61634  lpb8obv3              NaN  Corporate Events  Outbound        New   \n",
              "61635  mzcq31rg              NaN               NaN  Outbound        New   \n",
              "61636  2ajg0z5w              NaN  Corporate Events  Outbound        New   \n",
              "61637  k6wq2pi9              NaN               NaN  Outbound        New   \n",
              "61638  vez26u63              NaN  Corporate Events   Inbound        New   \n",
              "\n",
              "      Discarded/Nurturing Reason    Acquisition Campaign Created Date  \\\n",
              "0                        Not Fit                     NaN   2018-05-26   \n",
              "1                    Not feeling  Event Management Guide   2018-10-17   \n",
              "2                     Competitor                     NaN   2019-03-29   \n",
              "3                     Not Target                     NaN   2018-05-26   \n",
              "4                     Competitor                     NaN   2018-10-17   \n",
              "...                          ...                     ...          ...   \n",
              "61634                        NaN             Digital kit   2020-10-27   \n",
              "61635                        NaN                 ArtFair   2020-10-27   \n",
              "61636                        NaN                     NaN   2020-10-27   \n",
              "61637                        NaN          VirtualMeetups   2020-10-27   \n",
              "61638                        NaN                     NaN   2020-10-27   \n",
              "\n",
              "       Converted       City  \n",
              "0              0    Chicago  \n",
              "1              0     Denver  \n",
              "2              0     Denver  \n",
              "3              0        NaN  \n",
              "4              0        NaN  \n",
              "...          ...        ...  \n",
              "61634          0    Phoenix  \n",
              "61635          0        NaN  \n",
              "61636          0        NaN  \n",
              "61637          0  Charlotte  \n",
              "61638          0        NaN  \n",
              "\n",
              "[61639 rows x 10 columns]"
            ],
            "text/html": [
              "\n",
              "  <div id=\"df-300aee75-9cde-48f7-bcda-ddbb391b8159\" class=\"colab-df-container\">\n",
              "    <div>\n",
              "<style scoped>\n",
              "    .dataframe tbody tr th:only-of-type {\n",
              "        vertical-align: middle;\n",
              "    }\n",
              "\n",
              "    .dataframe tbody tr th {\n",
              "        vertical-align: top;\n",
              "    }\n",
              "\n",
              "    .dataframe thead th {\n",
              "        text-align: right;\n",
              "    }\n",
              "</style>\n",
              "<table border=\"1\" class=\"dataframe\">\n",
              "  <thead>\n",
              "    <tr style=\"text-align: right;\">\n",
              "      <th></th>\n",
              "      <th>Id</th>\n",
              "      <th>First Name</th>\n",
              "      <th>Use Case</th>\n",
              "      <th>Source</th>\n",
              "      <th>Status</th>\n",
              "      <th>Discarded/Nurturing Reason</th>\n",
              "      <th>Acquisition Campaign</th>\n",
              "      <th>Created Date</th>\n",
              "      <th>Converted</th>\n",
              "      <th>City</th>\n",
              "    </tr>\n",
              "  </thead>\n",
              "  <tbody>\n",
              "    <tr>\n",
              "      <th>0</th>\n",
              "      <td>23okrabh</td>\n",
              "      <td>NaN</td>\n",
              "      <td>Corporate Events</td>\n",
              "      <td>Inbound</td>\n",
              "      <td>Nurturing</td>\n",
              "      <td>Not Fit</td>\n",
              "      <td>NaN</td>\n",
              "      <td>2018-05-26</td>\n",
              "      <td>0</td>\n",
              "      <td>Chicago</td>\n",
              "    </tr>\n",
              "    <tr>\n",
              "      <th>1</th>\n",
              "      <td>NaN</td>\n",
              "      <td>Taylor1 Harris1</td>\n",
              "      <td>NaN</td>\n",
              "      <td>Inbound</td>\n",
              "      <td>Discarded</td>\n",
              "      <td>Not feeling</td>\n",
              "      <td>Event Management Guide</td>\n",
              "      <td>2018-10-17</td>\n",
              "      <td>0</td>\n",
              "      <td>Denver</td>\n",
              "    </tr>\n",
              "    <tr>\n",
              "      <th>2</th>\n",
              "      <td>hbzt0kp1</td>\n",
              "      <td>Alex6 Jackson3</td>\n",
              "      <td>NaN</td>\n",
              "      <td>Inbound</td>\n",
              "      <td>Nurturing</td>\n",
              "      <td>Competitor</td>\n",
              "      <td>NaN</td>\n",
              "      <td>2019-03-29</td>\n",
              "      <td>0</td>\n",
              "      <td>Denver</td>\n",
              "    </tr>\n",
              "    <tr>\n",
              "      <th>3</th>\n",
              "      <td>velluwdq</td>\n",
              "      <td>Bailey2 Taylor6</td>\n",
              "      <td>Corporate Events</td>\n",
              "      <td>Inbound</td>\n",
              "      <td>Discarded</td>\n",
              "      <td>Not Target</td>\n",
              "      <td>NaN</td>\n",
              "      <td>2018-05-26</td>\n",
              "      <td>0</td>\n",
              "      <td>NaN</td>\n",
              "    </tr>\n",
              "    <tr>\n",
              "      <th>4</th>\n",
              "      <td>NaN</td>\n",
              "      <td>Drew5 Wilson5</td>\n",
              "      <td>Corporate Events</td>\n",
              "      <td>Inbound</td>\n",
              "      <td>Nurturing</td>\n",
              "      <td>Competitor</td>\n",
              "      <td>NaN</td>\n",
              "      <td>2018-10-17</td>\n",
              "      <td>0</td>\n",
              "      <td>NaN</td>\n",
              "    </tr>\n",
              "    <tr>\n",
              "      <th>...</th>\n",
              "      <td>...</td>\n",
              "      <td>...</td>\n",
              "      <td>...</td>\n",
              "      <td>...</td>\n",
              "      <td>...</td>\n",
              "      <td>...</td>\n",
              "      <td>...</td>\n",
              "      <td>...</td>\n",
              "      <td>...</td>\n",
              "      <td>...</td>\n",
              "    </tr>\n",
              "    <tr>\n",
              "      <th>61634</th>\n",
              "      <td>lpb8obv3</td>\n",
              "      <td>NaN</td>\n",
              "      <td>Corporate Events</td>\n",
              "      <td>Outbound</td>\n",
              "      <td>New</td>\n",
              "      <td>NaN</td>\n",
              "      <td>Digital kit</td>\n",
              "      <td>2020-10-27</td>\n",
              "      <td>0</td>\n",
              "      <td>Phoenix</td>\n",
              "    </tr>\n",
              "    <tr>\n",
              "      <th>61635</th>\n",
              "      <td>mzcq31rg</td>\n",
              "      <td>NaN</td>\n",
              "      <td>NaN</td>\n",
              "      <td>Outbound</td>\n",
              "      <td>New</td>\n",
              "      <td>NaN</td>\n",
              "      <td>ArtFair</td>\n",
              "      <td>2020-10-27</td>\n",
              "      <td>0</td>\n",
              "      <td>NaN</td>\n",
              "    </tr>\n",
              "    <tr>\n",
              "      <th>61636</th>\n",
              "      <td>2ajg0z5w</td>\n",
              "      <td>NaN</td>\n",
              "      <td>Corporate Events</td>\n",
              "      <td>Outbound</td>\n",
              "      <td>New</td>\n",
              "      <td>NaN</td>\n",
              "      <td>NaN</td>\n",
              "      <td>2020-10-27</td>\n",
              "      <td>0</td>\n",
              "      <td>NaN</td>\n",
              "    </tr>\n",
              "    <tr>\n",
              "      <th>61637</th>\n",
              "      <td>k6wq2pi9</td>\n",
              "      <td>NaN</td>\n",
              "      <td>NaN</td>\n",
              "      <td>Outbound</td>\n",
              "      <td>New</td>\n",
              "      <td>NaN</td>\n",
              "      <td>VirtualMeetups</td>\n",
              "      <td>2020-10-27</td>\n",
              "      <td>0</td>\n",
              "      <td>Charlotte</td>\n",
              "    </tr>\n",
              "    <tr>\n",
              "      <th>61638</th>\n",
              "      <td>vez26u63</td>\n",
              "      <td>NaN</td>\n",
              "      <td>Corporate Events</td>\n",
              "      <td>Inbound</td>\n",
              "      <td>New</td>\n",
              "      <td>NaN</td>\n",
              "      <td>NaN</td>\n",
              "      <td>2020-10-27</td>\n",
              "      <td>0</td>\n",
              "      <td>NaN</td>\n",
              "    </tr>\n",
              "  </tbody>\n",
              "</table>\n",
              "<p>61639 rows × 10 columns</p>\n",
              "</div>\n",
              "    <div class=\"colab-df-buttons\">\n",
              "\n",
              "  <div class=\"colab-df-container\">\n",
              "    <button class=\"colab-df-convert\" onclick=\"convertToInteractive('df-300aee75-9cde-48f7-bcda-ddbb391b8159')\"\n",
              "            title=\"Convert this dataframe to an interactive table.\"\n",
              "            style=\"display:none;\">\n",
              "\n",
              "  <svg xmlns=\"http://www.w3.org/2000/svg\" height=\"24px\" viewBox=\"0 -960 960 960\">\n",
              "    <path d=\"M120-120v-720h720v720H120Zm60-500h600v-160H180v160Zm220 220h160v-160H400v160Zm0 220h160v-160H400v160ZM180-400h160v-160H180v160Zm440 0h160v-160H620v160ZM180-180h160v-160H180v160Zm440 0h160v-160H620v160Z\"/>\n",
              "  </svg>\n",
              "    </button>\n",
              "\n",
              "  <style>\n",
              "    .colab-df-container {\n",
              "      display:flex;\n",
              "      gap: 12px;\n",
              "    }\n",
              "\n",
              "    .colab-df-convert {\n",
              "      background-color: #E8F0FE;\n",
              "      border: none;\n",
              "      border-radius: 50%;\n",
              "      cursor: pointer;\n",
              "      display: none;\n",
              "      fill: #1967D2;\n",
              "      height: 32px;\n",
              "      padding: 0 0 0 0;\n",
              "      width: 32px;\n",
              "    }\n",
              "\n",
              "    .colab-df-convert:hover {\n",
              "      background-color: #E2EBFA;\n",
              "      box-shadow: 0px 1px 2px rgba(60, 64, 67, 0.3), 0px 1px 3px 1px rgba(60, 64, 67, 0.15);\n",
              "      fill: #174EA6;\n",
              "    }\n",
              "\n",
              "    .colab-df-buttons div {\n",
              "      margin-bottom: 4px;\n",
              "    }\n",
              "\n",
              "    [theme=dark] .colab-df-convert {\n",
              "      background-color: #3B4455;\n",
              "      fill: #D2E3FC;\n",
              "    }\n",
              "\n",
              "    [theme=dark] .colab-df-convert:hover {\n",
              "      background-color: #434B5C;\n",
              "      box-shadow: 0px 1px 3px 1px rgba(0, 0, 0, 0.15);\n",
              "      filter: drop-shadow(0px 1px 2px rgba(0, 0, 0, 0.3));\n",
              "      fill: #FFFFFF;\n",
              "    }\n",
              "  </style>\n",
              "\n",
              "    <script>\n",
              "      const buttonEl =\n",
              "        document.querySelector('#df-300aee75-9cde-48f7-bcda-ddbb391b8159 button.colab-df-convert');\n",
              "      buttonEl.style.display =\n",
              "        google.colab.kernel.accessAllowed ? 'block' : 'none';\n",
              "\n",
              "      async function convertToInteractive(key) {\n",
              "        const element = document.querySelector('#df-300aee75-9cde-48f7-bcda-ddbb391b8159');\n",
              "        const dataTable =\n",
              "          await google.colab.kernel.invokeFunction('convertToInteractive',\n",
              "                                                    [key], {});\n",
              "        if (!dataTable) return;\n",
              "\n",
              "        const docLinkHtml = 'Like what you see? Visit the ' +\n",
              "          '<a target=\"_blank\" href=https://colab.research.google.com/notebooks/data_table.ipynb>data table notebook</a>'\n",
              "          + ' to learn more about interactive tables.';\n",
              "        element.innerHTML = '';\n",
              "        dataTable['output_type'] = 'display_data';\n",
              "        await google.colab.output.renderOutput(dataTable, element);\n",
              "        const docLink = document.createElement('div');\n",
              "        docLink.innerHTML = docLinkHtml;\n",
              "        element.appendChild(docLink);\n",
              "      }\n",
              "    </script>\n",
              "  </div>\n",
              "\n",
              "\n",
              "<div id=\"df-5233398b-1d92-46f6-90c9-88c03c422589\">\n",
              "  <button class=\"colab-df-quickchart\" onclick=\"quickchart('df-5233398b-1d92-46f6-90c9-88c03c422589')\"\n",
              "            title=\"Suggest charts\"\n",
              "            style=\"display:none;\">\n",
              "\n",
              "<svg xmlns=\"http://www.w3.org/2000/svg\" height=\"24px\"viewBox=\"0 0 24 24\"\n",
              "     width=\"24px\">\n",
              "    <g>\n",
              "        <path d=\"M19 3H5c-1.1 0-2 .9-2 2v14c0 1.1.9 2 2 2h14c1.1 0 2-.9 2-2V5c0-1.1-.9-2-2-2zM9 17H7v-7h2v7zm4 0h-2V7h2v10zm4 0h-2v-4h2v4z\"/>\n",
              "    </g>\n",
              "</svg>\n",
              "  </button>\n",
              "\n",
              "<style>\n",
              "  .colab-df-quickchart {\n",
              "      --bg-color: #E8F0FE;\n",
              "      --fill-color: #1967D2;\n",
              "      --hover-bg-color: #E2EBFA;\n",
              "      --hover-fill-color: #174EA6;\n",
              "      --disabled-fill-color: #AAA;\n",
              "      --disabled-bg-color: #DDD;\n",
              "  }\n",
              "\n",
              "  [theme=dark] .colab-df-quickchart {\n",
              "      --bg-color: #3B4455;\n",
              "      --fill-color: #D2E3FC;\n",
              "      --hover-bg-color: #434B5C;\n",
              "      --hover-fill-color: #FFFFFF;\n",
              "      --disabled-bg-color: #3B4455;\n",
              "      --disabled-fill-color: #666;\n",
              "  }\n",
              "\n",
              "  .colab-df-quickchart {\n",
              "    background-color: var(--bg-color);\n",
              "    border: none;\n",
              "    border-radius: 50%;\n",
              "    cursor: pointer;\n",
              "    display: none;\n",
              "    fill: var(--fill-color);\n",
              "    height: 32px;\n",
              "    padding: 0;\n",
              "    width: 32px;\n",
              "  }\n",
              "\n",
              "  .colab-df-quickchart:hover {\n",
              "    background-color: var(--hover-bg-color);\n",
              "    box-shadow: 0 1px 2px rgba(60, 64, 67, 0.3), 0 1px 3px 1px rgba(60, 64, 67, 0.15);\n",
              "    fill: var(--button-hover-fill-color);\n",
              "  }\n",
              "\n",
              "  .colab-df-quickchart-complete:disabled,\n",
              "  .colab-df-quickchart-complete:disabled:hover {\n",
              "    background-color: var(--disabled-bg-color);\n",
              "    fill: var(--disabled-fill-color);\n",
              "    box-shadow: none;\n",
              "  }\n",
              "\n",
              "  .colab-df-spinner {\n",
              "    border: 2px solid var(--fill-color);\n",
              "    border-color: transparent;\n",
              "    border-bottom-color: var(--fill-color);\n",
              "    animation:\n",
              "      spin 1s steps(1) infinite;\n",
              "  }\n",
              "\n",
              "  @keyframes spin {\n",
              "    0% {\n",
              "      border-color: transparent;\n",
              "      border-bottom-color: var(--fill-color);\n",
              "      border-left-color: var(--fill-color);\n",
              "    }\n",
              "    20% {\n",
              "      border-color: transparent;\n",
              "      border-left-color: var(--fill-color);\n",
              "      border-top-color: var(--fill-color);\n",
              "    }\n",
              "    30% {\n",
              "      border-color: transparent;\n",
              "      border-left-color: var(--fill-color);\n",
              "      border-top-color: var(--fill-color);\n",
              "      border-right-color: var(--fill-color);\n",
              "    }\n",
              "    40% {\n",
              "      border-color: transparent;\n",
              "      border-right-color: var(--fill-color);\n",
              "      border-top-color: var(--fill-color);\n",
              "    }\n",
              "    60% {\n",
              "      border-color: transparent;\n",
              "      border-right-color: var(--fill-color);\n",
              "    }\n",
              "    80% {\n",
              "      border-color: transparent;\n",
              "      border-right-color: var(--fill-color);\n",
              "      border-bottom-color: var(--fill-color);\n",
              "    }\n",
              "    90% {\n",
              "      border-color: transparent;\n",
              "      border-bottom-color: var(--fill-color);\n",
              "    }\n",
              "  }\n",
              "</style>\n",
              "\n",
              "  <script>\n",
              "    async function quickchart(key) {\n",
              "      const quickchartButtonEl =\n",
              "        document.querySelector('#' + key + ' button');\n",
              "      quickchartButtonEl.disabled = true;  // To prevent multiple clicks.\n",
              "      quickchartButtonEl.classList.add('colab-df-spinner');\n",
              "      try {\n",
              "        const charts = await google.colab.kernel.invokeFunction(\n",
              "            'suggestCharts', [key], {});\n",
              "      } catch (error) {\n",
              "        console.error('Error during call to suggestCharts:', error);\n",
              "      }\n",
              "      quickchartButtonEl.classList.remove('colab-df-spinner');\n",
              "      quickchartButtonEl.classList.add('colab-df-quickchart-complete');\n",
              "    }\n",
              "    (() => {\n",
              "      let quickchartButtonEl =\n",
              "        document.querySelector('#df-5233398b-1d92-46f6-90c9-88c03c422589 button');\n",
              "      quickchartButtonEl.style.display =\n",
              "        google.colab.kernel.accessAllowed ? 'block' : 'none';\n",
              "    })();\n",
              "  </script>\n",
              "</div>\n",
              "    </div>\n",
              "  </div>\n"
            ]
          },
          "metadata": {},
          "execution_count": 3
        }
      ]
    },
    {
      "cell_type": "markdown",
      "source": [
        "# 2. Fase exploratoria de los datos (ANALÍTICA) (DATA LEADS)"
      ],
      "metadata": {
        "id": "RoGO2JgwKfET"
      }
    },
    {
      "cell_type": "markdown",
      "source": [
        "## 2.1 Visualizamos los 10 primeros registros del dataset"
      ],
      "metadata": {
        "id": "flI-lzHiKhk4"
      }
    },
    {
      "cell_type": "code",
      "source": [
        "leads.head(10)"
      ],
      "metadata": {
        "colab": {
          "base_uri": "https://localhost:8080/",
          "height": 606
        },
        "id": "_WGvqRLPKZ0Q",
        "outputId": "19311f68-4aef-48bf-db5b-03dbe961fadb"
      },
      "execution_count": 4,
      "outputs": [
        {
          "output_type": "execute_result",
          "data": {
            "text/plain": [
              "         Id          First Name          Use Case   Source     Status  \\\n",
              "0  23okrabh                 NaN  Corporate Events  Inbound  Nurturing   \n",
              "1       NaN     Taylor1 Harris1               NaN  Inbound  Discarded   \n",
              "2  hbzt0kp1      Alex6 Jackson3               NaN  Inbound  Nurturing   \n",
              "3  velluwdq     Bailey2 Taylor6  Corporate Events  Inbound  Discarded   \n",
              "4       NaN       Drew5 Wilson5  Corporate Events  Inbound  Nurturing   \n",
              "5  vwm9vcdc  Harper11 Johnson11               NaN  Inbound  Nurturing   \n",
              "6       NaN     Skyler17 Moore7               NaN  Inbound  Discarded   \n",
              "7       NaN                 NaN     Sports Events  Inbound  Discarded   \n",
              "8  kbfjr4vz      Drew6 Taylor17               NaN  Inbound  Nurturing   \n",
              "9       NaN    Morgan5 Thomas12               NaN  Inbound  Discarded   \n",
              "\n",
              "  Discarded/Nurturing Reason    Acquisition Campaign Created Date  Converted  \\\n",
              "0                    Not Fit                     NaN   2018-05-26          0   \n",
              "1                Not feeling  Event Management Guide   2018-10-17          0   \n",
              "2                 Competitor                     NaN   2019-03-29          0   \n",
              "3                 Not Target                     NaN   2018-05-26          0   \n",
              "4                 Competitor                     NaN   2018-10-17          0   \n",
              "5       Not the right moment                     NaN   2019-03-29          0   \n",
              "6                 Wrong Data  Event Management Guide   2018-05-26          0   \n",
              "7                 Not Target                     NaN   2018-10-17          0   \n",
              "8                Not feeling                     NaN   2019-03-29          0   \n",
              "9                 Not Target  Event Management Guide   2018-05-26          0   \n",
              "\n",
              "      City  \n",
              "0  Chicago  \n",
              "1   Denver  \n",
              "2   Denver  \n",
              "3      NaN  \n",
              "4      NaN  \n",
              "5      NaN  \n",
              "6      NaN  \n",
              "7      NaN  \n",
              "8   Denver  \n",
              "9      NaN  "
            ],
            "text/html": [
              "\n",
              "  <div id=\"df-c63a6d95-5adc-41fb-ab44-1581b219d68b\" class=\"colab-df-container\">\n",
              "    <div>\n",
              "<style scoped>\n",
              "    .dataframe tbody tr th:only-of-type {\n",
              "        vertical-align: middle;\n",
              "    }\n",
              "\n",
              "    .dataframe tbody tr th {\n",
              "        vertical-align: top;\n",
              "    }\n",
              "\n",
              "    .dataframe thead th {\n",
              "        text-align: right;\n",
              "    }\n",
              "</style>\n",
              "<table border=\"1\" class=\"dataframe\">\n",
              "  <thead>\n",
              "    <tr style=\"text-align: right;\">\n",
              "      <th></th>\n",
              "      <th>Id</th>\n",
              "      <th>First Name</th>\n",
              "      <th>Use Case</th>\n",
              "      <th>Source</th>\n",
              "      <th>Status</th>\n",
              "      <th>Discarded/Nurturing Reason</th>\n",
              "      <th>Acquisition Campaign</th>\n",
              "      <th>Created Date</th>\n",
              "      <th>Converted</th>\n",
              "      <th>City</th>\n",
              "    </tr>\n",
              "  </thead>\n",
              "  <tbody>\n",
              "    <tr>\n",
              "      <th>0</th>\n",
              "      <td>23okrabh</td>\n",
              "      <td>NaN</td>\n",
              "      <td>Corporate Events</td>\n",
              "      <td>Inbound</td>\n",
              "      <td>Nurturing</td>\n",
              "      <td>Not Fit</td>\n",
              "      <td>NaN</td>\n",
              "      <td>2018-05-26</td>\n",
              "      <td>0</td>\n",
              "      <td>Chicago</td>\n",
              "    </tr>\n",
              "    <tr>\n",
              "      <th>1</th>\n",
              "      <td>NaN</td>\n",
              "      <td>Taylor1 Harris1</td>\n",
              "      <td>NaN</td>\n",
              "      <td>Inbound</td>\n",
              "      <td>Discarded</td>\n",
              "      <td>Not feeling</td>\n",
              "      <td>Event Management Guide</td>\n",
              "      <td>2018-10-17</td>\n",
              "      <td>0</td>\n",
              "      <td>Denver</td>\n",
              "    </tr>\n",
              "    <tr>\n",
              "      <th>2</th>\n",
              "      <td>hbzt0kp1</td>\n",
              "      <td>Alex6 Jackson3</td>\n",
              "      <td>NaN</td>\n",
              "      <td>Inbound</td>\n",
              "      <td>Nurturing</td>\n",
              "      <td>Competitor</td>\n",
              "      <td>NaN</td>\n",
              "      <td>2019-03-29</td>\n",
              "      <td>0</td>\n",
              "      <td>Denver</td>\n",
              "    </tr>\n",
              "    <tr>\n",
              "      <th>3</th>\n",
              "      <td>velluwdq</td>\n",
              "      <td>Bailey2 Taylor6</td>\n",
              "      <td>Corporate Events</td>\n",
              "      <td>Inbound</td>\n",
              "      <td>Discarded</td>\n",
              "      <td>Not Target</td>\n",
              "      <td>NaN</td>\n",
              "      <td>2018-05-26</td>\n",
              "      <td>0</td>\n",
              "      <td>NaN</td>\n",
              "    </tr>\n",
              "    <tr>\n",
              "      <th>4</th>\n",
              "      <td>NaN</td>\n",
              "      <td>Drew5 Wilson5</td>\n",
              "      <td>Corporate Events</td>\n",
              "      <td>Inbound</td>\n",
              "      <td>Nurturing</td>\n",
              "      <td>Competitor</td>\n",
              "      <td>NaN</td>\n",
              "      <td>2018-10-17</td>\n",
              "      <td>0</td>\n",
              "      <td>NaN</td>\n",
              "    </tr>\n",
              "    <tr>\n",
              "      <th>5</th>\n",
              "      <td>vwm9vcdc</td>\n",
              "      <td>Harper11 Johnson11</td>\n",
              "      <td>NaN</td>\n",
              "      <td>Inbound</td>\n",
              "      <td>Nurturing</td>\n",
              "      <td>Not the right moment</td>\n",
              "      <td>NaN</td>\n",
              "      <td>2019-03-29</td>\n",
              "      <td>0</td>\n",
              "      <td>NaN</td>\n",
              "    </tr>\n",
              "    <tr>\n",
              "      <th>6</th>\n",
              "      <td>NaN</td>\n",
              "      <td>Skyler17 Moore7</td>\n",
              "      <td>NaN</td>\n",
              "      <td>Inbound</td>\n",
              "      <td>Discarded</td>\n",
              "      <td>Wrong Data</td>\n",
              "      <td>Event Management Guide</td>\n",
              "      <td>2018-05-26</td>\n",
              "      <td>0</td>\n",
              "      <td>NaN</td>\n",
              "    </tr>\n",
              "    <tr>\n",
              "      <th>7</th>\n",
              "      <td>NaN</td>\n",
              "      <td>NaN</td>\n",
              "      <td>Sports Events</td>\n",
              "      <td>Inbound</td>\n",
              "      <td>Discarded</td>\n",
              "      <td>Not Target</td>\n",
              "      <td>NaN</td>\n",
              "      <td>2018-10-17</td>\n",
              "      <td>0</td>\n",
              "      <td>NaN</td>\n",
              "    </tr>\n",
              "    <tr>\n",
              "      <th>8</th>\n",
              "      <td>kbfjr4vz</td>\n",
              "      <td>Drew6 Taylor17</td>\n",
              "      <td>NaN</td>\n",
              "      <td>Inbound</td>\n",
              "      <td>Nurturing</td>\n",
              "      <td>Not feeling</td>\n",
              "      <td>NaN</td>\n",
              "      <td>2019-03-29</td>\n",
              "      <td>0</td>\n",
              "      <td>Denver</td>\n",
              "    </tr>\n",
              "    <tr>\n",
              "      <th>9</th>\n",
              "      <td>NaN</td>\n",
              "      <td>Morgan5 Thomas12</td>\n",
              "      <td>NaN</td>\n",
              "      <td>Inbound</td>\n",
              "      <td>Discarded</td>\n",
              "      <td>Not Target</td>\n",
              "      <td>Event Management Guide</td>\n",
              "      <td>2018-05-26</td>\n",
              "      <td>0</td>\n",
              "      <td>NaN</td>\n",
              "    </tr>\n",
              "  </tbody>\n",
              "</table>\n",
              "</div>\n",
              "    <div class=\"colab-df-buttons\">\n",
              "\n",
              "  <div class=\"colab-df-container\">\n",
              "    <button class=\"colab-df-convert\" onclick=\"convertToInteractive('df-c63a6d95-5adc-41fb-ab44-1581b219d68b')\"\n",
              "            title=\"Convert this dataframe to an interactive table.\"\n",
              "            style=\"display:none;\">\n",
              "\n",
              "  <svg xmlns=\"http://www.w3.org/2000/svg\" height=\"24px\" viewBox=\"0 -960 960 960\">\n",
              "    <path d=\"M120-120v-720h720v720H120Zm60-500h600v-160H180v160Zm220 220h160v-160H400v160Zm0 220h160v-160H400v160ZM180-400h160v-160H180v160Zm440 0h160v-160H620v160ZM180-180h160v-160H180v160Zm440 0h160v-160H620v160Z\"/>\n",
              "  </svg>\n",
              "    </button>\n",
              "\n",
              "  <style>\n",
              "    .colab-df-container {\n",
              "      display:flex;\n",
              "      gap: 12px;\n",
              "    }\n",
              "\n",
              "    .colab-df-convert {\n",
              "      background-color: #E8F0FE;\n",
              "      border: none;\n",
              "      border-radius: 50%;\n",
              "      cursor: pointer;\n",
              "      display: none;\n",
              "      fill: #1967D2;\n",
              "      height: 32px;\n",
              "      padding: 0 0 0 0;\n",
              "      width: 32px;\n",
              "    }\n",
              "\n",
              "    .colab-df-convert:hover {\n",
              "      background-color: #E2EBFA;\n",
              "      box-shadow: 0px 1px 2px rgba(60, 64, 67, 0.3), 0px 1px 3px 1px rgba(60, 64, 67, 0.15);\n",
              "      fill: #174EA6;\n",
              "    }\n",
              "\n",
              "    .colab-df-buttons div {\n",
              "      margin-bottom: 4px;\n",
              "    }\n",
              "\n",
              "    [theme=dark] .colab-df-convert {\n",
              "      background-color: #3B4455;\n",
              "      fill: #D2E3FC;\n",
              "    }\n",
              "\n",
              "    [theme=dark] .colab-df-convert:hover {\n",
              "      background-color: #434B5C;\n",
              "      box-shadow: 0px 1px 3px 1px rgba(0, 0, 0, 0.15);\n",
              "      filter: drop-shadow(0px 1px 2px rgba(0, 0, 0, 0.3));\n",
              "      fill: #FFFFFF;\n",
              "    }\n",
              "  </style>\n",
              "\n",
              "    <script>\n",
              "      const buttonEl =\n",
              "        document.querySelector('#df-c63a6d95-5adc-41fb-ab44-1581b219d68b button.colab-df-convert');\n",
              "      buttonEl.style.display =\n",
              "        google.colab.kernel.accessAllowed ? 'block' : 'none';\n",
              "\n",
              "      async function convertToInteractive(key) {\n",
              "        const element = document.querySelector('#df-c63a6d95-5adc-41fb-ab44-1581b219d68b');\n",
              "        const dataTable =\n",
              "          await google.colab.kernel.invokeFunction('convertToInteractive',\n",
              "                                                    [key], {});\n",
              "        if (!dataTable) return;\n",
              "\n",
              "        const docLinkHtml = 'Like what you see? Visit the ' +\n",
              "          '<a target=\"_blank\" href=https://colab.research.google.com/notebooks/data_table.ipynb>data table notebook</a>'\n",
              "          + ' to learn more about interactive tables.';\n",
              "        element.innerHTML = '';\n",
              "        dataTable['output_type'] = 'display_data';\n",
              "        await google.colab.output.renderOutput(dataTable, element);\n",
              "        const docLink = document.createElement('div');\n",
              "        docLink.innerHTML = docLinkHtml;\n",
              "        element.appendChild(docLink);\n",
              "      }\n",
              "    </script>\n",
              "  </div>\n",
              "\n",
              "\n",
              "<div id=\"df-0a78ef4a-abbe-42ee-8924-62491030d6db\">\n",
              "  <button class=\"colab-df-quickchart\" onclick=\"quickchart('df-0a78ef4a-abbe-42ee-8924-62491030d6db')\"\n",
              "            title=\"Suggest charts\"\n",
              "            style=\"display:none;\">\n",
              "\n",
              "<svg xmlns=\"http://www.w3.org/2000/svg\" height=\"24px\"viewBox=\"0 0 24 24\"\n",
              "     width=\"24px\">\n",
              "    <g>\n",
              "        <path d=\"M19 3H5c-1.1 0-2 .9-2 2v14c0 1.1.9 2 2 2h14c1.1 0 2-.9 2-2V5c0-1.1-.9-2-2-2zM9 17H7v-7h2v7zm4 0h-2V7h2v10zm4 0h-2v-4h2v4z\"/>\n",
              "    </g>\n",
              "</svg>\n",
              "  </button>\n",
              "\n",
              "<style>\n",
              "  .colab-df-quickchart {\n",
              "      --bg-color: #E8F0FE;\n",
              "      --fill-color: #1967D2;\n",
              "      --hover-bg-color: #E2EBFA;\n",
              "      --hover-fill-color: #174EA6;\n",
              "      --disabled-fill-color: #AAA;\n",
              "      --disabled-bg-color: #DDD;\n",
              "  }\n",
              "\n",
              "  [theme=dark] .colab-df-quickchart {\n",
              "      --bg-color: #3B4455;\n",
              "      --fill-color: #D2E3FC;\n",
              "      --hover-bg-color: #434B5C;\n",
              "      --hover-fill-color: #FFFFFF;\n",
              "      --disabled-bg-color: #3B4455;\n",
              "      --disabled-fill-color: #666;\n",
              "  }\n",
              "\n",
              "  .colab-df-quickchart {\n",
              "    background-color: var(--bg-color);\n",
              "    border: none;\n",
              "    border-radius: 50%;\n",
              "    cursor: pointer;\n",
              "    display: none;\n",
              "    fill: var(--fill-color);\n",
              "    height: 32px;\n",
              "    padding: 0;\n",
              "    width: 32px;\n",
              "  }\n",
              "\n",
              "  .colab-df-quickchart:hover {\n",
              "    background-color: var(--hover-bg-color);\n",
              "    box-shadow: 0 1px 2px rgba(60, 64, 67, 0.3), 0 1px 3px 1px rgba(60, 64, 67, 0.15);\n",
              "    fill: var(--button-hover-fill-color);\n",
              "  }\n",
              "\n",
              "  .colab-df-quickchart-complete:disabled,\n",
              "  .colab-df-quickchart-complete:disabled:hover {\n",
              "    background-color: var(--disabled-bg-color);\n",
              "    fill: var(--disabled-fill-color);\n",
              "    box-shadow: none;\n",
              "  }\n",
              "\n",
              "  .colab-df-spinner {\n",
              "    border: 2px solid var(--fill-color);\n",
              "    border-color: transparent;\n",
              "    border-bottom-color: var(--fill-color);\n",
              "    animation:\n",
              "      spin 1s steps(1) infinite;\n",
              "  }\n",
              "\n",
              "  @keyframes spin {\n",
              "    0% {\n",
              "      border-color: transparent;\n",
              "      border-bottom-color: var(--fill-color);\n",
              "      border-left-color: var(--fill-color);\n",
              "    }\n",
              "    20% {\n",
              "      border-color: transparent;\n",
              "      border-left-color: var(--fill-color);\n",
              "      border-top-color: var(--fill-color);\n",
              "    }\n",
              "    30% {\n",
              "      border-color: transparent;\n",
              "      border-left-color: var(--fill-color);\n",
              "      border-top-color: var(--fill-color);\n",
              "      border-right-color: var(--fill-color);\n",
              "    }\n",
              "    40% {\n",
              "      border-color: transparent;\n",
              "      border-right-color: var(--fill-color);\n",
              "      border-top-color: var(--fill-color);\n",
              "    }\n",
              "    60% {\n",
              "      border-color: transparent;\n",
              "      border-right-color: var(--fill-color);\n",
              "    }\n",
              "    80% {\n",
              "      border-color: transparent;\n",
              "      border-right-color: var(--fill-color);\n",
              "      border-bottom-color: var(--fill-color);\n",
              "    }\n",
              "    90% {\n",
              "      border-color: transparent;\n",
              "      border-bottom-color: var(--fill-color);\n",
              "    }\n",
              "  }\n",
              "</style>\n",
              "\n",
              "  <script>\n",
              "    async function quickchart(key) {\n",
              "      const quickchartButtonEl =\n",
              "        document.querySelector('#' + key + ' button');\n",
              "      quickchartButtonEl.disabled = true;  // To prevent multiple clicks.\n",
              "      quickchartButtonEl.classList.add('colab-df-spinner');\n",
              "      try {\n",
              "        const charts = await google.colab.kernel.invokeFunction(\n",
              "            'suggestCharts', [key], {});\n",
              "      } catch (error) {\n",
              "        console.error('Error during call to suggestCharts:', error);\n",
              "      }\n",
              "      quickchartButtonEl.classList.remove('colab-df-spinner');\n",
              "      quickchartButtonEl.classList.add('colab-df-quickchart-complete');\n",
              "    }\n",
              "    (() => {\n",
              "      let quickchartButtonEl =\n",
              "        document.querySelector('#df-0a78ef4a-abbe-42ee-8924-62491030d6db button');\n",
              "      quickchartButtonEl.style.display =\n",
              "        google.colab.kernel.accessAllowed ? 'block' : 'none';\n",
              "    })();\n",
              "  </script>\n",
              "</div>\n",
              "    </div>\n",
              "  </div>\n"
            ]
          },
          "metadata": {},
          "execution_count": 4
        }
      ]
    },
    {
      "cell_type": "markdown",
      "source": [
        "## 2.2 Visualizamos los 10 ultimos registros del dataset"
      ],
      "metadata": {
        "id": "W3r3uk6ZKnSB"
      }
    },
    {
      "cell_type": "code",
      "source": [
        "leads.tail(10)"
      ],
      "metadata": {
        "colab": {
          "base_uri": "https://localhost:8080/",
          "height": 574
        },
        "id": "v190hcObKnuH",
        "outputId": "3a45c89a-78fa-41a8-866a-45fa93df87bd"
      },
      "execution_count": 5,
      "outputs": [
        {
          "output_type": "execute_result",
          "data": {
            "text/plain": [
              "             Id          First Name              Use Case    Source Status  \\\n",
              "61629       NaN     Morgan6 Brown13  Educational Seminars   Inbound    New   \n",
              "61630       NaN     Drew16 Miller20                   NaN       NaN    New   \n",
              "61631       NaN                 NaN         Sports Events   Inbound    New   \n",
              "61632  3uee1zaj   Morgan20 Harris13      Corporate Events  Outbound    New   \n",
              "61633       NaN  Robin19 Thompson16  Educational Seminars   Inbound    New   \n",
              "61634  lpb8obv3                 NaN      Corporate Events  Outbound    New   \n",
              "61635  mzcq31rg                 NaN                   NaN  Outbound    New   \n",
              "61636  2ajg0z5w                 NaN      Corporate Events  Outbound    New   \n",
              "61637  k6wq2pi9                 NaN                   NaN  Outbound    New   \n",
              "61638  vez26u63                 NaN      Corporate Events   Inbound    New   \n",
              "\n",
              "      Discarded/Nurturing Reason Acquisition Campaign Created Date  Converted  \\\n",
              "61629                        NaN                 Home   2020-10-27          0   \n",
              "61630                        NaN                  NaN   2020-10-27          0   \n",
              "61631                        NaN                  NaN   2020-10-27          0   \n",
              "61632                        NaN       VirtualMeetups   2020-10-27          0   \n",
              "61633                        NaN                 Home   2020-10-27          0   \n",
              "61634                        NaN          Digital kit   2020-10-27          0   \n",
              "61635                        NaN              ArtFair   2020-10-27          0   \n",
              "61636                        NaN                  NaN   2020-10-27          0   \n",
              "61637                        NaN       VirtualMeetups   2020-10-27          0   \n",
              "61638                        NaN                  NaN   2020-10-27          0   \n",
              "\n",
              "            City  \n",
              "61629        NaN  \n",
              "61630        NaN  \n",
              "61631        NaN  \n",
              "61632    Chicago  \n",
              "61633        NaN  \n",
              "61634    Phoenix  \n",
              "61635        NaN  \n",
              "61636        NaN  \n",
              "61637  Charlotte  \n",
              "61638        NaN  "
            ],
            "text/html": [
              "\n",
              "  <div id=\"df-e1c0158b-0ee4-4322-9cc6-e911c3057df8\" class=\"colab-df-container\">\n",
              "    <div>\n",
              "<style scoped>\n",
              "    .dataframe tbody tr th:only-of-type {\n",
              "        vertical-align: middle;\n",
              "    }\n",
              "\n",
              "    .dataframe tbody tr th {\n",
              "        vertical-align: top;\n",
              "    }\n",
              "\n",
              "    .dataframe thead th {\n",
              "        text-align: right;\n",
              "    }\n",
              "</style>\n",
              "<table border=\"1\" class=\"dataframe\">\n",
              "  <thead>\n",
              "    <tr style=\"text-align: right;\">\n",
              "      <th></th>\n",
              "      <th>Id</th>\n",
              "      <th>First Name</th>\n",
              "      <th>Use Case</th>\n",
              "      <th>Source</th>\n",
              "      <th>Status</th>\n",
              "      <th>Discarded/Nurturing Reason</th>\n",
              "      <th>Acquisition Campaign</th>\n",
              "      <th>Created Date</th>\n",
              "      <th>Converted</th>\n",
              "      <th>City</th>\n",
              "    </tr>\n",
              "  </thead>\n",
              "  <tbody>\n",
              "    <tr>\n",
              "      <th>61629</th>\n",
              "      <td>NaN</td>\n",
              "      <td>Morgan6 Brown13</td>\n",
              "      <td>Educational Seminars</td>\n",
              "      <td>Inbound</td>\n",
              "      <td>New</td>\n",
              "      <td>NaN</td>\n",
              "      <td>Home</td>\n",
              "      <td>2020-10-27</td>\n",
              "      <td>0</td>\n",
              "      <td>NaN</td>\n",
              "    </tr>\n",
              "    <tr>\n",
              "      <th>61630</th>\n",
              "      <td>NaN</td>\n",
              "      <td>Drew16 Miller20</td>\n",
              "      <td>NaN</td>\n",
              "      <td>NaN</td>\n",
              "      <td>New</td>\n",
              "      <td>NaN</td>\n",
              "      <td>NaN</td>\n",
              "      <td>2020-10-27</td>\n",
              "      <td>0</td>\n",
              "      <td>NaN</td>\n",
              "    </tr>\n",
              "    <tr>\n",
              "      <th>61631</th>\n",
              "      <td>NaN</td>\n",
              "      <td>NaN</td>\n",
              "      <td>Sports Events</td>\n",
              "      <td>Inbound</td>\n",
              "      <td>New</td>\n",
              "      <td>NaN</td>\n",
              "      <td>NaN</td>\n",
              "      <td>2020-10-27</td>\n",
              "      <td>0</td>\n",
              "      <td>NaN</td>\n",
              "    </tr>\n",
              "    <tr>\n",
              "      <th>61632</th>\n",
              "      <td>3uee1zaj</td>\n",
              "      <td>Morgan20 Harris13</td>\n",
              "      <td>Corporate Events</td>\n",
              "      <td>Outbound</td>\n",
              "      <td>New</td>\n",
              "      <td>NaN</td>\n",
              "      <td>VirtualMeetups</td>\n",
              "      <td>2020-10-27</td>\n",
              "      <td>0</td>\n",
              "      <td>Chicago</td>\n",
              "    </tr>\n",
              "    <tr>\n",
              "      <th>61633</th>\n",
              "      <td>NaN</td>\n",
              "      <td>Robin19 Thompson16</td>\n",
              "      <td>Educational Seminars</td>\n",
              "      <td>Inbound</td>\n",
              "      <td>New</td>\n",
              "      <td>NaN</td>\n",
              "      <td>Home</td>\n",
              "      <td>2020-10-27</td>\n",
              "      <td>0</td>\n",
              "      <td>NaN</td>\n",
              "    </tr>\n",
              "    <tr>\n",
              "      <th>61634</th>\n",
              "      <td>lpb8obv3</td>\n",
              "      <td>NaN</td>\n",
              "      <td>Corporate Events</td>\n",
              "      <td>Outbound</td>\n",
              "      <td>New</td>\n",
              "      <td>NaN</td>\n",
              "      <td>Digital kit</td>\n",
              "      <td>2020-10-27</td>\n",
              "      <td>0</td>\n",
              "      <td>Phoenix</td>\n",
              "    </tr>\n",
              "    <tr>\n",
              "      <th>61635</th>\n",
              "      <td>mzcq31rg</td>\n",
              "      <td>NaN</td>\n",
              "      <td>NaN</td>\n",
              "      <td>Outbound</td>\n",
              "      <td>New</td>\n",
              "      <td>NaN</td>\n",
              "      <td>ArtFair</td>\n",
              "      <td>2020-10-27</td>\n",
              "      <td>0</td>\n",
              "      <td>NaN</td>\n",
              "    </tr>\n",
              "    <tr>\n",
              "      <th>61636</th>\n",
              "      <td>2ajg0z5w</td>\n",
              "      <td>NaN</td>\n",
              "      <td>Corporate Events</td>\n",
              "      <td>Outbound</td>\n",
              "      <td>New</td>\n",
              "      <td>NaN</td>\n",
              "      <td>NaN</td>\n",
              "      <td>2020-10-27</td>\n",
              "      <td>0</td>\n",
              "      <td>NaN</td>\n",
              "    </tr>\n",
              "    <tr>\n",
              "      <th>61637</th>\n",
              "      <td>k6wq2pi9</td>\n",
              "      <td>NaN</td>\n",
              "      <td>NaN</td>\n",
              "      <td>Outbound</td>\n",
              "      <td>New</td>\n",
              "      <td>NaN</td>\n",
              "      <td>VirtualMeetups</td>\n",
              "      <td>2020-10-27</td>\n",
              "      <td>0</td>\n",
              "      <td>Charlotte</td>\n",
              "    </tr>\n",
              "    <tr>\n",
              "      <th>61638</th>\n",
              "      <td>vez26u63</td>\n",
              "      <td>NaN</td>\n",
              "      <td>Corporate Events</td>\n",
              "      <td>Inbound</td>\n",
              "      <td>New</td>\n",
              "      <td>NaN</td>\n",
              "      <td>NaN</td>\n",
              "      <td>2020-10-27</td>\n",
              "      <td>0</td>\n",
              "      <td>NaN</td>\n",
              "    </tr>\n",
              "  </tbody>\n",
              "</table>\n",
              "</div>\n",
              "    <div class=\"colab-df-buttons\">\n",
              "\n",
              "  <div class=\"colab-df-container\">\n",
              "    <button class=\"colab-df-convert\" onclick=\"convertToInteractive('df-e1c0158b-0ee4-4322-9cc6-e911c3057df8')\"\n",
              "            title=\"Convert this dataframe to an interactive table.\"\n",
              "            style=\"display:none;\">\n",
              "\n",
              "  <svg xmlns=\"http://www.w3.org/2000/svg\" height=\"24px\" viewBox=\"0 -960 960 960\">\n",
              "    <path d=\"M120-120v-720h720v720H120Zm60-500h600v-160H180v160Zm220 220h160v-160H400v160Zm0 220h160v-160H400v160ZM180-400h160v-160H180v160Zm440 0h160v-160H620v160ZM180-180h160v-160H180v160Zm440 0h160v-160H620v160Z\"/>\n",
              "  </svg>\n",
              "    </button>\n",
              "\n",
              "  <style>\n",
              "    .colab-df-container {\n",
              "      display:flex;\n",
              "      gap: 12px;\n",
              "    }\n",
              "\n",
              "    .colab-df-convert {\n",
              "      background-color: #E8F0FE;\n",
              "      border: none;\n",
              "      border-radius: 50%;\n",
              "      cursor: pointer;\n",
              "      display: none;\n",
              "      fill: #1967D2;\n",
              "      height: 32px;\n",
              "      padding: 0 0 0 0;\n",
              "      width: 32px;\n",
              "    }\n",
              "\n",
              "    .colab-df-convert:hover {\n",
              "      background-color: #E2EBFA;\n",
              "      box-shadow: 0px 1px 2px rgba(60, 64, 67, 0.3), 0px 1px 3px 1px rgba(60, 64, 67, 0.15);\n",
              "      fill: #174EA6;\n",
              "    }\n",
              "\n",
              "    .colab-df-buttons div {\n",
              "      margin-bottom: 4px;\n",
              "    }\n",
              "\n",
              "    [theme=dark] .colab-df-convert {\n",
              "      background-color: #3B4455;\n",
              "      fill: #D2E3FC;\n",
              "    }\n",
              "\n",
              "    [theme=dark] .colab-df-convert:hover {\n",
              "      background-color: #434B5C;\n",
              "      box-shadow: 0px 1px 3px 1px rgba(0, 0, 0, 0.15);\n",
              "      filter: drop-shadow(0px 1px 2px rgba(0, 0, 0, 0.3));\n",
              "      fill: #FFFFFF;\n",
              "    }\n",
              "  </style>\n",
              "\n",
              "    <script>\n",
              "      const buttonEl =\n",
              "        document.querySelector('#df-e1c0158b-0ee4-4322-9cc6-e911c3057df8 button.colab-df-convert');\n",
              "      buttonEl.style.display =\n",
              "        google.colab.kernel.accessAllowed ? 'block' : 'none';\n",
              "\n",
              "      async function convertToInteractive(key) {\n",
              "        const element = document.querySelector('#df-e1c0158b-0ee4-4322-9cc6-e911c3057df8');\n",
              "        const dataTable =\n",
              "          await google.colab.kernel.invokeFunction('convertToInteractive',\n",
              "                                                    [key], {});\n",
              "        if (!dataTable) return;\n",
              "\n",
              "        const docLinkHtml = 'Like what you see? Visit the ' +\n",
              "          '<a target=\"_blank\" href=https://colab.research.google.com/notebooks/data_table.ipynb>data table notebook</a>'\n",
              "          + ' to learn more about interactive tables.';\n",
              "        element.innerHTML = '';\n",
              "        dataTable['output_type'] = 'display_data';\n",
              "        await google.colab.output.renderOutput(dataTable, element);\n",
              "        const docLink = document.createElement('div');\n",
              "        docLink.innerHTML = docLinkHtml;\n",
              "        element.appendChild(docLink);\n",
              "      }\n",
              "    </script>\n",
              "  </div>\n",
              "\n",
              "\n",
              "<div id=\"df-c893dac0-4999-47a4-8792-1117b3f9956e\">\n",
              "  <button class=\"colab-df-quickchart\" onclick=\"quickchart('df-c893dac0-4999-47a4-8792-1117b3f9956e')\"\n",
              "            title=\"Suggest charts\"\n",
              "            style=\"display:none;\">\n",
              "\n",
              "<svg xmlns=\"http://www.w3.org/2000/svg\" height=\"24px\"viewBox=\"0 0 24 24\"\n",
              "     width=\"24px\">\n",
              "    <g>\n",
              "        <path d=\"M19 3H5c-1.1 0-2 .9-2 2v14c0 1.1.9 2 2 2h14c1.1 0 2-.9 2-2V5c0-1.1-.9-2-2-2zM9 17H7v-7h2v7zm4 0h-2V7h2v10zm4 0h-2v-4h2v4z\"/>\n",
              "    </g>\n",
              "</svg>\n",
              "  </button>\n",
              "\n",
              "<style>\n",
              "  .colab-df-quickchart {\n",
              "      --bg-color: #E8F0FE;\n",
              "      --fill-color: #1967D2;\n",
              "      --hover-bg-color: #E2EBFA;\n",
              "      --hover-fill-color: #174EA6;\n",
              "      --disabled-fill-color: #AAA;\n",
              "      --disabled-bg-color: #DDD;\n",
              "  }\n",
              "\n",
              "  [theme=dark] .colab-df-quickchart {\n",
              "      --bg-color: #3B4455;\n",
              "      --fill-color: #D2E3FC;\n",
              "      --hover-bg-color: #434B5C;\n",
              "      --hover-fill-color: #FFFFFF;\n",
              "      --disabled-bg-color: #3B4455;\n",
              "      --disabled-fill-color: #666;\n",
              "  }\n",
              "\n",
              "  .colab-df-quickchart {\n",
              "    background-color: var(--bg-color);\n",
              "    border: none;\n",
              "    border-radius: 50%;\n",
              "    cursor: pointer;\n",
              "    display: none;\n",
              "    fill: var(--fill-color);\n",
              "    height: 32px;\n",
              "    padding: 0;\n",
              "    width: 32px;\n",
              "  }\n",
              "\n",
              "  .colab-df-quickchart:hover {\n",
              "    background-color: var(--hover-bg-color);\n",
              "    box-shadow: 0 1px 2px rgba(60, 64, 67, 0.3), 0 1px 3px 1px rgba(60, 64, 67, 0.15);\n",
              "    fill: var(--button-hover-fill-color);\n",
              "  }\n",
              "\n",
              "  .colab-df-quickchart-complete:disabled,\n",
              "  .colab-df-quickchart-complete:disabled:hover {\n",
              "    background-color: var(--disabled-bg-color);\n",
              "    fill: var(--disabled-fill-color);\n",
              "    box-shadow: none;\n",
              "  }\n",
              "\n",
              "  .colab-df-spinner {\n",
              "    border: 2px solid var(--fill-color);\n",
              "    border-color: transparent;\n",
              "    border-bottom-color: var(--fill-color);\n",
              "    animation:\n",
              "      spin 1s steps(1) infinite;\n",
              "  }\n",
              "\n",
              "  @keyframes spin {\n",
              "    0% {\n",
              "      border-color: transparent;\n",
              "      border-bottom-color: var(--fill-color);\n",
              "      border-left-color: var(--fill-color);\n",
              "    }\n",
              "    20% {\n",
              "      border-color: transparent;\n",
              "      border-left-color: var(--fill-color);\n",
              "      border-top-color: var(--fill-color);\n",
              "    }\n",
              "    30% {\n",
              "      border-color: transparent;\n",
              "      border-left-color: var(--fill-color);\n",
              "      border-top-color: var(--fill-color);\n",
              "      border-right-color: var(--fill-color);\n",
              "    }\n",
              "    40% {\n",
              "      border-color: transparent;\n",
              "      border-right-color: var(--fill-color);\n",
              "      border-top-color: var(--fill-color);\n",
              "    }\n",
              "    60% {\n",
              "      border-color: transparent;\n",
              "      border-right-color: var(--fill-color);\n",
              "    }\n",
              "    80% {\n",
              "      border-color: transparent;\n",
              "      border-right-color: var(--fill-color);\n",
              "      border-bottom-color: var(--fill-color);\n",
              "    }\n",
              "    90% {\n",
              "      border-color: transparent;\n",
              "      border-bottom-color: var(--fill-color);\n",
              "    }\n",
              "  }\n",
              "</style>\n",
              "\n",
              "  <script>\n",
              "    async function quickchart(key) {\n",
              "      const quickchartButtonEl =\n",
              "        document.querySelector('#' + key + ' button');\n",
              "      quickchartButtonEl.disabled = true;  // To prevent multiple clicks.\n",
              "      quickchartButtonEl.classList.add('colab-df-spinner');\n",
              "      try {\n",
              "        const charts = await google.colab.kernel.invokeFunction(\n",
              "            'suggestCharts', [key], {});\n",
              "      } catch (error) {\n",
              "        console.error('Error during call to suggestCharts:', error);\n",
              "      }\n",
              "      quickchartButtonEl.classList.remove('colab-df-spinner');\n",
              "      quickchartButtonEl.classList.add('colab-df-quickchart-complete');\n",
              "    }\n",
              "    (() => {\n",
              "      let quickchartButtonEl =\n",
              "        document.querySelector('#df-c893dac0-4999-47a4-8792-1117b3f9956e button');\n",
              "      quickchartButtonEl.style.display =\n",
              "        google.colab.kernel.accessAllowed ? 'block' : 'none';\n",
              "    })();\n",
              "  </script>\n",
              "</div>\n",
              "    </div>\n",
              "  </div>\n"
            ]
          },
          "metadata": {},
          "execution_count": 5
        }
      ]
    },
    {
      "cell_type": "markdown",
      "source": [
        "# 2.3 Visualizar la forma del dataset"
      ],
      "metadata": {
        "id": "tUAbKmBfKsMK"
      }
    },
    {
      "cell_type": "code",
      "source": [
        "leads.shape"
      ],
      "metadata": {
        "colab": {
          "base_uri": "https://localhost:8080/"
        },
        "id": "CasOYoNHKsvj",
        "outputId": "b83d1abd-a37b-4f0b-c90e-073631390649"
      },
      "execution_count": 6,
      "outputs": [
        {
          "output_type": "execute_result",
          "data": {
            "text/plain": [
              "(61639, 10)"
            ]
          },
          "metadata": {},
          "execution_count": 6
        }
      ]
    },
    {
      "cell_type": "markdown",
      "source": [
        "- Hay 61639 registros o filas\n",
        "- Hay 10 variables o columnas"
      ],
      "metadata": {
        "id": "rmWixbpcKyBB"
      }
    },
    {
      "cell_type": "markdown",
      "source": [
        "# 2.4 Visualizar los tipos de variables y columnas del dataset"
      ],
      "metadata": {
        "id": "El7h_uylK31H"
      }
    },
    {
      "cell_type": "code",
      "source": [
        "leads.dtypes"
      ],
      "metadata": {
        "colab": {
          "base_uri": "https://localhost:8080/"
        },
        "id": "YnVNo-NFKkfq",
        "outputId": "3f029581-8f56-4984-e007-bcb6ce2eedc8"
      },
      "execution_count": 7,
      "outputs": [
        {
          "output_type": "execute_result",
          "data": {
            "text/plain": [
              "Id                            object\n",
              "First Name                    object\n",
              "Use Case                      object\n",
              "Source                        object\n",
              "Status                        object\n",
              "Discarded/Nurturing Reason    object\n",
              "Acquisition Campaign          object\n",
              "Created Date                  object\n",
              "Converted                      int64\n",
              "City                          object\n",
              "dtype: object"
            ]
          },
          "metadata": {},
          "execution_count": 7
        }
      ]
    },
    {
      "cell_type": "markdown",
      "source": [
        "- Hay 1 variables numerica y 9 variables tipo object"
      ],
      "metadata": {
        "id": "xyEzZTpKMAiL"
      }
    },
    {
      "cell_type": "code",
      "source": [
        "leads.columns"
      ],
      "metadata": {
        "colab": {
          "base_uri": "https://localhost:8080/"
        },
        "id": "T1nlM_fLMIjK",
        "outputId": "1888f673-3ae5-434d-a7fe-d7a1ecae2f3d"
      },
      "execution_count": 8,
      "outputs": [
        {
          "output_type": "execute_result",
          "data": {
            "text/plain": [
              "Index(['Id', 'First Name', 'Use Case', 'Source', 'Status',\n",
              "       'Discarded/Nurturing Reason', 'Acquisition Campaign', 'Created Date',\n",
              "       'Converted', 'City'],\n",
              "      dtype='object')"
            ]
          },
          "metadata": {},
          "execution_count": 8
        }
      ]
    },
    {
      "cell_type": "markdown",
      "source": [
        "- Id: Un identificador único para cada cliente o lead.\n",
        "\n",
        "- First Name: El nombre del cliente o lead.\n",
        "\n",
        "- Use Case: El caso de uso al que está asociado el lead.\n",
        "\n",
        "- Source: La fuente desde la cual se originó el lead.\n",
        "\n",
        "- Status: El estado actual del lead.\n",
        "\n",
        "- Discarded/Nurturing Reason: Razón por la cual el lead fue descartado o está siendo nutrido.\n",
        "\n",
        "- Acquisition Campaign: La campaña de adquisición a la que está asociado el lead.\n",
        "\n",
        "- Created Date: La fecha en que se creó el lead.\n",
        "\n",
        "- Converted: Una variable binaria (0 o 1) que indica si el lead se ha convertido (1) o no (0).\n",
        "\n",
        "- City: La ciudad asociada al lead.\n",
        "\n"
      ],
      "metadata": {
        "id": "Li-y1KbQLgzb"
      }
    },
    {
      "cell_type": "code",
      "source": [
        "leads.info()"
      ],
      "metadata": {
        "colab": {
          "base_uri": "https://localhost:8080/"
        },
        "id": "u3gG-OwMK8Mi",
        "outputId": "ae1872e2-917d-4a38-b754-d775307013e4"
      },
      "execution_count": 9,
      "outputs": [
        {
          "output_type": "stream",
          "name": "stdout",
          "text": [
            "<class 'pandas.core.frame.DataFrame'>\n",
            "RangeIndex: 61639 entries, 0 to 61638\n",
            "Data columns (total 10 columns):\n",
            " #   Column                      Non-Null Count  Dtype \n",
            "---  ------                      --------------  ----- \n",
            " 0   Id                          43972 non-null  object\n",
            " 1   First Name                  53240 non-null  object\n",
            " 2   Use Case                    44918 non-null  object\n",
            " 3   Source                      60293 non-null  object\n",
            " 4   Status                      61639 non-null  object\n",
            " 5   Discarded/Nurturing Reason  45169 non-null  object\n",
            " 6   Acquisition Campaign        25047 non-null  object\n",
            " 7   Created Date                61639 non-null  object\n",
            " 8   Converted                   61639 non-null  int64 \n",
            " 9   City                        34929 non-null  object\n",
            "dtypes: int64(1), object(9)\n",
            "memory usage: 4.7+ MB\n"
          ]
        }
      ]
    },
    {
      "cell_type": "markdown",
      "source": [
        "# 2.5 Verificamos si existen datos nulos en el dataset"
      ],
      "metadata": {
        "id": "IZpbsmkVMY8P"
      }
    },
    {
      "cell_type": "code",
      "source": [
        "leads.isnull().sum()"
      ],
      "metadata": {
        "colab": {
          "base_uri": "https://localhost:8080/"
        },
        "id": "56oLkVe0MPfA",
        "outputId": "fd3fb1d2-ec80-4c25-ea65-ca126d49ee20"
      },
      "execution_count": 10,
      "outputs": [
        {
          "output_type": "execute_result",
          "data": {
            "text/plain": [
              "Id                            17667\n",
              "First Name                     8399\n",
              "Use Case                      16721\n",
              "Source                         1346\n",
              "Status                            0\n",
              "Discarded/Nurturing Reason    16470\n",
              "Acquisition Campaign          36592\n",
              "Created Date                      0\n",
              "Converted                         0\n",
              "City                          26710\n",
              "dtype: int64"
            ]
          },
          "metadata": {},
          "execution_count": 10
        }
      ]
    },
    {
      "cell_type": "markdown",
      "source": [
        "- Se observo que hay bastantes datos nulos, en muchas de las variables, es importante apreciar que el identificador del cliente tiene 17667 registros nulos, lo cual es un problema debido a que ese id, es la manera de poder asociarlo con otras fuentes de datos."
      ],
      "metadata": {
        "id": "TxylPoWTMx1c"
      }
    },
    {
      "cell_type": "markdown",
      "source": [
        "# 2.6 Verificamos hay registros duplicados en el dataset"
      ],
      "metadata": {
        "id": "YCQmGVMENOaC"
      }
    },
    {
      "cell_type": "code",
      "source": [
        "duplicados = leads.duplicated(keep=False)\n",
        "duplicados_filas = leads[duplicados]\n",
        "print(\"Filas duplicadas:\")\n",
        "duplicados_filas"
      ],
      "metadata": {
        "colab": {
          "base_uri": "https://localhost:8080/",
          "height": 632
        },
        "id": "UPrGohnPMkYx",
        "outputId": "67d741e9-6ca3-473a-fe8a-a66bb373ae12"
      },
      "execution_count": 11,
      "outputs": [
        {
          "output_type": "stream",
          "name": "stdout",
          "text": [
            "Filas duplicadas:\n"
          ]
        },
        {
          "output_type": "execute_result",
          "data": {
            "text/plain": [
              "        Id First Name       Use Case   Source     Status  \\\n",
              "7      NaN        NaN  Sports Events  Inbound  Discarded   \n",
              "34     NaN        NaN  Sports Events  Inbound  Discarded   \n",
              "39     NaN        NaN  Sports Events  Inbound  Discarded   \n",
              "48     NaN        NaN  Sports Events  Inbound  Discarded   \n",
              "92     NaN        NaN  Sports Events  Inbound        New   \n",
              "...    ...        ...            ...      ...        ...   \n",
              "61477  NaN        NaN  Sports Events  Inbound  Discarded   \n",
              "61479  NaN        NaN  Sports Events  Inbound  Discarded   \n",
              "61515  NaN        NaN  Sports Events  Inbound  Nurturing   \n",
              "61594  NaN        NaN  Sports Events  Inbound        New   \n",
              "61631  NaN        NaN  Sports Events  Inbound        New   \n",
              "\n",
              "      Discarded/Nurturing Reason Acquisition Campaign Created Date  Converted  \\\n",
              "7                     Not Target                  NaN   2018-10-17          0   \n",
              "34                    Not Target                  NaN   2018-10-17          0   \n",
              "39                    Not Target                  NaN   2018-01-01          0   \n",
              "48                    Not Target                  NaN   2018-01-01          0   \n",
              "92                           NaN                  NaN   2019-04-28          0   \n",
              "...                          ...                  ...          ...        ...   \n",
              "61477                 Not Target                  NaN   2020-09-26          0   \n",
              "61479             Duplicate/Test                  NaN   2020-09-26          0   \n",
              "61515       Not the right moment                  NaN   2020-09-26          0   \n",
              "61594                        NaN                  NaN   2020-10-27          0   \n",
              "61631                        NaN                  NaN   2020-10-27          0   \n",
              "\n",
              "      City  \n",
              "7      NaN  \n",
              "34     NaN  \n",
              "39     NaN  \n",
              "48     NaN  \n",
              "92     NaN  \n",
              "...    ...  \n",
              "61477  NaN  \n",
              "61479  NaN  \n",
              "61515  NaN  \n",
              "61594  NaN  \n",
              "61631  NaN  \n",
              "\n",
              "[2221 rows x 10 columns]"
            ],
            "text/html": [
              "\n",
              "  <div id=\"df-ded5dbeb-bcbc-4372-b31b-9f71b03bd937\" class=\"colab-df-container\">\n",
              "    <div>\n",
              "<style scoped>\n",
              "    .dataframe tbody tr th:only-of-type {\n",
              "        vertical-align: middle;\n",
              "    }\n",
              "\n",
              "    .dataframe tbody tr th {\n",
              "        vertical-align: top;\n",
              "    }\n",
              "\n",
              "    .dataframe thead th {\n",
              "        text-align: right;\n",
              "    }\n",
              "</style>\n",
              "<table border=\"1\" class=\"dataframe\">\n",
              "  <thead>\n",
              "    <tr style=\"text-align: right;\">\n",
              "      <th></th>\n",
              "      <th>Id</th>\n",
              "      <th>First Name</th>\n",
              "      <th>Use Case</th>\n",
              "      <th>Source</th>\n",
              "      <th>Status</th>\n",
              "      <th>Discarded/Nurturing Reason</th>\n",
              "      <th>Acquisition Campaign</th>\n",
              "      <th>Created Date</th>\n",
              "      <th>Converted</th>\n",
              "      <th>City</th>\n",
              "    </tr>\n",
              "  </thead>\n",
              "  <tbody>\n",
              "    <tr>\n",
              "      <th>7</th>\n",
              "      <td>NaN</td>\n",
              "      <td>NaN</td>\n",
              "      <td>Sports Events</td>\n",
              "      <td>Inbound</td>\n",
              "      <td>Discarded</td>\n",
              "      <td>Not Target</td>\n",
              "      <td>NaN</td>\n",
              "      <td>2018-10-17</td>\n",
              "      <td>0</td>\n",
              "      <td>NaN</td>\n",
              "    </tr>\n",
              "    <tr>\n",
              "      <th>34</th>\n",
              "      <td>NaN</td>\n",
              "      <td>NaN</td>\n",
              "      <td>Sports Events</td>\n",
              "      <td>Inbound</td>\n",
              "      <td>Discarded</td>\n",
              "      <td>Not Target</td>\n",
              "      <td>NaN</td>\n",
              "      <td>2018-10-17</td>\n",
              "      <td>0</td>\n",
              "      <td>NaN</td>\n",
              "    </tr>\n",
              "    <tr>\n",
              "      <th>39</th>\n",
              "      <td>NaN</td>\n",
              "      <td>NaN</td>\n",
              "      <td>Sports Events</td>\n",
              "      <td>Inbound</td>\n",
              "      <td>Discarded</td>\n",
              "      <td>Not Target</td>\n",
              "      <td>NaN</td>\n",
              "      <td>2018-01-01</td>\n",
              "      <td>0</td>\n",
              "      <td>NaN</td>\n",
              "    </tr>\n",
              "    <tr>\n",
              "      <th>48</th>\n",
              "      <td>NaN</td>\n",
              "      <td>NaN</td>\n",
              "      <td>Sports Events</td>\n",
              "      <td>Inbound</td>\n",
              "      <td>Discarded</td>\n",
              "      <td>Not Target</td>\n",
              "      <td>NaN</td>\n",
              "      <td>2018-01-01</td>\n",
              "      <td>0</td>\n",
              "      <td>NaN</td>\n",
              "    </tr>\n",
              "    <tr>\n",
              "      <th>92</th>\n",
              "      <td>NaN</td>\n",
              "      <td>NaN</td>\n",
              "      <td>Sports Events</td>\n",
              "      <td>Inbound</td>\n",
              "      <td>New</td>\n",
              "      <td>NaN</td>\n",
              "      <td>NaN</td>\n",
              "      <td>2019-04-28</td>\n",
              "      <td>0</td>\n",
              "      <td>NaN</td>\n",
              "    </tr>\n",
              "    <tr>\n",
              "      <th>...</th>\n",
              "      <td>...</td>\n",
              "      <td>...</td>\n",
              "      <td>...</td>\n",
              "      <td>...</td>\n",
              "      <td>...</td>\n",
              "      <td>...</td>\n",
              "      <td>...</td>\n",
              "      <td>...</td>\n",
              "      <td>...</td>\n",
              "      <td>...</td>\n",
              "    </tr>\n",
              "    <tr>\n",
              "      <th>61477</th>\n",
              "      <td>NaN</td>\n",
              "      <td>NaN</td>\n",
              "      <td>Sports Events</td>\n",
              "      <td>Inbound</td>\n",
              "      <td>Discarded</td>\n",
              "      <td>Not Target</td>\n",
              "      <td>NaN</td>\n",
              "      <td>2020-09-26</td>\n",
              "      <td>0</td>\n",
              "      <td>NaN</td>\n",
              "    </tr>\n",
              "    <tr>\n",
              "      <th>61479</th>\n",
              "      <td>NaN</td>\n",
              "      <td>NaN</td>\n",
              "      <td>Sports Events</td>\n",
              "      <td>Inbound</td>\n",
              "      <td>Discarded</td>\n",
              "      <td>Duplicate/Test</td>\n",
              "      <td>NaN</td>\n",
              "      <td>2020-09-26</td>\n",
              "      <td>0</td>\n",
              "      <td>NaN</td>\n",
              "    </tr>\n",
              "    <tr>\n",
              "      <th>61515</th>\n",
              "      <td>NaN</td>\n",
              "      <td>NaN</td>\n",
              "      <td>Sports Events</td>\n",
              "      <td>Inbound</td>\n",
              "      <td>Nurturing</td>\n",
              "      <td>Not the right moment</td>\n",
              "      <td>NaN</td>\n",
              "      <td>2020-09-26</td>\n",
              "      <td>0</td>\n",
              "      <td>NaN</td>\n",
              "    </tr>\n",
              "    <tr>\n",
              "      <th>61594</th>\n",
              "      <td>NaN</td>\n",
              "      <td>NaN</td>\n",
              "      <td>Sports Events</td>\n",
              "      <td>Inbound</td>\n",
              "      <td>New</td>\n",
              "      <td>NaN</td>\n",
              "      <td>NaN</td>\n",
              "      <td>2020-10-27</td>\n",
              "      <td>0</td>\n",
              "      <td>NaN</td>\n",
              "    </tr>\n",
              "    <tr>\n",
              "      <th>61631</th>\n",
              "      <td>NaN</td>\n",
              "      <td>NaN</td>\n",
              "      <td>Sports Events</td>\n",
              "      <td>Inbound</td>\n",
              "      <td>New</td>\n",
              "      <td>NaN</td>\n",
              "      <td>NaN</td>\n",
              "      <td>2020-10-27</td>\n",
              "      <td>0</td>\n",
              "      <td>NaN</td>\n",
              "    </tr>\n",
              "  </tbody>\n",
              "</table>\n",
              "<p>2221 rows × 10 columns</p>\n",
              "</div>\n",
              "    <div class=\"colab-df-buttons\">\n",
              "\n",
              "  <div class=\"colab-df-container\">\n",
              "    <button class=\"colab-df-convert\" onclick=\"convertToInteractive('df-ded5dbeb-bcbc-4372-b31b-9f71b03bd937')\"\n",
              "            title=\"Convert this dataframe to an interactive table.\"\n",
              "            style=\"display:none;\">\n",
              "\n",
              "  <svg xmlns=\"http://www.w3.org/2000/svg\" height=\"24px\" viewBox=\"0 -960 960 960\">\n",
              "    <path d=\"M120-120v-720h720v720H120Zm60-500h600v-160H180v160Zm220 220h160v-160H400v160Zm0 220h160v-160H400v160ZM180-400h160v-160H180v160Zm440 0h160v-160H620v160ZM180-180h160v-160H180v160Zm440 0h160v-160H620v160Z\"/>\n",
              "  </svg>\n",
              "    </button>\n",
              "\n",
              "  <style>\n",
              "    .colab-df-container {\n",
              "      display:flex;\n",
              "      gap: 12px;\n",
              "    }\n",
              "\n",
              "    .colab-df-convert {\n",
              "      background-color: #E8F0FE;\n",
              "      border: none;\n",
              "      border-radius: 50%;\n",
              "      cursor: pointer;\n",
              "      display: none;\n",
              "      fill: #1967D2;\n",
              "      height: 32px;\n",
              "      padding: 0 0 0 0;\n",
              "      width: 32px;\n",
              "    }\n",
              "\n",
              "    .colab-df-convert:hover {\n",
              "      background-color: #E2EBFA;\n",
              "      box-shadow: 0px 1px 2px rgba(60, 64, 67, 0.3), 0px 1px 3px 1px rgba(60, 64, 67, 0.15);\n",
              "      fill: #174EA6;\n",
              "    }\n",
              "\n",
              "    .colab-df-buttons div {\n",
              "      margin-bottom: 4px;\n",
              "    }\n",
              "\n",
              "    [theme=dark] .colab-df-convert {\n",
              "      background-color: #3B4455;\n",
              "      fill: #D2E3FC;\n",
              "    }\n",
              "\n",
              "    [theme=dark] .colab-df-convert:hover {\n",
              "      background-color: #434B5C;\n",
              "      box-shadow: 0px 1px 3px 1px rgba(0, 0, 0, 0.15);\n",
              "      filter: drop-shadow(0px 1px 2px rgba(0, 0, 0, 0.3));\n",
              "      fill: #FFFFFF;\n",
              "    }\n",
              "  </style>\n",
              "\n",
              "    <script>\n",
              "      const buttonEl =\n",
              "        document.querySelector('#df-ded5dbeb-bcbc-4372-b31b-9f71b03bd937 button.colab-df-convert');\n",
              "      buttonEl.style.display =\n",
              "        google.colab.kernel.accessAllowed ? 'block' : 'none';\n",
              "\n",
              "      async function convertToInteractive(key) {\n",
              "        const element = document.querySelector('#df-ded5dbeb-bcbc-4372-b31b-9f71b03bd937');\n",
              "        const dataTable =\n",
              "          await google.colab.kernel.invokeFunction('convertToInteractive',\n",
              "                                                    [key], {});\n",
              "        if (!dataTable) return;\n",
              "\n",
              "        const docLinkHtml = 'Like what you see? Visit the ' +\n",
              "          '<a target=\"_blank\" href=https://colab.research.google.com/notebooks/data_table.ipynb>data table notebook</a>'\n",
              "          + ' to learn more about interactive tables.';\n",
              "        element.innerHTML = '';\n",
              "        dataTable['output_type'] = 'display_data';\n",
              "        await google.colab.output.renderOutput(dataTable, element);\n",
              "        const docLink = document.createElement('div');\n",
              "        docLink.innerHTML = docLinkHtml;\n",
              "        element.appendChild(docLink);\n",
              "      }\n",
              "    </script>\n",
              "  </div>\n",
              "\n",
              "\n",
              "<div id=\"df-4f989afd-bf0b-48f7-b6e4-37f27e6cdb33\">\n",
              "  <button class=\"colab-df-quickchart\" onclick=\"quickchart('df-4f989afd-bf0b-48f7-b6e4-37f27e6cdb33')\"\n",
              "            title=\"Suggest charts\"\n",
              "            style=\"display:none;\">\n",
              "\n",
              "<svg xmlns=\"http://www.w3.org/2000/svg\" height=\"24px\"viewBox=\"0 0 24 24\"\n",
              "     width=\"24px\">\n",
              "    <g>\n",
              "        <path d=\"M19 3H5c-1.1 0-2 .9-2 2v14c0 1.1.9 2 2 2h14c1.1 0 2-.9 2-2V5c0-1.1-.9-2-2-2zM9 17H7v-7h2v7zm4 0h-2V7h2v10zm4 0h-2v-4h2v4z\"/>\n",
              "    </g>\n",
              "</svg>\n",
              "  </button>\n",
              "\n",
              "<style>\n",
              "  .colab-df-quickchart {\n",
              "      --bg-color: #E8F0FE;\n",
              "      --fill-color: #1967D2;\n",
              "      --hover-bg-color: #E2EBFA;\n",
              "      --hover-fill-color: #174EA6;\n",
              "      --disabled-fill-color: #AAA;\n",
              "      --disabled-bg-color: #DDD;\n",
              "  }\n",
              "\n",
              "  [theme=dark] .colab-df-quickchart {\n",
              "      --bg-color: #3B4455;\n",
              "      --fill-color: #D2E3FC;\n",
              "      --hover-bg-color: #434B5C;\n",
              "      --hover-fill-color: #FFFFFF;\n",
              "      --disabled-bg-color: #3B4455;\n",
              "      --disabled-fill-color: #666;\n",
              "  }\n",
              "\n",
              "  .colab-df-quickchart {\n",
              "    background-color: var(--bg-color);\n",
              "    border: none;\n",
              "    border-radius: 50%;\n",
              "    cursor: pointer;\n",
              "    display: none;\n",
              "    fill: var(--fill-color);\n",
              "    height: 32px;\n",
              "    padding: 0;\n",
              "    width: 32px;\n",
              "  }\n",
              "\n",
              "  .colab-df-quickchart:hover {\n",
              "    background-color: var(--hover-bg-color);\n",
              "    box-shadow: 0 1px 2px rgba(60, 64, 67, 0.3), 0 1px 3px 1px rgba(60, 64, 67, 0.15);\n",
              "    fill: var(--button-hover-fill-color);\n",
              "  }\n",
              "\n",
              "  .colab-df-quickchart-complete:disabled,\n",
              "  .colab-df-quickchart-complete:disabled:hover {\n",
              "    background-color: var(--disabled-bg-color);\n",
              "    fill: var(--disabled-fill-color);\n",
              "    box-shadow: none;\n",
              "  }\n",
              "\n",
              "  .colab-df-spinner {\n",
              "    border: 2px solid var(--fill-color);\n",
              "    border-color: transparent;\n",
              "    border-bottom-color: var(--fill-color);\n",
              "    animation:\n",
              "      spin 1s steps(1) infinite;\n",
              "  }\n",
              "\n",
              "  @keyframes spin {\n",
              "    0% {\n",
              "      border-color: transparent;\n",
              "      border-bottom-color: var(--fill-color);\n",
              "      border-left-color: var(--fill-color);\n",
              "    }\n",
              "    20% {\n",
              "      border-color: transparent;\n",
              "      border-left-color: var(--fill-color);\n",
              "      border-top-color: var(--fill-color);\n",
              "    }\n",
              "    30% {\n",
              "      border-color: transparent;\n",
              "      border-left-color: var(--fill-color);\n",
              "      border-top-color: var(--fill-color);\n",
              "      border-right-color: var(--fill-color);\n",
              "    }\n",
              "    40% {\n",
              "      border-color: transparent;\n",
              "      border-right-color: var(--fill-color);\n",
              "      border-top-color: var(--fill-color);\n",
              "    }\n",
              "    60% {\n",
              "      border-color: transparent;\n",
              "      border-right-color: var(--fill-color);\n",
              "    }\n",
              "    80% {\n",
              "      border-color: transparent;\n",
              "      border-right-color: var(--fill-color);\n",
              "      border-bottom-color: var(--fill-color);\n",
              "    }\n",
              "    90% {\n",
              "      border-color: transparent;\n",
              "      border-bottom-color: var(--fill-color);\n",
              "    }\n",
              "  }\n",
              "</style>\n",
              "\n",
              "  <script>\n",
              "    async function quickchart(key) {\n",
              "      const quickchartButtonEl =\n",
              "        document.querySelector('#' + key + ' button');\n",
              "      quickchartButtonEl.disabled = true;  // To prevent multiple clicks.\n",
              "      quickchartButtonEl.classList.add('colab-df-spinner');\n",
              "      try {\n",
              "        const charts = await google.colab.kernel.invokeFunction(\n",
              "            'suggestCharts', [key], {});\n",
              "      } catch (error) {\n",
              "        console.error('Error during call to suggestCharts:', error);\n",
              "      }\n",
              "      quickchartButtonEl.classList.remove('colab-df-spinner');\n",
              "      quickchartButtonEl.classList.add('colab-df-quickchart-complete');\n",
              "    }\n",
              "    (() => {\n",
              "      let quickchartButtonEl =\n",
              "        document.querySelector('#df-4f989afd-bf0b-48f7-b6e4-37f27e6cdb33 button');\n",
              "      quickchartButtonEl.style.display =\n",
              "        google.colab.kernel.accessAllowed ? 'block' : 'none';\n",
              "    })();\n",
              "  </script>\n",
              "</div>\n",
              "    </div>\n",
              "  </div>\n"
            ]
          },
          "metadata": {},
          "execution_count": 11
        }
      ]
    },
    {
      "cell_type": "markdown",
      "source": [
        "- Tambien se tienen 2221 regitros duplicados los cuales se repiten y posteriormente se deben trabajar ya que generarian problemas, para un posible modelo."
      ],
      "metadata": {
        "id": "DqXn1VcVNc9q"
      }
    },
    {
      "cell_type": "code",
      "source": [
        "duplicados_filas.isnull().sum()"
      ],
      "metadata": {
        "colab": {
          "base_uri": "https://localhost:8080/"
        },
        "id": "rMM_SUVWNpJo",
        "outputId": "72bf1928-7c0c-4384-92c5-6ecd1840abb0"
      },
      "execution_count": 12,
      "outputs": [
        {
          "output_type": "execute_result",
          "data": {
            "text/plain": [
              "Id                            2221\n",
              "First Name                    2221\n",
              "Use Case                        26\n",
              "Source                         561\n",
              "Status                           0\n",
              "Discarded/Nurturing Reason     993\n",
              "Acquisition Campaign          2201\n",
              "Created Date                     0\n",
              "Converted                        0\n",
              "City                          2203\n",
              "dtype: int64"
            ]
          },
          "metadata": {},
          "execution_count": 12
        }
      ]
    },
    {
      "cell_type": "markdown",
      "source": [
        "- Con todos los datos duplicados, todos tienen el id nulo, por lo cual no se pude identificar a cual lead corresponde, por ende se eliminaran duplicados"
      ],
      "metadata": {
        "id": "J8ZLCW5AZmVt"
      }
    },
    {
      "cell_type": "code",
      "source": [
        "\n",
        "leads = leads.drop_duplicates()\n",
        "\n",
        "leads"
      ],
      "metadata": {
        "colab": {
          "base_uri": "https://localhost:8080/",
          "height": 652
        },
        "id": "J0pXEE86ZRMv",
        "outputId": "6b3655db-0635-4220-cc91-9b4474be6984"
      },
      "execution_count": 13,
      "outputs": [
        {
          "output_type": "execute_result",
          "data": {
            "text/plain": [
              "             Id       First Name          Use Case    Source     Status  \\\n",
              "0      23okrabh              NaN  Corporate Events   Inbound  Nurturing   \n",
              "1           NaN  Taylor1 Harris1               NaN   Inbound  Discarded   \n",
              "2      hbzt0kp1   Alex6 Jackson3               NaN   Inbound  Nurturing   \n",
              "3      velluwdq  Bailey2 Taylor6  Corporate Events   Inbound  Discarded   \n",
              "4           NaN    Drew5 Wilson5  Corporate Events   Inbound  Nurturing   \n",
              "...         ...              ...               ...       ...        ...   \n",
              "61634  lpb8obv3              NaN  Corporate Events  Outbound        New   \n",
              "61635  mzcq31rg              NaN               NaN  Outbound        New   \n",
              "61636  2ajg0z5w              NaN  Corporate Events  Outbound        New   \n",
              "61637  k6wq2pi9              NaN               NaN  Outbound        New   \n",
              "61638  vez26u63              NaN  Corporate Events   Inbound        New   \n",
              "\n",
              "      Discarded/Nurturing Reason    Acquisition Campaign Created Date  \\\n",
              "0                        Not Fit                     NaN   2018-05-26   \n",
              "1                    Not feeling  Event Management Guide   2018-10-17   \n",
              "2                     Competitor                     NaN   2019-03-29   \n",
              "3                     Not Target                     NaN   2018-05-26   \n",
              "4                     Competitor                     NaN   2018-10-17   \n",
              "...                          ...                     ...          ...   \n",
              "61634                        NaN             Digital kit   2020-10-27   \n",
              "61635                        NaN                 ArtFair   2020-10-27   \n",
              "61636                        NaN                     NaN   2020-10-27   \n",
              "61637                        NaN          VirtualMeetups   2020-10-27   \n",
              "61638                        NaN                     NaN   2020-10-27   \n",
              "\n",
              "       Converted       City  \n",
              "0              0    Chicago  \n",
              "1              0     Denver  \n",
              "2              0     Denver  \n",
              "3              0        NaN  \n",
              "4              0        NaN  \n",
              "...          ...        ...  \n",
              "61634          0    Phoenix  \n",
              "61635          0        NaN  \n",
              "61636          0        NaN  \n",
              "61637          0  Charlotte  \n",
              "61638          0        NaN  \n",
              "\n",
              "[60063 rows x 10 columns]"
            ],
            "text/html": [
              "\n",
              "  <div id=\"df-698f3856-de25-43cb-9e5a-531ca2412cd8\" class=\"colab-df-container\">\n",
              "    <div>\n",
              "<style scoped>\n",
              "    .dataframe tbody tr th:only-of-type {\n",
              "        vertical-align: middle;\n",
              "    }\n",
              "\n",
              "    .dataframe tbody tr th {\n",
              "        vertical-align: top;\n",
              "    }\n",
              "\n",
              "    .dataframe thead th {\n",
              "        text-align: right;\n",
              "    }\n",
              "</style>\n",
              "<table border=\"1\" class=\"dataframe\">\n",
              "  <thead>\n",
              "    <tr style=\"text-align: right;\">\n",
              "      <th></th>\n",
              "      <th>Id</th>\n",
              "      <th>First Name</th>\n",
              "      <th>Use Case</th>\n",
              "      <th>Source</th>\n",
              "      <th>Status</th>\n",
              "      <th>Discarded/Nurturing Reason</th>\n",
              "      <th>Acquisition Campaign</th>\n",
              "      <th>Created Date</th>\n",
              "      <th>Converted</th>\n",
              "      <th>City</th>\n",
              "    </tr>\n",
              "  </thead>\n",
              "  <tbody>\n",
              "    <tr>\n",
              "      <th>0</th>\n",
              "      <td>23okrabh</td>\n",
              "      <td>NaN</td>\n",
              "      <td>Corporate Events</td>\n",
              "      <td>Inbound</td>\n",
              "      <td>Nurturing</td>\n",
              "      <td>Not Fit</td>\n",
              "      <td>NaN</td>\n",
              "      <td>2018-05-26</td>\n",
              "      <td>0</td>\n",
              "      <td>Chicago</td>\n",
              "    </tr>\n",
              "    <tr>\n",
              "      <th>1</th>\n",
              "      <td>NaN</td>\n",
              "      <td>Taylor1 Harris1</td>\n",
              "      <td>NaN</td>\n",
              "      <td>Inbound</td>\n",
              "      <td>Discarded</td>\n",
              "      <td>Not feeling</td>\n",
              "      <td>Event Management Guide</td>\n",
              "      <td>2018-10-17</td>\n",
              "      <td>0</td>\n",
              "      <td>Denver</td>\n",
              "    </tr>\n",
              "    <tr>\n",
              "      <th>2</th>\n",
              "      <td>hbzt0kp1</td>\n",
              "      <td>Alex6 Jackson3</td>\n",
              "      <td>NaN</td>\n",
              "      <td>Inbound</td>\n",
              "      <td>Nurturing</td>\n",
              "      <td>Competitor</td>\n",
              "      <td>NaN</td>\n",
              "      <td>2019-03-29</td>\n",
              "      <td>0</td>\n",
              "      <td>Denver</td>\n",
              "    </tr>\n",
              "    <tr>\n",
              "      <th>3</th>\n",
              "      <td>velluwdq</td>\n",
              "      <td>Bailey2 Taylor6</td>\n",
              "      <td>Corporate Events</td>\n",
              "      <td>Inbound</td>\n",
              "      <td>Discarded</td>\n",
              "      <td>Not Target</td>\n",
              "      <td>NaN</td>\n",
              "      <td>2018-05-26</td>\n",
              "      <td>0</td>\n",
              "      <td>NaN</td>\n",
              "    </tr>\n",
              "    <tr>\n",
              "      <th>4</th>\n",
              "      <td>NaN</td>\n",
              "      <td>Drew5 Wilson5</td>\n",
              "      <td>Corporate Events</td>\n",
              "      <td>Inbound</td>\n",
              "      <td>Nurturing</td>\n",
              "      <td>Competitor</td>\n",
              "      <td>NaN</td>\n",
              "      <td>2018-10-17</td>\n",
              "      <td>0</td>\n",
              "      <td>NaN</td>\n",
              "    </tr>\n",
              "    <tr>\n",
              "      <th>...</th>\n",
              "      <td>...</td>\n",
              "      <td>...</td>\n",
              "      <td>...</td>\n",
              "      <td>...</td>\n",
              "      <td>...</td>\n",
              "      <td>...</td>\n",
              "      <td>...</td>\n",
              "      <td>...</td>\n",
              "      <td>...</td>\n",
              "      <td>...</td>\n",
              "    </tr>\n",
              "    <tr>\n",
              "      <th>61634</th>\n",
              "      <td>lpb8obv3</td>\n",
              "      <td>NaN</td>\n",
              "      <td>Corporate Events</td>\n",
              "      <td>Outbound</td>\n",
              "      <td>New</td>\n",
              "      <td>NaN</td>\n",
              "      <td>Digital kit</td>\n",
              "      <td>2020-10-27</td>\n",
              "      <td>0</td>\n",
              "      <td>Phoenix</td>\n",
              "    </tr>\n",
              "    <tr>\n",
              "      <th>61635</th>\n",
              "      <td>mzcq31rg</td>\n",
              "      <td>NaN</td>\n",
              "      <td>NaN</td>\n",
              "      <td>Outbound</td>\n",
              "      <td>New</td>\n",
              "      <td>NaN</td>\n",
              "      <td>ArtFair</td>\n",
              "      <td>2020-10-27</td>\n",
              "      <td>0</td>\n",
              "      <td>NaN</td>\n",
              "    </tr>\n",
              "    <tr>\n",
              "      <th>61636</th>\n",
              "      <td>2ajg0z5w</td>\n",
              "      <td>NaN</td>\n",
              "      <td>Corporate Events</td>\n",
              "      <td>Outbound</td>\n",
              "      <td>New</td>\n",
              "      <td>NaN</td>\n",
              "      <td>NaN</td>\n",
              "      <td>2020-10-27</td>\n",
              "      <td>0</td>\n",
              "      <td>NaN</td>\n",
              "    </tr>\n",
              "    <tr>\n",
              "      <th>61637</th>\n",
              "      <td>k6wq2pi9</td>\n",
              "      <td>NaN</td>\n",
              "      <td>NaN</td>\n",
              "      <td>Outbound</td>\n",
              "      <td>New</td>\n",
              "      <td>NaN</td>\n",
              "      <td>VirtualMeetups</td>\n",
              "      <td>2020-10-27</td>\n",
              "      <td>0</td>\n",
              "      <td>Charlotte</td>\n",
              "    </tr>\n",
              "    <tr>\n",
              "      <th>61638</th>\n",
              "      <td>vez26u63</td>\n",
              "      <td>NaN</td>\n",
              "      <td>Corporate Events</td>\n",
              "      <td>Inbound</td>\n",
              "      <td>New</td>\n",
              "      <td>NaN</td>\n",
              "      <td>NaN</td>\n",
              "      <td>2020-10-27</td>\n",
              "      <td>0</td>\n",
              "      <td>NaN</td>\n",
              "    </tr>\n",
              "  </tbody>\n",
              "</table>\n",
              "<p>60063 rows × 10 columns</p>\n",
              "</div>\n",
              "    <div class=\"colab-df-buttons\">\n",
              "\n",
              "  <div class=\"colab-df-container\">\n",
              "    <button class=\"colab-df-convert\" onclick=\"convertToInteractive('df-698f3856-de25-43cb-9e5a-531ca2412cd8')\"\n",
              "            title=\"Convert this dataframe to an interactive table.\"\n",
              "            style=\"display:none;\">\n",
              "\n",
              "  <svg xmlns=\"http://www.w3.org/2000/svg\" height=\"24px\" viewBox=\"0 -960 960 960\">\n",
              "    <path d=\"M120-120v-720h720v720H120Zm60-500h600v-160H180v160Zm220 220h160v-160H400v160Zm0 220h160v-160H400v160ZM180-400h160v-160H180v160Zm440 0h160v-160H620v160ZM180-180h160v-160H180v160Zm440 0h160v-160H620v160Z\"/>\n",
              "  </svg>\n",
              "    </button>\n",
              "\n",
              "  <style>\n",
              "    .colab-df-container {\n",
              "      display:flex;\n",
              "      gap: 12px;\n",
              "    }\n",
              "\n",
              "    .colab-df-convert {\n",
              "      background-color: #E8F0FE;\n",
              "      border: none;\n",
              "      border-radius: 50%;\n",
              "      cursor: pointer;\n",
              "      display: none;\n",
              "      fill: #1967D2;\n",
              "      height: 32px;\n",
              "      padding: 0 0 0 0;\n",
              "      width: 32px;\n",
              "    }\n",
              "\n",
              "    .colab-df-convert:hover {\n",
              "      background-color: #E2EBFA;\n",
              "      box-shadow: 0px 1px 2px rgba(60, 64, 67, 0.3), 0px 1px 3px 1px rgba(60, 64, 67, 0.15);\n",
              "      fill: #174EA6;\n",
              "    }\n",
              "\n",
              "    .colab-df-buttons div {\n",
              "      margin-bottom: 4px;\n",
              "    }\n",
              "\n",
              "    [theme=dark] .colab-df-convert {\n",
              "      background-color: #3B4455;\n",
              "      fill: #D2E3FC;\n",
              "    }\n",
              "\n",
              "    [theme=dark] .colab-df-convert:hover {\n",
              "      background-color: #434B5C;\n",
              "      box-shadow: 0px 1px 3px 1px rgba(0, 0, 0, 0.15);\n",
              "      filter: drop-shadow(0px 1px 2px rgba(0, 0, 0, 0.3));\n",
              "      fill: #FFFFFF;\n",
              "    }\n",
              "  </style>\n",
              "\n",
              "    <script>\n",
              "      const buttonEl =\n",
              "        document.querySelector('#df-698f3856-de25-43cb-9e5a-531ca2412cd8 button.colab-df-convert');\n",
              "      buttonEl.style.display =\n",
              "        google.colab.kernel.accessAllowed ? 'block' : 'none';\n",
              "\n",
              "      async function convertToInteractive(key) {\n",
              "        const element = document.querySelector('#df-698f3856-de25-43cb-9e5a-531ca2412cd8');\n",
              "        const dataTable =\n",
              "          await google.colab.kernel.invokeFunction('convertToInteractive',\n",
              "                                                    [key], {});\n",
              "        if (!dataTable) return;\n",
              "\n",
              "        const docLinkHtml = 'Like what you see? Visit the ' +\n",
              "          '<a target=\"_blank\" href=https://colab.research.google.com/notebooks/data_table.ipynb>data table notebook</a>'\n",
              "          + ' to learn more about interactive tables.';\n",
              "        element.innerHTML = '';\n",
              "        dataTable['output_type'] = 'display_data';\n",
              "        await google.colab.output.renderOutput(dataTable, element);\n",
              "        const docLink = document.createElement('div');\n",
              "        docLink.innerHTML = docLinkHtml;\n",
              "        element.appendChild(docLink);\n",
              "      }\n",
              "    </script>\n",
              "  </div>\n",
              "\n",
              "\n",
              "<div id=\"df-a0906001-53bc-462b-87a7-09f52f02c43d\">\n",
              "  <button class=\"colab-df-quickchart\" onclick=\"quickchart('df-a0906001-53bc-462b-87a7-09f52f02c43d')\"\n",
              "            title=\"Suggest charts\"\n",
              "            style=\"display:none;\">\n",
              "\n",
              "<svg xmlns=\"http://www.w3.org/2000/svg\" height=\"24px\"viewBox=\"0 0 24 24\"\n",
              "     width=\"24px\">\n",
              "    <g>\n",
              "        <path d=\"M19 3H5c-1.1 0-2 .9-2 2v14c0 1.1.9 2 2 2h14c1.1 0 2-.9 2-2V5c0-1.1-.9-2-2-2zM9 17H7v-7h2v7zm4 0h-2V7h2v10zm4 0h-2v-4h2v4z\"/>\n",
              "    </g>\n",
              "</svg>\n",
              "  </button>\n",
              "\n",
              "<style>\n",
              "  .colab-df-quickchart {\n",
              "      --bg-color: #E8F0FE;\n",
              "      --fill-color: #1967D2;\n",
              "      --hover-bg-color: #E2EBFA;\n",
              "      --hover-fill-color: #174EA6;\n",
              "      --disabled-fill-color: #AAA;\n",
              "      --disabled-bg-color: #DDD;\n",
              "  }\n",
              "\n",
              "  [theme=dark] .colab-df-quickchart {\n",
              "      --bg-color: #3B4455;\n",
              "      --fill-color: #D2E3FC;\n",
              "      --hover-bg-color: #434B5C;\n",
              "      --hover-fill-color: #FFFFFF;\n",
              "      --disabled-bg-color: #3B4455;\n",
              "      --disabled-fill-color: #666;\n",
              "  }\n",
              "\n",
              "  .colab-df-quickchart {\n",
              "    background-color: var(--bg-color);\n",
              "    border: none;\n",
              "    border-radius: 50%;\n",
              "    cursor: pointer;\n",
              "    display: none;\n",
              "    fill: var(--fill-color);\n",
              "    height: 32px;\n",
              "    padding: 0;\n",
              "    width: 32px;\n",
              "  }\n",
              "\n",
              "  .colab-df-quickchart:hover {\n",
              "    background-color: var(--hover-bg-color);\n",
              "    box-shadow: 0 1px 2px rgba(60, 64, 67, 0.3), 0 1px 3px 1px rgba(60, 64, 67, 0.15);\n",
              "    fill: var(--button-hover-fill-color);\n",
              "  }\n",
              "\n",
              "  .colab-df-quickchart-complete:disabled,\n",
              "  .colab-df-quickchart-complete:disabled:hover {\n",
              "    background-color: var(--disabled-bg-color);\n",
              "    fill: var(--disabled-fill-color);\n",
              "    box-shadow: none;\n",
              "  }\n",
              "\n",
              "  .colab-df-spinner {\n",
              "    border: 2px solid var(--fill-color);\n",
              "    border-color: transparent;\n",
              "    border-bottom-color: var(--fill-color);\n",
              "    animation:\n",
              "      spin 1s steps(1) infinite;\n",
              "  }\n",
              "\n",
              "  @keyframes spin {\n",
              "    0% {\n",
              "      border-color: transparent;\n",
              "      border-bottom-color: var(--fill-color);\n",
              "      border-left-color: var(--fill-color);\n",
              "    }\n",
              "    20% {\n",
              "      border-color: transparent;\n",
              "      border-left-color: var(--fill-color);\n",
              "      border-top-color: var(--fill-color);\n",
              "    }\n",
              "    30% {\n",
              "      border-color: transparent;\n",
              "      border-left-color: var(--fill-color);\n",
              "      border-top-color: var(--fill-color);\n",
              "      border-right-color: var(--fill-color);\n",
              "    }\n",
              "    40% {\n",
              "      border-color: transparent;\n",
              "      border-right-color: var(--fill-color);\n",
              "      border-top-color: var(--fill-color);\n",
              "    }\n",
              "    60% {\n",
              "      border-color: transparent;\n",
              "      border-right-color: var(--fill-color);\n",
              "    }\n",
              "    80% {\n",
              "      border-color: transparent;\n",
              "      border-right-color: var(--fill-color);\n",
              "      border-bottom-color: var(--fill-color);\n",
              "    }\n",
              "    90% {\n",
              "      border-color: transparent;\n",
              "      border-bottom-color: var(--fill-color);\n",
              "    }\n",
              "  }\n",
              "</style>\n",
              "\n",
              "  <script>\n",
              "    async function quickchart(key) {\n",
              "      const quickchartButtonEl =\n",
              "        document.querySelector('#' + key + ' button');\n",
              "      quickchartButtonEl.disabled = true;  // To prevent multiple clicks.\n",
              "      quickchartButtonEl.classList.add('colab-df-spinner');\n",
              "      try {\n",
              "        const charts = await google.colab.kernel.invokeFunction(\n",
              "            'suggestCharts', [key], {});\n",
              "      } catch (error) {\n",
              "        console.error('Error during call to suggestCharts:', error);\n",
              "      }\n",
              "      quickchartButtonEl.classList.remove('colab-df-spinner');\n",
              "      quickchartButtonEl.classList.add('colab-df-quickchart-complete');\n",
              "    }\n",
              "    (() => {\n",
              "      let quickchartButtonEl =\n",
              "        document.querySelector('#df-a0906001-53bc-462b-87a7-09f52f02c43d button');\n",
              "      quickchartButtonEl.style.display =\n",
              "        google.colab.kernel.accessAllowed ? 'block' : 'none';\n",
              "    })();\n",
              "  </script>\n",
              "</div>\n",
              "    </div>\n",
              "  </div>\n"
            ]
          },
          "metadata": {},
          "execution_count": 13
        }
      ]
    },
    {
      "cell_type": "markdown",
      "source": [
        "# 3. Fase exploratoria de los datos (VISUAL) (DATA LEADS)"
      ],
      "metadata": {
        "id": "gY9WskNuY1Tn"
      }
    },
    {
      "cell_type": "code",
      "source": [
        "import matplotlib.pyplot as plt\n",
        "import seaborn as sns"
      ],
      "metadata": {
        "id": "5HnH7FtEY4uW"
      },
      "execution_count": 14,
      "outputs": []
    },
    {
      "cell_type": "code",
      "source": [
        "leads.drop(columns = 'First Name', inplace = True)"
      ],
      "metadata": {
        "colab": {
          "base_uri": "https://localhost:8080/"
        },
        "id": "RHQeNPMxZGVX",
        "outputId": "662945f7-2def-4686-b674-5c47b092873a"
      },
      "execution_count": 15,
      "outputs": [
        {
          "output_type": "stream",
          "name": "stderr",
          "text": [
            "<ipython-input-15-7cdc7a21bfec>:1: SettingWithCopyWarning: \n",
            "A value is trying to be set on a copy of a slice from a DataFrame\n",
            "\n",
            "See the caveats in the documentation: https://pandas.pydata.org/pandas-docs/stable/user_guide/indexing.html#returning-a-view-versus-a-copy\n",
            "  leads.drop(columns = 'First Name', inplace = True)\n"
          ]
        }
      ]
    },
    {
      "cell_type": "code",
      "source": [
        "leads['Use Case'].value_counts()"
      ],
      "metadata": {
        "colab": {
          "base_uri": "https://localhost:8080/"
        },
        "id": "KgnNyguuagdI",
        "outputId": "e618baf4-9ea9-4c71-9363-f6dfd067aa3d"
      },
      "execution_count": 16,
      "outputs": [
        {
          "output_type": "execute_result",
          "data": {
            "text/plain": [
              "Corporate Events          30455\n",
              "Sports Events              7321\n",
              "Educational Seminars       3863\n",
              "Wedding Planning           1648\n",
              "Concerts and festivals       68\n",
              "Name: Use Case, dtype: int64"
            ]
          },
          "metadata": {},
          "execution_count": 16
        }
      ]
    },
    {
      "cell_type": "code",
      "source": [
        "\n",
        "plt.figure(figsize=(10, 6))\n",
        "colors = sns.color_palette('pastel', n_colors=len(leads['Use Case'].value_counts()))\n",
        "ax = sns.countplot(x='Use Case', data=leads, palette=colors, order=leads['Use Case'].value_counts().index)\n",
        "total = len(leads['Use Case'])\n",
        "for p in ax.patches:\n",
        "    height = p.get_height()\n",
        "    ax.text(p.get_x() + p.get_width() / 2., height + 0.1, f'{height/total:.1%}', ha=\"center\")\n",
        "plt.xticks(rotation=45, ha='right')\n",
        "\n",
        "plt.xlabel('Use Case')\n",
        "plt.ylabel('Cantidad')\n",
        "plt.title('Distribución de Use Case en el Conjunto de Datos')\n",
        "plt.show()"
      ],
      "metadata": {
        "colab": {
          "base_uri": "https://localhost:8080/",
          "height": 670
        },
        "id": "q4fI9GEQY7fb",
        "outputId": "739d6d07-cda2-4172-846a-80e2afa0992b"
      },
      "execution_count": 17,
      "outputs": [
        {
          "output_type": "display_data",
          "data": {
            "text/plain": [
              "<Figure size 1000x600 with 1 Axes>"
            ],
            "image/png": "[encoded data removed]"
          },
          "metadata": {}
        }
      ]
    },
    {
      "cell_type": "markdown",
      "source": [
        "- Se aprecia que el 50.7% de los leads estan asociados a Corporate Events, exactamente la mitad corresponde a esa categoria, seguido de Sport Events con 12.2%, por lo cual,se aprecia en que caterogia esta la mayor concentraccion de los datos."
      ],
      "metadata": {
        "id": "C_wxPVB6ixlp"
      }
    },
    {
      "cell_type": "code",
      "source": [
        "leads.Source.value_counts()"
      ],
      "metadata": {
        "colab": {
          "base_uri": "https://localhost:8080/"
        },
        "id": "zg8D9K9zju0f",
        "outputId": "bcabb9f4-783c-425d-be88-9c983f85679c"
      },
      "execution_count": 18,
      "outputs": [
        {
          "output_type": "execute_result",
          "data": {
            "text/plain": [
              "Inbound             37788\n",
              "Outbound            21438\n",
              "Bot-Intercom           28\n",
              "Mail                    7\n",
              "Intercom                2\n",
              "Llamada entrante        1\n",
              "Name: Source, dtype: int64"
            ]
          },
          "metadata": {},
          "execution_count": 18
        }
      ]
    },
    {
      "cell_type": "code",
      "source": [
        "\n",
        "plt.figure(figsize=(10, 6))\n",
        "colors = sns.color_palette('pastel', n_colors=len(leads['Source'].value_counts()))\n",
        "ax = sns.countplot(x='Source', data=leads, palette=colors, order=leads['Source'].value_counts().index)\n",
        "total = len(leads['Source'])\n",
        "for p in ax.patches:\n",
        "    height = p.get_height()\n",
        "    ax.text(p.get_x() + p.get_width() / 2., height + 0.1, f'{height/total:.1%}', ha=\"center\")\n",
        "plt.xticks(rotation=45, ha='right')\n",
        "\n",
        "plt.xlabel('Source')\n",
        "plt.ylabel('Cantidad')\n",
        "plt.title('Distribución de Source en el Conjunto de Datos')\n",
        "plt.show()"
      ],
      "metadata": {
        "colab": {
          "base_uri": "https://localhost:8080/",
          "height": 648
        },
        "id": "DPhlCHK8iq0D",
        "outputId": "dbb91ee5-324a-46a5-a538-328745418582"
      },
      "execution_count": 19,
      "outputs": [
        {
          "output_type": "display_data",
          "data": {
            "text/plain": [
              "<Figure size 1000x600 with 1 Axes>"
            ],
            "image/png": "[encoded data removed]"
          },
          "metadata": {}
        }
      ]
    },
    {
      "cell_type": "markdown",
      "source": [
        "- Se aprecia que el 62.9% de los leads estan en inbound, seguido de outbound con  35.7%, por lo cual,se aprecia en que caterogia esta la mayor concentraccion de los datos."
      ],
      "metadata": {
        "id": "RcltYQ9ikMqH"
      }
    },
    {
      "cell_type": "code",
      "source": [
        "leads['Discarded/Nurturing Reason'].value_counts()"
      ],
      "metadata": {
        "colab": {
          "base_uri": "https://localhost:8080/"
        },
        "id": "_jyC6_nSmS_9",
        "outputId": "996dd738-4c3e-4f08-c549-d58878929cd6"
      },
      "execution_count": 20,
      "outputs": [
        {
          "output_type": "execute_result",
          "data": {
            "text/plain": [
              "Not Target              12107\n",
              "Not the right moment     8599\n",
              "Unreachable              8100\n",
              "Not feeling              4025\n",
              "Wrong Data               3690\n",
              "Not Fit                  3577\n",
              "Competitor               3313\n",
              "No show                   363\n",
              "Already Customer          248\n",
              "Duplicate/Test            212\n",
              "Black list                179\n",
              "Not interested             21\n",
              "No Fit                      1\n",
              "Name: Discarded/Nurturing Reason, dtype: int64"
            ]
          },
          "metadata": {},
          "execution_count": 20
        }
      ]
    },
    {
      "cell_type": "code",
      "source": [
        "leads['Acquisition Campaign'].value_counts()"
      ],
      "metadata": {
        "colab": {
          "base_uri": "https://localhost:8080/"
        },
        "id": "tAh3bWo3_4OC",
        "outputId": "6a8c0845-d3e4-489e-859c-b89d006092e5"
      },
      "execution_count": 21,
      "outputs": [
        {
          "output_type": "execute_result",
          "data": {
            "text/plain": [
              "VirtualMeetups                5884\n",
              "Event Management Guide        3259\n",
              "Follow-up: digital guide 2    2005\n",
              "Follow-up: digital guide      1258\n",
              "ArtFair                       1200\n",
              "                              ... \n",
              "Event 3                          1\n",
              "Event 1                          1\n",
              "HolidaySpecial                   1\n",
              "Corporate Events                 1\n",
              "Ex-clients ABC                   1\n",
              "Name: Acquisition Campaign, Length: 71, dtype: int64"
            ]
          },
          "metadata": {},
          "execution_count": 21
        }
      ]
    },
    {
      "cell_type": "code",
      "source": [
        "\n",
        "plt.figure(figsize=(8, 6))\n",
        "\n",
        "\n",
        "colors = sns.color_palette('pastel')\n",
        "\n",
        "\n",
        "ax = sns.countplot(data=leads, x='Converted', palette=colors)\n",
        "\n",
        "\n",
        "total = len(leads['Converted'])\n",
        "for p in ax.patches:\n",
        "    height = p.get_height()\n",
        "    ax.text(p.get_x() + p.get_width() / 2., height + 0.1, f'{height/total:.1%}', ha=\"center\")\n",
        "\n",
        "plt.xlabel('Converted')\n",
        "plt.ylabel('Cantidad')\n",
        "plt.title('Distribución de Converted en el Conjunto de Datos')\n",
        "plt.show()\n"
      ],
      "metadata": {
        "colab": {
          "base_uri": "https://localhost:8080/",
          "height": 565
        },
        "id": "s2jAg20cAGRh",
        "outputId": "ab3a441a-2570-4b61-df2a-cc310fe05e94"
      },
      "execution_count": 22,
      "outputs": [
        {
          "output_type": "display_data",
          "data": {
            "text/plain": [
              "<Figure size 800x600 with 1 Axes>"
            ],
            "image/png": "[encoded data removed]"
          },
          "metadata": {}
        }
      ]
    },
    {
      "cell_type": "markdown",
      "source": [
        "- Se observa que el 90.4% de los leads no se ha convertido, y tan solo el 9.6% se ha convertido, se concluye un desbalanceo en la variable objetivo, si se fuera modelar se debe aplicar tecnicas de balanceo de datos, debido a que, el modelo se ajustaria mucho a devolver un 0."
      ],
      "metadata": {
        "id": "ZrpJeKg4BErx"
      }
    },
    {
      "cell_type": "code",
      "source": [
        "leads['Created Date'].value_counts()"
      ],
      "metadata": {
        "colab": {
          "base_uri": "https://localhost:8080/"
        },
        "id": "2bupM6tv_yPh",
        "outputId": "69c91196-1e52-4eba-8994-c489ea3e6194"
      },
      "execution_count": 23,
      "outputs": [
        {
          "output_type": "execute_result",
          "data": {
            "text/plain": [
              "2019-06-29    515\n",
              "2019-07-22    302\n",
              "2019-03-24    298\n",
              "2019-03-26    285\n",
              "2019-05-13    274\n",
              "             ... \n",
              "2019-03-15     23\n",
              "2018-12-20     23\n",
              "2018-08-16     22\n",
              "2018-12-07     21\n",
              "2018-05-26      5\n",
              "Name: Created Date, Length: 591, dtype: int64"
            ]
          },
          "metadata": {},
          "execution_count": 23
        }
      ]
    },
    {
      "cell_type": "markdown",
      "source": [
        "- Con esta variable se puede generar una variable de antiguedad en años, que aportara mucho a un posible modelado o hipotesis."
      ],
      "metadata": {
        "id": "05SpOeOlB8ZO"
      }
    },
    {
      "cell_type": "code",
      "source": [
        "from datetime import datetime\n",
        "\n",
        "leads['Created Date'] = pd.to_datetime(leads['Created Date'])\n",
        "\n",
        "fecha_actual = datetime.now()\n",
        "\n",
        "leads['antiquity'] = (fecha_actual - leads['Created Date']).dt.days // 365\n",
        "\n",
        "leads.drop(columns = 'Created Date', inplace = True)"
      ],
      "metadata": {
        "colab": {
          "base_uri": "https://localhost:8080/"
        },
        "id": "XNz5ivLcCGoK",
        "outputId": "5b8f99e7-5cb9-471b-ad36-8a9e9956015e"
      },
      "execution_count": 24,
      "outputs": [
        {
          "output_type": "stream",
          "name": "stderr",
          "text": [
            "<ipython-input-24-9ad0c29c8824>:3: SettingWithCopyWarning: \n",
            "A value is trying to be set on a copy of a slice from a DataFrame.\n",
            "Try using .loc[row_indexer,col_indexer] = value instead\n",
            "\n",
            "See the caveats in the documentation: https://pandas.pydata.org/pandas-docs/stable/user_guide/indexing.html#returning-a-view-versus-a-copy\n",
            "  leads['Created Date'] = pd.to_datetime(leads['Created Date'])\n",
            "<ipython-input-24-9ad0c29c8824>:7: SettingWithCopyWarning: \n",
            "A value is trying to be set on a copy of a slice from a DataFrame.\n",
            "Try using .loc[row_indexer,col_indexer] = value instead\n",
            "\n",
            "See the caveats in the documentation: https://pandas.pydata.org/pandas-docs/stable/user_guide/indexing.html#returning-a-view-versus-a-copy\n",
            "  leads['antiquity'] = (fecha_actual - leads['Created Date']).dt.days // 365\n",
            "<ipython-input-24-9ad0c29c8824>:9: SettingWithCopyWarning: \n",
            "A value is trying to be set on a copy of a slice from a DataFrame\n",
            "\n",
            "See the caveats in the documentation: https://pandas.pydata.org/pandas-docs/stable/user_guide/indexing.html#returning-a-view-versus-a-copy\n",
            "  leads.drop(columns = 'Created Date', inplace = True)\n"
          ]
        }
      ]
    },
    {
      "cell_type": "markdown",
      "source": [
        "- Se creo una variable llamada antiguedad, apartir de la creacion del lead, esta duracion esta en años, y posteriormente se elimina dicha variable que se uso."
      ],
      "metadata": {
        "id": "mWPbiAAYMNQ1"
      }
    },
    {
      "cell_type": "code",
      "source": [
        "plt.figure(figsize=(6, 6))\n",
        "colors = sns.color_palette('pastel')[0:3]\n",
        "plt.pie(leads['antiquity'].value_counts(), labels=leads['antiquity'].value_counts().index, autopct='%1.1f%%', colors=colors, startangle=90)\n",
        "\n",
        "plt.title('Distribución de antiquity en el Conjunto de Datos')\n",
        "plt.show()"
      ],
      "metadata": {
        "colab": {
          "base_uri": "https://localhost:8080/",
          "height": 521
        },
        "id": "1akO_UAxEU4X",
        "outputId": "de3928f2-5f13-42c8-a9c8-5b43436fd661"
      },
      "execution_count": 25,
      "outputs": [
        {
          "output_type": "display_data",
          "data": {
            "text/plain": [
              "<Figure size 600x600 with 1 Axes>"
            ],
            "image/png": "[encoded data removed]"
          },
          "metadata": {}
        }
      ]
    },
    {
      "cell_type": "markdown",
      "source": [
        "- Se observa que los leads que llevan 4 años tiene la concentraccion mas alta con 70.2%\n",
        "-  Se observa que los leads que llevan 3 años tiene la concentraccion mas baja con 6.9%"
      ],
      "metadata": {
        "id": "M-PEKPZHEnBh"
      }
    },
    {
      "cell_type": "code",
      "source": [
        "leads['City'].value_counts()"
      ],
      "metadata": {
        "colab": {
          "base_uri": "https://localhost:8080/"
        },
        "id": "-oRMLmdND-Hg",
        "outputId": "2b5cace3-e93f-473f-9384-38ef9a57fee5"
      },
      "execution_count": 26,
      "outputs": [
        {
          "output_type": "execute_result",
          "data": {
            "text/plain": [
              "Chicago          8170\n",
              "San Francisco    5301\n",
              "San Diego        3178\n",
              "Jacksonville     2344\n",
              "Washington       1635\n",
              "San Jose         1364\n",
              "New York         1177\n",
              "Seattle          1158\n",
              "San Antonio      1142\n",
              "Indianapolis     1086\n",
              "Columbus         1038\n",
              "Denver            922\n",
              "Phoenix           922\n",
              "Charlotte         919\n",
              "Dallas            895\n",
              "Los Angeles       811\n",
              "Austin            792\n",
              "Philadelphia      738\n",
              "Houston           728\n",
              "Fort Worth        600\n",
              "Name: City, dtype: int64"
            ]
          },
          "metadata": {},
          "execution_count": 26
        }
      ]
    },
    {
      "cell_type": "code",
      "source": [
        "\n",
        "plt.figure(figsize=(12, 6))\n",
        "\n",
        "sns.countplot(data=leads, x='Use Case', hue='Converted', palette='coolwarm')\n",
        "plt.xticks(rotation=45, ha='right')\n",
        "plt.show()\n"
      ],
      "metadata": {
        "colab": {
          "base_uri": "https://localhost:8080/",
          "height": 597
        },
        "id": "Dcgz6FtpD4Oj",
        "outputId": "339fec5f-de37-4dd7-85e4-312040ffec1a"
      },
      "execution_count": 27,
      "outputs": [
        {
          "output_type": "display_data",
          "data": {
            "text/plain": [
              "<Figure size 1200x600 with 1 Axes>"
            ],
            "image/png": "[encoded data removed]"
          },
          "metadata": {}
        }
      ]
    },
    {
      "cell_type": "markdown",
      "source": [
        "- Se concluye varias cosas el caso de uso Coporate Events es donde mayores leads hay.\n",
        "- En ninguno de los casos de uso, los leads convertidos son mayores a los no convertidos.\n",
        "- A nivel de negocio, es informacion importante."
      ],
      "metadata": {
        "id": "N4nzvSeIFsZv"
      }
    },
    {
      "cell_type": "code",
      "source": [
        "plt.figure(figsize=(12, 6))\n",
        "\n",
        "sns.countplot(data=leads, x='Status', hue='Converted', palette='coolwarm')\n",
        "plt.xticks(rotation=45, ha='right')\n",
        "plt.show()\n"
      ],
      "metadata": {
        "colab": {
          "base_uri": "https://localhost:8080/",
          "height": 546
        },
        "id": "2fvvrlvpA3JI",
        "outputId": "cc1cfebd-e361-4e37-b782-cb1f8682bd07"
      },
      "execution_count": 28,
      "outputs": [
        {
          "output_type": "display_data",
          "data": {
            "text/plain": [
              "<Figure size 1200x600 with 1 Axes>"
            ],
            "image/png": "[encoded data removed]"
          },
          "metadata": {}
        }
      ]
    },
    {
      "cell_type": "markdown",
      "source": [
        "- Se observa que los clientes calficados en su casi totalidad convergieron, por ende dicha variable status es importante para predecir."
      ],
      "metadata": {
        "id": "iv8zunYcBMfZ"
      }
    },
    {
      "cell_type": "code",
      "source": [
        "leads.isnull().sum()"
      ],
      "metadata": {
        "colab": {
          "base_uri": "https://localhost:8080/"
        },
        "id": "8i4I-w_cV7e5",
        "outputId": "cb11daa0-0aa8-46e9-dce7-292c7797e694"
      },
      "execution_count": 29,
      "outputs": [
        {
          "output_type": "execute_result",
          "data": {
            "text/plain": [
              "Id                            16091\n",
              "Use Case                      16708\n",
              "Source                          799\n",
              "Status                            0\n",
              "Discarded/Nurturing Reason    15628\n",
              "Acquisition Campaign          35028\n",
              "Converted                         0\n",
              "City                          25143\n",
              "antiquity                         0\n",
              "dtype: int64"
            ]
          },
          "metadata": {},
          "execution_count": 29
        }
      ]
    },
    {
      "cell_type": "code",
      "source": [
        "leads.drop(columns = 'City', inplace = True)"
      ],
      "metadata": {
        "colab": {
          "base_uri": "https://localhost:8080/"
        },
        "id": "yMp15AuNWNAP",
        "outputId": "8438e09f-572a-40ea-9127-73708907a974"
      },
      "execution_count": 30,
      "outputs": [
        {
          "output_type": "stream",
          "name": "stderr",
          "text": [
            "<ipython-input-30-25541ead1078>:1: SettingWithCopyWarning: \n",
            "A value is trying to be set on a copy of a slice from a DataFrame\n",
            "\n",
            "See the caveats in the documentation: https://pandas.pydata.org/pandas-docs/stable/user_guide/indexing.html#returning-a-view-versus-a-copy\n",
            "  leads.drop(columns = 'City', inplace = True)\n"
          ]
        }
      ]
    },
    {
      "cell_type": "code",
      "source": [
        "\n",
        "leads['Use Case'].fillna(leads['Use Case'].mode()[0], inplace=True)\n",
        "leads['Source'].fillna(leads['Source'].mode()[0], inplace=True)\n",
        "leads['Discarded/Nurturing Reason'].fillna(leads['Discarded/Nurturing Reason'].mode()[0], inplace=True)\n",
        "leads['Acquisition Campaign'].fillna(leads['Acquisition Campaign'].mode()[0], inplace=True)\n",
        "\n"
      ],
      "metadata": {
        "colab": {
          "base_uri": "https://localhost:8080/"
        },
        "id": "bN7Ydzg3Wr8y",
        "outputId": "0d8a00dc-5d19-404e-e88b-7f940967bd3f"
      },
      "execution_count": 31,
      "outputs": [
        {
          "output_type": "stream",
          "name": "stderr",
          "text": [
            "<ipython-input-31-bca89707f502>:1: SettingWithCopyWarning: \n",
            "A value is trying to be set on a copy of a slice from a DataFrame\n",
            "\n",
            "See the caveats in the documentation: https://pandas.pydata.org/pandas-docs/stable/user_guide/indexing.html#returning-a-view-versus-a-copy\n",
            "  leads['Use Case'].fillna(leads['Use Case'].mode()[0], inplace=True)\n",
            "<ipython-input-31-bca89707f502>:2: SettingWithCopyWarning: \n",
            "A value is trying to be set on a copy of a slice from a DataFrame\n",
            "\n",
            "See the caveats in the documentation: https://pandas.pydata.org/pandas-docs/stable/user_guide/indexing.html#returning-a-view-versus-a-copy\n",
            "  leads['Source'].fillna(leads['Source'].mode()[0], inplace=True)\n",
            "<ipython-input-31-bca89707f502>:3: SettingWithCopyWarning: \n",
            "A value is trying to be set on a copy of a slice from a DataFrame\n",
            "\n",
            "See the caveats in the documentation: https://pandas.pydata.org/pandas-docs/stable/user_guide/indexing.html#returning-a-view-versus-a-copy\n",
            "  leads['Discarded/Nurturing Reason'].fillna(leads['Discarded/Nurturing Reason'].mode()[0], inplace=True)\n",
            "<ipython-input-31-bca89707f502>:4: SettingWithCopyWarning: \n",
            "A value is trying to be set on a copy of a slice from a DataFrame\n",
            "\n",
            "See the caveats in the documentation: https://pandas.pydata.org/pandas-docs/stable/user_guide/indexing.html#returning-a-view-versus-a-copy\n",
            "  leads['Acquisition Campaign'].fillna(leads['Acquisition Campaign'].mode()[0], inplace=True)\n"
          ]
        }
      ]
    },
    {
      "cell_type": "markdown",
      "source": [
        "- Estas variables con valore snulos, como se vio en los graficos, es prudente usar la moda en estas variables categoricas para reemplazar datos nulos y mantener la distrinuccion de la data"
      ],
      "metadata": {
        "id": "kz0iv2lnWt2G"
      }
    },
    {
      "cell_type": "code",
      "source": [
        "leads.isnull().sum()"
      ],
      "metadata": {
        "colab": {
          "base_uri": "https://localhost:8080/"
        },
        "id": "NdAVWN-FW5RB",
        "outputId": "7a3c043d-8251-4d61-f1f6-81a12753ae31"
      },
      "execution_count": 32,
      "outputs": [
        {
          "output_type": "execute_result",
          "data": {
            "text/plain": [
              "Id                            16091\n",
              "Use Case                          0\n",
              "Source                            0\n",
              "Status                            0\n",
              "Discarded/Nurturing Reason        0\n",
              "Acquisition Campaign              0\n",
              "Converted                         0\n",
              "antiquity                         0\n",
              "dtype: int64"
            ]
          },
          "metadata": {},
          "execution_count": 32
        }
      ]
    },
    {
      "cell_type": "markdown",
      "source": [
        "- Ya no hay datos nulos en el dataset"
      ],
      "metadata": {
        "id": "X3iXd2MWW-ta"
      }
    },
    {
      "cell_type": "markdown",
      "source": [
        "# 3. Fase exploratoria de los datos (ANALÍTICA) (DATA OFFERS)"
      ],
      "metadata": {
        "id": "YegeeIYbT13o"
      }
    },
    {
      "cell_type": "code",
      "source": [
        "offers = pd.read_csv('offers.csv')"
      ],
      "metadata": {
        "id": "Mqph--_LNTd3"
      },
      "execution_count": 33,
      "outputs": []
    },
    {
      "cell_type": "markdown",
      "source": [
        "## 3.1 Visualizamos los 10 primeros registros del dataset"
      ],
      "metadata": {
        "id": "KDvmqiQxT8Vr"
      }
    },
    {
      "cell_type": "code",
      "source": [
        "offers.head(10)"
      ],
      "metadata": {
        "colab": {
          "base_uri": "https://localhost:8080/",
          "height": 554
        },
        "id": "H1DxfuCFTxWs",
        "outputId": "a172e77d-0118-483f-cfe5-f11e086d23bf"
      },
      "execution_count": 34,
      "outputs": [
        {
          "output_type": "execute_result",
          "data": {
            "text/plain": [
              "         Id              Use Case       Status Created Date  Close Date  \\\n",
              "0  doqyhjtv  Educational Seminars   Closed Won   2019-11-17  2019-11-17   \n",
              "1       NaN         Sports Events  Closed Lost   2019-11-24  2019-11-25   \n",
              "2       NaN         Sports Events  Closed Lost   2019-11-24  2019-11-25   \n",
              "3  cturqi48      Corporate Events   Closed Won   2019-05-07  2019-05-07   \n",
              "4       NaN         Sports Events  Closed Lost   2019-11-17  2019-11-25   \n",
              "5       NaN      Corporate Events  Closed Lost   2019-11-19  2019-11-20   \n",
              "6  9pl1etry      Corporate Events   Closed Won   2019-12-18  2019-12-18   \n",
              "7  7tkbogep      Corporate Events   Closed Won   2019-11-18  2019-11-18   \n",
              "8  locj094j      Corporate Events   Closed Won   2019-11-18  2019-11-19   \n",
              "9       NaN      Corporate Events  Closed Lost   2019-11-18  2019-11-25   \n",
              "\n",
              "    Price    Discount code                 Pain         Loss Reason  \n",
              "0   300.0       SAVEMORE50           operations                 NaN  \n",
              "1   150.0              NaN           operations               price  \n",
              "2   768.0      HALFYEAR20G           operations         no response  \n",
              "3   240.0  DISCOUNT50POWER    financial control                 NaN  \n",
              "4   240.0     SAVEMONTH50G    financial control         no response  \n",
              "5   360.0  MONTHSAVE25DEAL    financial control               price  \n",
              "6   768.0  2SEMESTERS20OFF           operations                 NaN  \n",
              "7   300.0   MONTH50CUTBACK           operations                 NaN  \n",
              "8   300.0   MONTH50CUTBACK  quality of delivery                 NaN  \n",
              "9  1344.0    YEARLY30PROMO           operations  lost to competitor  "
            ],
            "text/html": [
              "\n",
              "  <div id=\"df-22717623-40db-458c-abb0-a8bc2a2f6f44\" class=\"colab-df-container\">\n",
              "    <div>\n",
              "<style scoped>\n",
              "    .dataframe tbody tr th:only-of-type {\n",
              "        vertical-align: middle;\n",
              "    }\n",
              "\n",
              "    .dataframe tbody tr th {\n",
              "        vertical-align: top;\n",
              "    }\n",
              "\n",
              "    .dataframe thead th {\n",
              "        text-align: right;\n",
              "    }\n",
              "</style>\n",
              "<table border=\"1\" class=\"dataframe\">\n",
              "  <thead>\n",
              "    <tr style=\"text-align: right;\">\n",
              "      <th></th>\n",
              "      <th>Id</th>\n",
              "      <th>Use Case</th>\n",
              "      <th>Status</th>\n",
              "      <th>Created Date</th>\n",
              "      <th>Close Date</th>\n",
              "      <th>Price</th>\n",
              "      <th>Discount code</th>\n",
              "      <th>Pain</th>\n",
              "      <th>Loss Reason</th>\n",
              "    </tr>\n",
              "  </thead>\n",
              "  <tbody>\n",
              "    <tr>\n",
              "      <th>0</th>\n",
              "      <td>doqyhjtv</td>\n",
              "      <td>Educational Seminars</td>\n",
              "      <td>Closed Won</td>\n",
              "      <td>2019-11-17</td>\n",
              "      <td>2019-11-17</td>\n",
              "      <td>300.0</td>\n",
              "      <td>SAVEMORE50</td>\n",
              "      <td>operations</td>\n",
              "      <td>NaN</td>\n",
              "    </tr>\n",
              "    <tr>\n",
              "      <th>1</th>\n",
              "      <td>NaN</td>\n",
              "      <td>Sports Events</td>\n",
              "      <td>Closed Lost</td>\n",
              "      <td>2019-11-24</td>\n",
              "      <td>2019-11-25</td>\n",
              "      <td>150.0</td>\n",
              "      <td>NaN</td>\n",
              "      <td>operations</td>\n",
              "      <td>price</td>\n",
              "    </tr>\n",
              "    <tr>\n",
              "      <th>2</th>\n",
              "      <td>NaN</td>\n",
              "      <td>Sports Events</td>\n",
              "      <td>Closed Lost</td>\n",
              "      <td>2019-11-24</td>\n",
              "      <td>2019-11-25</td>\n",
              "      <td>768.0</td>\n",
              "      <td>HALFYEAR20G</td>\n",
              "      <td>operations</td>\n",
              "      <td>no response</td>\n",
              "    </tr>\n",
              "    <tr>\n",
              "      <th>3</th>\n",
              "      <td>cturqi48</td>\n",
              "      <td>Corporate Events</td>\n",
              "      <td>Closed Won</td>\n",
              "      <td>2019-05-07</td>\n",
              "      <td>2019-05-07</td>\n",
              "      <td>240.0</td>\n",
              "      <td>DISCOUNT50POWER</td>\n",
              "      <td>financial control</td>\n",
              "      <td>NaN</td>\n",
              "    </tr>\n",
              "    <tr>\n",
              "      <th>4</th>\n",
              "      <td>NaN</td>\n",
              "      <td>Sports Events</td>\n",
              "      <td>Closed Lost</td>\n",
              "      <td>2019-11-17</td>\n",
              "      <td>2019-11-25</td>\n",
              "      <td>240.0</td>\n",
              "      <td>SAVEMONTH50G</td>\n",
              "      <td>financial control</td>\n",
              "      <td>no response</td>\n",
              "    </tr>\n",
              "    <tr>\n",
              "      <th>5</th>\n",
              "      <td>NaN</td>\n",
              "      <td>Corporate Events</td>\n",
              "      <td>Closed Lost</td>\n",
              "      <td>2019-11-19</td>\n",
              "      <td>2019-11-20</td>\n",
              "      <td>360.0</td>\n",
              "      <td>MONTHSAVE25DEAL</td>\n",
              "      <td>financial control</td>\n",
              "      <td>price</td>\n",
              "    </tr>\n",
              "    <tr>\n",
              "      <th>6</th>\n",
              "      <td>9pl1etry</td>\n",
              "      <td>Corporate Events</td>\n",
              "      <td>Closed Won</td>\n",
              "      <td>2019-12-18</td>\n",
              "      <td>2019-12-18</td>\n",
              "      <td>768.0</td>\n",
              "      <td>2SEMESTERS20OFF</td>\n",
              "      <td>operations</td>\n",
              "      <td>NaN</td>\n",
              "    </tr>\n",
              "    <tr>\n",
              "      <th>7</th>\n",
              "      <td>7tkbogep</td>\n",
              "      <td>Corporate Events</td>\n",
              "      <td>Closed Won</td>\n",
              "      <td>2019-11-18</td>\n",
              "      <td>2019-11-18</td>\n",
              "      <td>300.0</td>\n",
              "      <td>MONTH50CUTBACK</td>\n",
              "      <td>operations</td>\n",
              "      <td>NaN</td>\n",
              "    </tr>\n",
              "    <tr>\n",
              "      <th>8</th>\n",
              "      <td>locj094j</td>\n",
              "      <td>Corporate Events</td>\n",
              "      <td>Closed Won</td>\n",
              "      <td>2019-11-18</td>\n",
              "      <td>2019-11-19</td>\n",
              "      <td>300.0</td>\n",
              "      <td>MONTH50CUTBACK</td>\n",
              "      <td>quality of delivery</td>\n",
              "      <td>NaN</td>\n",
              "    </tr>\n",
              "    <tr>\n",
              "      <th>9</th>\n",
              "      <td>NaN</td>\n",
              "      <td>Corporate Events</td>\n",
              "      <td>Closed Lost</td>\n",
              "      <td>2019-11-18</td>\n",
              "      <td>2019-11-25</td>\n",
              "      <td>1344.0</td>\n",
              "      <td>YEARLY30PROMO</td>\n",
              "      <td>operations</td>\n",
              "      <td>lost to competitor</td>\n",
              "    </tr>\n",
              "  </tbody>\n",
              "</table>\n",
              "</div>\n",
              "    <div class=\"colab-df-buttons\">\n",
              "\n",
              "  <div class=\"colab-df-container\">\n",
              "    <button class=\"colab-df-convert\" onclick=\"convertToInteractive('df-22717623-40db-458c-abb0-a8bc2a2f6f44')\"\n",
              "            title=\"Convert this dataframe to an interactive table.\"\n",
              "            style=\"display:none;\">\n",
              "\n",
              "  <svg xmlns=\"http://www.w3.org/2000/svg\" height=\"24px\" viewBox=\"0 -960 960 960\">\n",
              "    <path d=\"M120-120v-720h720v720H120Zm60-500h600v-160H180v160Zm220 220h160v-160H400v160Zm0 220h160v-160H400v160ZM180-400h160v-160H180v160Zm440 0h160v-160H620v160ZM180-180h160v-160H180v160Zm440 0h160v-160H620v160Z\"/>\n",
              "  </svg>\n",
              "    </button>\n",
              "\n",
              "  <style>\n",
              "    .colab-df-container {\n",
              "      display:flex;\n",
              "      gap: 12px;\n",
              "    }\n",
              "\n",
              "    .colab-df-convert {\n",
              "      background-color: #E8F0FE;\n",
              "      border: none;\n",
              "      border-radius: 50%;\n",
              "      cursor: pointer;\n",
              "      display: none;\n",
              "      fill: #1967D2;\n",
              "      height: 32px;\n",
              "      padding: 0 0 0 0;\n",
              "      width: 32px;\n",
              "    }\n",
              "\n",
              "    .colab-df-convert:hover {\n",
              "      background-color: #E2EBFA;\n",
              "      box-shadow: 0px 1px 2px rgba(60, 64, 67, 0.3), 0px 1px 3px 1px rgba(60, 64, 67, 0.15);\n",
              "      fill: #174EA6;\n",
              "    }\n",
              "\n",
              "    .colab-df-buttons div {\n",
              "      margin-bottom: 4px;\n",
              "    }\n",
              "\n",
              "    [theme=dark] .colab-df-convert {\n",
              "      background-color: #3B4455;\n",
              "      fill: #D2E3FC;\n",
              "    }\n",
              "\n",
              "    [theme=dark] .colab-df-convert:hover {\n",
              "      background-color: #434B5C;\n",
              "      box-shadow: 0px 1px 3px 1px rgba(0, 0, 0, 0.15);\n",
              "      filter: drop-shadow(0px 1px 2px rgba(0, 0, 0, 0.3));\n",
              "      fill: #FFFFFF;\n",
              "    }\n",
              "  </style>\n",
              "\n",
              "    <script>\n",
              "      const buttonEl =\n",
              "        document.querySelector('#df-22717623-40db-458c-abb0-a8bc2a2f6f44 button.colab-df-convert');\n",
              "      buttonEl.style.display =\n",
              "        google.colab.kernel.accessAllowed ? 'block' : 'none';\n",
              "\n",
              "      async function convertToInteractive(key) {\n",
              "        const element = document.querySelector('#df-22717623-40db-458c-abb0-a8bc2a2f6f44');\n",
              "        const dataTable =\n",
              "          await google.colab.kernel.invokeFunction('convertToInteractive',\n",
              "                                                    [key], {});\n",
              "        if (!dataTable) return;\n",
              "\n",
              "        const docLinkHtml = 'Like what you see? Visit the ' +\n",
              "          '<a target=\"_blank\" href=https://colab.research.google.com/notebooks/data_table.ipynb>data table notebook</a>'\n",
              "          + ' to learn more about interactive tables.';\n",
              "        element.innerHTML = '';\n",
              "        dataTable['output_type'] = 'display_data';\n",
              "        await google.colab.output.renderOutput(dataTable, element);\n",
              "        const docLink = document.createElement('div');\n",
              "        docLink.innerHTML = docLinkHtml;\n",
              "        element.appendChild(docLink);\n",
              "      }\n",
              "    </script>\n",
              "  </div>\n",
              "\n",
              "\n",
              "<div id=\"df-33445202-f32a-440d-810b-e313ec07d1a9\">\n",
              "  <button class=\"colab-df-quickchart\" onclick=\"quickchart('df-33445202-f32a-440d-810b-e313ec07d1a9')\"\n",
              "            title=\"Suggest charts\"\n",
              "            style=\"display:none;\">\n",
              "\n",
              "<svg xmlns=\"http://www.w3.org/2000/svg\" height=\"24px\"viewBox=\"0 0 24 24\"\n",
              "     width=\"24px\">\n",
              "    <g>\n",
              "        <path d=\"M19 3H5c-1.1 0-2 .9-2 2v14c0 1.1.9 2 2 2h14c1.1 0 2-.9 2-2V5c0-1.1-.9-2-2-2zM9 17H7v-7h2v7zm4 0h-2V7h2v10zm4 0h-2v-4h2v4z\"/>\n",
              "    </g>\n",
              "</svg>\n",
              "  </button>\n",
              "\n",
              "<style>\n",
              "  .colab-df-quickchart {\n",
              "      --bg-color: #E8F0FE;\n",
              "      --fill-color: #1967D2;\n",
              "      --hover-bg-color: #E2EBFA;\n",
              "      --hover-fill-color: #174EA6;\n",
              "      --disabled-fill-color: #AAA;\n",
              "      --disabled-bg-color: #DDD;\n",
              "  }\n",
              "\n",
              "  [theme=dark] .colab-df-quickchart {\n",
              "      --bg-color: #3B4455;\n",
              "      --fill-color: #D2E3FC;\n",
              "      --hover-bg-color: #434B5C;\n",
              "      --hover-fill-color: #FFFFFF;\n",
              "      --disabled-bg-color: #3B4455;\n",
              "      --disabled-fill-color: #666;\n",
              "  }\n",
              "\n",
              "  .colab-df-quickchart {\n",
              "    background-color: var(--bg-color);\n",
              "    border: none;\n",
              "    border-radius: 50%;\n",
              "    cursor: pointer;\n",
              "    display: none;\n",
              "    fill: var(--fill-color);\n",
              "    height: 32px;\n",
              "    padding: 0;\n",
              "    width: 32px;\n",
              "  }\n",
              "\n",
              "  .colab-df-quickchart:hover {\n",
              "    background-color: var(--hover-bg-color);\n",
              "    box-shadow: 0 1px 2px rgba(60, 64, 67, 0.3), 0 1px 3px 1px rgba(60, 64, 67, 0.15);\n",
              "    fill: var(--button-hover-fill-color);\n",
              "  }\n",
              "\n",
              "  .colab-df-quickchart-complete:disabled,\n",
              "  .colab-df-quickchart-complete:disabled:hover {\n",
              "    background-color: var(--disabled-bg-color);\n",
              "    fill: var(--disabled-fill-color);\n",
              "    box-shadow: none;\n",
              "  }\n",
              "\n",
              "  .colab-df-spinner {\n",
              "    border: 2px solid var(--fill-color);\n",
              "    border-color: transparent;\n",
              "    border-bottom-color: var(--fill-color);\n",
              "    animation:\n",
              "      spin 1s steps(1) infinite;\n",
              "  }\n",
              "\n",
              "  @keyframes spin {\n",
              "    0% {\n",
              "      border-color: transparent;\n",
              "      border-bottom-color: var(--fill-color);\n",
              "      border-left-color: var(--fill-color);\n",
              "    }\n",
              "    20% {\n",
              "      border-color: transparent;\n",
              "      border-left-color: var(--fill-color);\n",
              "      border-top-color: var(--fill-color);\n",
              "    }\n",
              "    30% {\n",
              "      border-color: transparent;\n",
              "      border-left-color: var(--fill-color);\n",
              "      border-top-color: var(--fill-color);\n",
              "      border-right-color: var(--fill-color);\n",
              "    }\n",
              "    40% {\n",
              "      border-color: transparent;\n",
              "      border-right-color: var(--fill-color);\n",
              "      border-top-color: var(--fill-color);\n",
              "    }\n",
              "    60% {\n",
              "      border-color: transparent;\n",
              "      border-right-color: var(--fill-color);\n",
              "    }\n",
              "    80% {\n",
              "      border-color: transparent;\n",
              "      border-right-color: var(--fill-color);\n",
              "      border-bottom-color: var(--fill-color);\n",
              "    }\n",
              "    90% {\n",
              "      border-color: transparent;\n",
              "      border-bottom-color: var(--fill-color);\n",
              "    }\n",
              "  }\n",
              "</style>\n",
              "\n",
              "  <script>\n",
              "    async function quickchart(key) {\n",
              "      const quickchartButtonEl =\n",
              "        document.querySelector('#' + key + ' button');\n",
              "      quickchartButtonEl.disabled = true;  // To prevent multiple clicks.\n",
              "      quickchartButtonEl.classList.add('colab-df-spinner');\n",
              "      try {\n",
              "        const charts = await google.colab.kernel.invokeFunction(\n",
              "            'suggestCharts', [key], {});\n",
              "      } catch (error) {\n",
              "        console.error('Error during call to suggestCharts:', error);\n",
              "      }\n",
              "      quickchartButtonEl.classList.remove('colab-df-spinner');\n",
              "      quickchartButtonEl.classList.add('colab-df-quickchart-complete');\n",
              "    }\n",
              "    (() => {\n",
              "      let quickchartButtonEl =\n",
              "        document.querySelector('#df-33445202-f32a-440d-810b-e313ec07d1a9 button');\n",
              "      quickchartButtonEl.style.display =\n",
              "        google.colab.kernel.accessAllowed ? 'block' : 'none';\n",
              "    })();\n",
              "  </script>\n",
              "</div>\n",
              "    </div>\n",
              "  </div>\n"
            ]
          },
          "metadata": {},
          "execution_count": 34
        }
      ]
    },
    {
      "cell_type": "markdown",
      "source": [
        "# 3.2 Visualizar la forma del dataset"
      ],
      "metadata": {
        "id": "TTRD_Cq_UEZr"
      }
    },
    {
      "cell_type": "code",
      "source": [
        "offers.shape\n"
      ],
      "metadata": {
        "colab": {
          "base_uri": "https://localhost:8080/"
        },
        "id": "ld1n_nKhT_1a",
        "outputId": "2ea70798-f39a-45de-9a71-cd79a5356f06"
      },
      "execution_count": 35,
      "outputs": [
        {
          "output_type": "execute_result",
          "data": {
            "text/plain": [
              "(6130, 9)"
            ]
          },
          "metadata": {},
          "execution_count": 35
        }
      ]
    },
    {
      "cell_type": "markdown",
      "source": [
        "- Hay 6130 registros o filas\n",
        "- Hay 9 variables o columnas"
      ],
      "metadata": {
        "id": "3RmLpKFiUMdq"
      }
    },
    {
      "cell_type": "markdown",
      "source": [
        "# 3.3 Visualizar los tipos de variables y columnas del dataset"
      ],
      "metadata": {
        "id": "CN6XXFF_USKr"
      }
    },
    {
      "cell_type": "code",
      "source": [
        "offers.dtypes"
      ],
      "metadata": {
        "colab": {
          "base_uri": "https://localhost:8080/"
        },
        "id": "BT1vA3m-UIVR",
        "outputId": "5bb7b00e-69fd-40ae-ba2d-25903289a1b2"
      },
      "execution_count": 36,
      "outputs": [
        {
          "output_type": "execute_result",
          "data": {
            "text/plain": [
              "Id                object\n",
              "Use Case          object\n",
              "Status            object\n",
              "Created Date      object\n",
              "Close Date        object\n",
              "Price            float64\n",
              "Discount code     object\n",
              "Pain              object\n",
              "Loss Reason       object\n",
              "dtype: object"
            ]
          },
          "metadata": {},
          "execution_count": 36
        }
      ]
    },
    {
      "cell_type": "markdown",
      "source": [
        "- Hay 1 variables numerica y 8 variables tipo object"
      ],
      "metadata": {
        "id": "QnUiNaW2UcZi"
      }
    },
    {
      "cell_type": "code",
      "source": [
        "offers.columns"
      ],
      "metadata": {
        "colab": {
          "base_uri": "https://localhost:8080/"
        },
        "id": "sLEGqcKAUWmL",
        "outputId": "fbda89f0-caca-4cd7-935a-514a898b9168"
      },
      "execution_count": 37,
      "outputs": [
        {
          "output_type": "execute_result",
          "data": {
            "text/plain": [
              "Index(['Id', 'Use Case', 'Status', 'Created Date', 'Close Date', 'Price',\n",
              "       'Discount code', 'Pain', 'Loss Reason'],\n",
              "      dtype='object')"
            ]
          },
          "metadata": {},
          "execution_count": 37
        }
      ]
    },
    {
      "cell_type": "markdown",
      "source": [
        "- Id: Un identificador único asociado a cada oferta.\n",
        "\n",
        "- Use Case: Describe el caso de uso al que está asociada la oferta.\n",
        "\n",
        "- Status: Indica el estado de la oferta.\n",
        "\n",
        "- Created Date: La fecha en la que se creó la oferta.\n",
        "\n",
        "- Close Date: La fecha en la que se cerró la oferta.\n",
        "\n",
        "- Price: El precio asociado a la oferta.\n",
        "\n",
        "- Discount code: Código de descuento aplicado a la oferta, si es aplicable.\n",
        "\n",
        "- Pain: Describe el dolor o el problema que la oferta intenta resolver.\n",
        "\n",
        "- Loss Reason: Razón por la cual la oferta fue perdida."
      ],
      "metadata": {
        "id": "NqnGStBjUt1M"
      }
    },
    {
      "cell_type": "code",
      "source": [
        "offers.info()"
      ],
      "metadata": {
        "colab": {
          "base_uri": "https://localhost:8080/"
        },
        "id": "V9MiCXLxUhiD",
        "outputId": "a8518df5-7493-412d-c56a-6961ea6aff88"
      },
      "execution_count": 38,
      "outputs": [
        {
          "output_type": "stream",
          "name": "stdout",
          "text": [
            "<class 'pandas.core.frame.DataFrame'>\n",
            "RangeIndex: 6130 entries, 0 to 6129\n",
            "Data columns (total 9 columns):\n",
            " #   Column         Non-Null Count  Dtype  \n",
            "---  ------         --------------  -----  \n",
            " 0   Id             4962 non-null   object \n",
            " 1   Use Case       6093 non-null   object \n",
            " 2   Status         6130 non-null   object \n",
            " 3   Created Date   6130 non-null   object \n",
            " 4   Close Date     6130 non-null   object \n",
            " 5   Price          5765 non-null   float64\n",
            " 6   Discount code  4431 non-null   object \n",
            " 7   Pain           5261 non-null   object \n",
            " 8   Loss Reason    2364 non-null   object \n",
            "dtypes: float64(1), object(8)\n",
            "memory usage: 431.1+ KB\n"
          ]
        }
      ]
    },
    {
      "cell_type": "markdown",
      "source": [
        "# 3.4 Visualizar las estadisiticas descriptivas de las variable numericas"
      ],
      "metadata": {
        "id": "dwKfHDMXVEZf"
      }
    },
    {
      "cell_type": "code",
      "source": [
        "offers.describe().transpose()"
      ],
      "metadata": {
        "colab": {
          "base_uri": "https://localhost:8080/",
          "height": 81
        },
        "id": "Wyj6mNL_VBpc",
        "outputId": "c4a0668c-7129-45db-949c-861523d1cdc0"
      },
      "execution_count": 39,
      "outputs": [
        {
          "output_type": "execute_result",
          "data": {
            "text/plain": [
              "        count         mean           std  min    25%    50%    75%       max\n",
              "Price  5765.0  1303.754033  10378.953376  0.0  240.0  360.0  768.0  399304.0"
            ],
            "text/html": [
              "\n",
              "  <div id=\"df-758f4972-4f69-4f17-9d2e-ca9a325db6c6\" class=\"colab-df-container\">\n",
              "    <div>\n",
              "<style scoped>\n",
              "    .dataframe tbody tr th:only-of-type {\n",
              "        vertical-align: middle;\n",
              "    }\n",
              "\n",
              "    .dataframe tbody tr th {\n",
              "        vertical-align: top;\n",
              "    }\n",
              "\n",
              "    .dataframe thead th {\n",
              "        text-align: right;\n",
              "    }\n",
              "</style>\n",
              "<table border=\"1\" class=\"dataframe\">\n",
              "  <thead>\n",
              "    <tr style=\"text-align: right;\">\n",
              "      <th></th>\n",
              "      <th>count</th>\n",
              "      <th>mean</th>\n",
              "      <th>std</th>\n",
              "      <th>min</th>\n",
              "      <th>25%</th>\n",
              "      <th>50%</th>\n",
              "      <th>75%</th>\n",
              "      <th>max</th>\n",
              "    </tr>\n",
              "  </thead>\n",
              "  <tbody>\n",
              "    <tr>\n",
              "      <th>Price</th>\n",
              "      <td>5765.0</td>\n",
              "      <td>1303.754033</td>\n",
              "      <td>10378.953376</td>\n",
              "      <td>0.0</td>\n",
              "      <td>240.0</td>\n",
              "      <td>360.0</td>\n",
              "      <td>768.0</td>\n",
              "      <td>399304.0</td>\n",
              "    </tr>\n",
              "  </tbody>\n",
              "</table>\n",
              "</div>\n",
              "    <div class=\"colab-df-buttons\">\n",
              "\n",
              "  <div class=\"colab-df-container\">\n",
              "    <button class=\"colab-df-convert\" onclick=\"convertToInteractive('df-758f4972-4f69-4f17-9d2e-ca9a325db6c6')\"\n",
              "            title=\"Convert this dataframe to an interactive table.\"\n",
              "            style=\"display:none;\">\n",
              "\n",
              "  <svg xmlns=\"http://www.w3.org/2000/svg\" height=\"24px\" viewBox=\"0 -960 960 960\">\n",
              "    <path d=\"M120-120v-720h720v720H120Zm60-500h600v-160H180v160Zm220 220h160v-160H400v160Zm0 220h160v-160H400v160ZM180-400h160v-160H180v160Zm440 0h160v-160H620v160ZM180-180h160v-160H180v160Zm440 0h160v-160H620v160Z\"/>\n",
              "  </svg>\n",
              "    </button>\n",
              "\n",
              "  <style>\n",
              "    .colab-df-container {\n",
              "      display:flex;\n",
              "      gap: 12px;\n",
              "    }\n",
              "\n",
              "    .colab-df-convert {\n",
              "      background-color: #E8F0FE;\n",
              "      border: none;\n",
              "      border-radius: 50%;\n",
              "      cursor: pointer;\n",
              "      display: none;\n",
              "      fill: #1967D2;\n",
              "      height: 32px;\n",
              "      padding: 0 0 0 0;\n",
              "      width: 32px;\n",
              "    }\n",
              "\n",
              "    .colab-df-convert:hover {\n",
              "      background-color: #E2EBFA;\n",
              "      box-shadow: 0px 1px 2px rgba(60, 64, 67, 0.3), 0px 1px 3px 1px rgba(60, 64, 67, 0.15);\n",
              "      fill: #174EA6;\n",
              "    }\n",
              "\n",
              "    .colab-df-buttons div {\n",
              "      margin-bottom: 4px;\n",
              "    }\n",
              "\n",
              "    [theme=dark] .colab-df-convert {\n",
              "      background-color: #3B4455;\n",
              "      fill: #D2E3FC;\n",
              "    }\n",
              "\n",
              "    [theme=dark] .colab-df-convert:hover {\n",
              "      background-color: #434B5C;\n",
              "      box-shadow: 0px 1px 3px 1px rgba(0, 0, 0, 0.15);\n",
              "      filter: drop-shadow(0px 1px 2px rgba(0, 0, 0, 0.3));\n",
              "      fill: #FFFFFF;\n",
              "    }\n",
              "  </style>\n",
              "\n",
              "    <script>\n",
              "      const buttonEl =\n",
              "        document.querySelector('#df-758f4972-4f69-4f17-9d2e-ca9a325db6c6 button.colab-df-convert');\n",
              "      buttonEl.style.display =\n",
              "        google.colab.kernel.accessAllowed ? 'block' : 'none';\n",
              "\n",
              "      async function convertToInteractive(key) {\n",
              "        const element = document.querySelector('#df-758f4972-4f69-4f17-9d2e-ca9a325db6c6');\n",
              "        const dataTable =\n",
              "          await google.colab.kernel.invokeFunction('convertToInteractive',\n",
              "                                                    [key], {});\n",
              "        if (!dataTable) return;\n",
              "\n",
              "        const docLinkHtml = 'Like what you see? Visit the ' +\n",
              "          '<a target=\"_blank\" href=https://colab.research.google.com/notebooks/data_table.ipynb>data table notebook</a>'\n",
              "          + ' to learn more about interactive tables.';\n",
              "        element.innerHTML = '';\n",
              "        dataTable['output_type'] = 'display_data';\n",
              "        await google.colab.output.renderOutput(dataTable, element);\n",
              "        const docLink = document.createElement('div');\n",
              "        docLink.innerHTML = docLinkHtml;\n",
              "        element.appendChild(docLink);\n",
              "      }\n",
              "    </script>\n",
              "  </div>\n",
              "\n",
              "    </div>\n",
              "  </div>\n"
            ]
          },
          "metadata": {},
          "execution_count": 39
        }
      ]
    },
    {
      "cell_type": "markdown",
      "source": [
        "- se observa que el promedio del precio 1303.754033, y qeu su rango va desde 0 hasta 33904.0"
      ],
      "metadata": {
        "id": "gldwQr6CVUFM"
      }
    },
    {
      "cell_type": "markdown",
      "source": [
        "# 3.5 Verificamos si existen datos nulos en el dataset"
      ],
      "metadata": {
        "id": "IKTk1va5Vhk0"
      }
    },
    {
      "cell_type": "code",
      "source": [
        "offers.isnull().sum()"
      ],
      "metadata": {
        "colab": {
          "base_uri": "https://localhost:8080/"
        },
        "id": "c_aq4JYiVRW7",
        "outputId": "715283c8-e03f-4a4e-d8da-8bde2777d764"
      },
      "execution_count": 40,
      "outputs": [
        {
          "output_type": "execute_result",
          "data": {
            "text/plain": [
              "Id               1168\n",
              "Use Case           37\n",
              "Status              0\n",
              "Created Date        0\n",
              "Close Date          0\n",
              "Price             365\n",
              "Discount code    1699\n",
              "Pain              869\n",
              "Loss Reason      3766\n",
              "dtype: int64"
            ]
          },
          "metadata": {},
          "execution_count": 40
        }
      ]
    },
    {
      "cell_type": "markdown",
      "source": [
        "- Se observo que hay datos nulos en el dataset, por lo cual, es necesario aplicar un tratatamiento, tambien el id de la oferta hay 1168 regitrso nulos."
      ],
      "metadata": {
        "id": "5qNZGMIdVpAc"
      }
    },
    {
      "cell_type": "code",
      "source": [
        "\n",
        "offers['Created Date'] = pd.to_datetime(offers['Created Date'])\n",
        "offers['Close Date'] = pd.to_datetime(offers['Close Date'])\n",
        "\n",
        "\n",
        "offers['duration days'] = (offers['Close Date'] - offers['Created Date']).dt.days\n",
        "\n",
        "\n",
        "offers['duration days'] = offers['duration days'].clip(lower=0)\n",
        "\n",
        "\n",
        "offers.drop(columns = 'Created Date', inplace = True)\n",
        "offers.drop(columns = 'Close Date', inplace = True)\n"
      ],
      "metadata": {
        "id": "7SZKBBeDJwyR"
      },
      "execution_count": 41,
      "outputs": []
    },
    {
      "cell_type": "markdown",
      "source": [
        "- Lo que se hace es usar la variable de creacio de oferta y cierre, para generar una variable que mida cuanto duro cada oferta desde que se creo hasta que se cerro en dia, las que se iniciaron y se cerraron el mismo dia tendra un valor de 0, las otras variables de fechas se eliminan."
      ],
      "metadata": {
        "id": "gM47GaS9Kd6C"
      }
    },
    {
      "cell_type": "code",
      "source": [
        "\n",
        "offers"
      ],
      "metadata": {
        "colab": {
          "base_uri": "https://localhost:8080/",
          "height": 424
        },
        "id": "ysnPR5ciKYS-",
        "outputId": "1a0746e1-d97f-4723-d463-8e8fbbc0ff7e"
      },
      "execution_count": 42,
      "outputs": [
        {
          "output_type": "execute_result",
          "data": {
            "text/plain": [
              "            Id              Use Case       Status   Price    Discount code  \\\n",
              "0     doqyhjtv  Educational Seminars   Closed Won   300.0       SAVEMORE50   \n",
              "1          NaN         Sports Events  Closed Lost   150.0              NaN   \n",
              "2          NaN         Sports Events  Closed Lost   768.0      HALFYEAR20G   \n",
              "3     cturqi48      Corporate Events   Closed Won   240.0  DISCOUNT50POWER   \n",
              "4          NaN         Sports Events  Closed Lost   240.0     SAVEMONTH50G   \n",
              "...        ...                   ...          ...     ...              ...   \n",
              "6125       NaN      Corporate Events  Closed Lost   120.0              NaN   \n",
              "6126       NaN      Wedding Planning   Closed Won     NaN              NaN   \n",
              "6127  88tre7ve      Corporate Events  Closed Lost   768.0  2SEMESTERS20OFF   \n",
              "6128  2d15fo90      Corporate Events  Closed Lost  1344.0              NaN   \n",
              "6129  9k6zoun6         Sports Events   Closed Won   240.0     SAVEMONTH50G   \n",
              "\n",
              "                   Pain     Loss Reason  duration days  \n",
              "0            operations             NaN              0  \n",
              "1            operations           price              1  \n",
              "2            operations     no response              1  \n",
              "3     financial control             NaN              0  \n",
              "4     financial control     no response              8  \n",
              "...                 ...             ...            ...  \n",
              "6125         operations           price              1  \n",
              "6126                NaN             NaN              0  \n",
              "6127         operations     no response              0  \n",
              "6128         operations  no product fit              6  \n",
              "6129         operations             NaN              1  \n",
              "\n",
              "[6130 rows x 8 columns]"
            ],
            "text/html": [
              "\n",
              "  <div id=\"df-986d3cc7-ad5f-4b08-bf20-e4cd14b5d70e\" class=\"colab-df-container\">\n",
              "    <div>\n",
              "<style scoped>\n",
              "    .dataframe tbody tr th:only-of-type {\n",
              "        vertical-align: middle;\n",
              "    }\n",
              "\n",
              "    .dataframe tbody tr th {\n",
              "        vertical-align: top;\n",
              "    }\n",
              "\n",
              "    .dataframe thead th {\n",
              "        text-align: right;\n",
              "    }\n",
              "</style>\n",
              "<table border=\"1\" class=\"dataframe\">\n",
              "  <thead>\n",
              "    <tr style=\"text-align: right;\">\n",
              "      <th></th>\n",
              "      <th>Id</th>\n",
              "      <th>Use Case</th>\n",
              "      <th>Status</th>\n",
              "      <th>Price</th>\n",
              "      <th>Discount code</th>\n",
              "      <th>Pain</th>\n",
              "      <th>Loss Reason</th>\n",
              "      <th>duration days</th>\n",
              "    </tr>\n",
              "  </thead>\n",
              "  <tbody>\n",
              "    <tr>\n",
              "      <th>0</th>\n",
              "      <td>doqyhjtv</td>\n",
              "      <td>Educational Seminars</td>\n",
              "      <td>Closed Won</td>\n",
              "      <td>300.0</td>\n",
              "      <td>SAVEMORE50</td>\n",
              "      <td>operations</td>\n",
              "      <td>NaN</td>\n",
              "      <td>0</td>\n",
              "    </tr>\n",
              "    <tr>\n",
              "      <th>1</th>\n",
              "      <td>NaN</td>\n",
              "      <td>Sports Events</td>\n",
              "      <td>Closed Lost</td>\n",
              "      <td>150.0</td>\n",
              "      <td>NaN</td>\n",
              "      <td>operations</td>\n",
              "      <td>price</td>\n",
              "      <td>1</td>\n",
              "    </tr>\n",
              "    <tr>\n",
              "      <th>2</th>\n",
              "      <td>NaN</td>\n",
              "      <td>Sports Events</td>\n",
              "      <td>Closed Lost</td>\n",
              "      <td>768.0</td>\n",
              "      <td>HALFYEAR20G</td>\n",
              "      <td>operations</td>\n",
              "      <td>no response</td>\n",
              "      <td>1</td>\n",
              "    </tr>\n",
              "    <tr>\n",
              "      <th>3</th>\n",
              "      <td>cturqi48</td>\n",
              "      <td>Corporate Events</td>\n",
              "      <td>Closed Won</td>\n",
              "      <td>240.0</td>\n",
              "      <td>DISCOUNT50POWER</td>\n",
              "      <td>financial control</td>\n",
              "      <td>NaN</td>\n",
              "      <td>0</td>\n",
              "    </tr>\n",
              "    <tr>\n",
              "      <th>4</th>\n",
              "      <td>NaN</td>\n",
              "      <td>Sports Events</td>\n",
              "      <td>Closed Lost</td>\n",
              "      <td>240.0</td>\n",
              "      <td>SAVEMONTH50G</td>\n",
              "      <td>financial control</td>\n",
              "      <td>no response</td>\n",
              "      <td>8</td>\n",
              "    </tr>\n",
              "    <tr>\n",
              "      <th>...</th>\n",
              "      <td>...</td>\n",
              "      <td>...</td>\n",
              "      <td>...</td>\n",
              "      <td>...</td>\n",
              "      <td>...</td>\n",
              "      <td>...</td>\n",
              "      <td>...</td>\n",
              "      <td>...</td>\n",
              "    </tr>\n",
              "    <tr>\n",
              "      <th>6125</th>\n",
              "      <td>NaN</td>\n",
              "      <td>Corporate Events</td>\n",
              "      <td>Closed Lost</td>\n",
              "      <td>120.0</td>\n",
              "      <td>NaN</td>\n",
              "      <td>operations</td>\n",
              "      <td>price</td>\n",
              "      <td>1</td>\n",
              "    </tr>\n",
              "    <tr>\n",
              "      <th>6126</th>\n",
              "      <td>NaN</td>\n",
              "      <td>Wedding Planning</td>\n",
              "      <td>Closed Won</td>\n",
              "      <td>NaN</td>\n",
              "      <td>NaN</td>\n",
              "      <td>NaN</td>\n",
              "      <td>NaN</td>\n",
              "      <td>0</td>\n",
              "    </tr>\n",
              "    <tr>\n",
              "      <th>6127</th>\n",
              "      <td>88tre7ve</td>\n",
              "      <td>Corporate Events</td>\n",
              "      <td>Closed Lost</td>\n",
              "      <td>768.0</td>\n",
              "      <td>2SEMESTERS20OFF</td>\n",
              "      <td>operations</td>\n",
              "      <td>no response</td>\n",
              "      <td>0</td>\n",
              "    </tr>\n",
              "    <tr>\n",
              "      <th>6128</th>\n",
              "      <td>2d15fo90</td>\n",
              "      <td>Corporate Events</td>\n",
              "      <td>Closed Lost</td>\n",
              "      <td>1344.0</td>\n",
              "      <td>NaN</td>\n",
              "      <td>operations</td>\n",
              "      <td>no product fit</td>\n",
              "      <td>6</td>\n",
              "    </tr>\n",
              "    <tr>\n",
              "      <th>6129</th>\n",
              "      <td>9k6zoun6</td>\n",
              "      <td>Sports Events</td>\n",
              "      <td>Closed Won</td>\n",
              "      <td>240.0</td>\n",
              "      <td>SAVEMONTH50G</td>\n",
              "      <td>operations</td>\n",
              "      <td>NaN</td>\n",
              "      <td>1</td>\n",
              "    </tr>\n",
              "  </tbody>\n",
              "</table>\n",
              "<p>6130 rows × 8 columns</p>\n",
              "</div>\n",
              "    <div class=\"colab-df-buttons\">\n",
              "\n",
              "  <div class=\"colab-df-container\">\n",
              "    <button class=\"colab-df-convert\" onclick=\"convertToInteractive('df-986d3cc7-ad5f-4b08-bf20-e4cd14b5d70e')\"\n",
              "            title=\"Convert this dataframe to an interactive table.\"\n",
              "            style=\"display:none;\">\n",
              "\n",
              "  <svg xmlns=\"http://www.w3.org/2000/svg\" height=\"24px\" viewBox=\"0 -960 960 960\">\n",
              "    <path d=\"M120-120v-720h720v720H120Zm60-500h600v-160H180v160Zm220 220h160v-160H400v160Zm0 220h160v-160H400v160ZM180-400h160v-160H180v160Zm440 0h160v-160H620v160ZM180-180h160v-160H180v160Zm440 0h160v-160H620v160Z\"/>\n",
              "  </svg>\n",
              "    </button>\n",
              "\n",
              "  <style>\n",
              "    .colab-df-container {\n",
              "      display:flex;\n",
              "      gap: 12px;\n",
              "    }\n",
              "\n",
              "    .colab-df-convert {\n",
              "      background-color: #E8F0FE;\n",
              "      border: none;\n",
              "      border-radius: 50%;\n",
              "      cursor: pointer;\n",
              "      display: none;\n",
              "      fill: #1967D2;\n",
              "      height: 32px;\n",
              "      padding: 0 0 0 0;\n",
              "      width: 32px;\n",
              "    }\n",
              "\n",
              "    .colab-df-convert:hover {\n",
              "      background-color: #E2EBFA;\n",
              "      box-shadow: 0px 1px 2px rgba(60, 64, 67, 0.3), 0px 1px 3px 1px rgba(60, 64, 67, 0.15);\n",
              "      fill: #174EA6;\n",
              "    }\n",
              "\n",
              "    .colab-df-buttons div {\n",
              "      margin-bottom: 4px;\n",
              "    }\n",
              "\n",
              "    [theme=dark] .colab-df-convert {\n",
              "      background-color: #3B4455;\n",
              "      fill: #D2E3FC;\n",
              "    }\n",
              "\n",
              "    [theme=dark] .colab-df-convert:hover {\n",
              "      background-color: #434B5C;\n",
              "      box-shadow: 0px 1px 3px 1px rgba(0, 0, 0, 0.15);\n",
              "      filter: drop-shadow(0px 1px 2px rgba(0, 0, 0, 0.3));\n",
              "      fill: #FFFFFF;\n",
              "    }\n",
              "  </style>\n",
              "\n",
              "    <script>\n",
              "      const buttonEl =\n",
              "        document.querySelector('#df-986d3cc7-ad5f-4b08-bf20-e4cd14b5d70e button.colab-df-convert');\n",
              "      buttonEl.style.display =\n",
              "        google.colab.kernel.accessAllowed ? 'block' : 'none';\n",
              "\n",
              "      async function convertToInteractive(key) {\n",
              "        const element = document.querySelector('#df-986d3cc7-ad5f-4b08-bf20-e4cd14b5d70e');\n",
              "        const dataTable =\n",
              "          await google.colab.kernel.invokeFunction('convertToInteractive',\n",
              "                                                    [key], {});\n",
              "        if (!dataTable) return;\n",
              "\n",
              "        const docLinkHtml = 'Like what you see? Visit the ' +\n",
              "          '<a target=\"_blank\" href=https://colab.research.google.com/notebooks/data_table.ipynb>data table notebook</a>'\n",
              "          + ' to learn more about interactive tables.';\n",
              "        element.innerHTML = '';\n",
              "        dataTable['output_type'] = 'display_data';\n",
              "        await google.colab.output.renderOutput(dataTable, element);\n",
              "        const docLink = document.createElement('div');\n",
              "        docLink.innerHTML = docLinkHtml;\n",
              "        element.appendChild(docLink);\n",
              "      }\n",
              "    </script>\n",
              "  </div>\n",
              "\n",
              "\n",
              "<div id=\"df-b4606d36-6f28-43f7-a663-24b520a96677\">\n",
              "  <button class=\"colab-df-quickchart\" onclick=\"quickchart('df-b4606d36-6f28-43f7-a663-24b520a96677')\"\n",
              "            title=\"Suggest charts\"\n",
              "            style=\"display:none;\">\n",
              "\n",
              "<svg xmlns=\"http://www.w3.org/2000/svg\" height=\"24px\"viewBox=\"0 0 24 24\"\n",
              "     width=\"24px\">\n",
              "    <g>\n",
              "        <path d=\"M19 3H5c-1.1 0-2 .9-2 2v14c0 1.1.9 2 2 2h14c1.1 0 2-.9 2-2V5c0-1.1-.9-2-2-2zM9 17H7v-7h2v7zm4 0h-2V7h2v10zm4 0h-2v-4h2v4z\"/>\n",
              "    </g>\n",
              "</svg>\n",
              "  </button>\n",
              "\n",
              "<style>\n",
              "  .colab-df-quickchart {\n",
              "      --bg-color: #E8F0FE;\n",
              "      --fill-color: #1967D2;\n",
              "      --hover-bg-color: #E2EBFA;\n",
              "      --hover-fill-color: #174EA6;\n",
              "      --disabled-fill-color: #AAA;\n",
              "      --disabled-bg-color: #DDD;\n",
              "  }\n",
              "\n",
              "  [theme=dark] .colab-df-quickchart {\n",
              "      --bg-color: #3B4455;\n",
              "      --fill-color: #D2E3FC;\n",
              "      --hover-bg-color: #434B5C;\n",
              "      --hover-fill-color: #FFFFFF;\n",
              "      --disabled-bg-color: #3B4455;\n",
              "      --disabled-fill-color: #666;\n",
              "  }\n",
              "\n",
              "  .colab-df-quickchart {\n",
              "    background-color: var(--bg-color);\n",
              "    border: none;\n",
              "    border-radius: 50%;\n",
              "    cursor: pointer;\n",
              "    display: none;\n",
              "    fill: var(--fill-color);\n",
              "    height: 32px;\n",
              "    padding: 0;\n",
              "    width: 32px;\n",
              "  }\n",
              "\n",
              "  .colab-df-quickchart:hover {\n",
              "    background-color: var(--hover-bg-color);\n",
              "    box-shadow: 0 1px 2px rgba(60, 64, 67, 0.3), 0 1px 3px 1px rgba(60, 64, 67, 0.15);\n",
              "    fill: var(--button-hover-fill-color);\n",
              "  }\n",
              "\n",
              "  .colab-df-quickchart-complete:disabled,\n",
              "  .colab-df-quickchart-complete:disabled:hover {\n",
              "    background-color: var(--disabled-bg-color);\n",
              "    fill: var(--disabled-fill-color);\n",
              "    box-shadow: none;\n",
              "  }\n",
              "\n",
              "  .colab-df-spinner {\n",
              "    border: 2px solid var(--fill-color);\n",
              "    border-color: transparent;\n",
              "    border-bottom-color: var(--fill-color);\n",
              "    animation:\n",
              "      spin 1s steps(1) infinite;\n",
              "  }\n",
              "\n",
              "  @keyframes spin {\n",
              "    0% {\n",
              "      border-color: transparent;\n",
              "      border-bottom-color: var(--fill-color);\n",
              "      border-left-color: var(--fill-color);\n",
              "    }\n",
              "    20% {\n",
              "      border-color: transparent;\n",
              "      border-left-color: var(--fill-color);\n",
              "      border-top-color: var(--fill-color);\n",
              "    }\n",
              "    30% {\n",
              "      border-color: transparent;\n",
              "      border-left-color: var(--fill-color);\n",
              "      border-top-color: var(--fill-color);\n",
              "      border-right-color: var(--fill-color);\n",
              "    }\n",
              "    40% {\n",
              "      border-color: transparent;\n",
              "      border-right-color: var(--fill-color);\n",
              "      border-top-color: var(--fill-color);\n",
              "    }\n",
              "    60% {\n",
              "      border-color: transparent;\n",
              "      border-right-color: var(--fill-color);\n",
              "    }\n",
              "    80% {\n",
              "      border-color: transparent;\n",
              "      border-right-color: var(--fill-color);\n",
              "      border-bottom-color: var(--fill-color);\n",
              "    }\n",
              "    90% {\n",
              "      border-color: transparent;\n",
              "      border-bottom-color: var(--fill-color);\n",
              "    }\n",
              "  }\n",
              "</style>\n",
              "\n",
              "  <script>\n",
              "    async function quickchart(key) {\n",
              "      const quickchartButtonEl =\n",
              "        document.querySelector('#' + key + ' button');\n",
              "      quickchartButtonEl.disabled = true;  // To prevent multiple clicks.\n",
              "      quickchartButtonEl.classList.add('colab-df-spinner');\n",
              "      try {\n",
              "        const charts = await google.colab.kernel.invokeFunction(\n",
              "            'suggestCharts', [key], {});\n",
              "      } catch (error) {\n",
              "        console.error('Error during call to suggestCharts:', error);\n",
              "      }\n",
              "      quickchartButtonEl.classList.remove('colab-df-spinner');\n",
              "      quickchartButtonEl.classList.add('colab-df-quickchart-complete');\n",
              "    }\n",
              "    (() => {\n",
              "      let quickchartButtonEl =\n",
              "        document.querySelector('#df-b4606d36-6f28-43f7-a663-24b520a96677 button');\n",
              "      quickchartButtonEl.style.display =\n",
              "        google.colab.kernel.accessAllowed ? 'block' : 'none';\n",
              "    })();\n",
              "  </script>\n",
              "</div>\n",
              "    </div>\n",
              "  </div>\n"
            ]
          },
          "metadata": {},
          "execution_count": 42
        }
      ]
    },
    {
      "cell_type": "markdown",
      "source": [
        "# 3.6 Verificamos hay registros duplicados en el dataset"
      ],
      "metadata": {
        "id": "6O2ckG31V5A9"
      }
    },
    {
      "cell_type": "code",
      "source": [
        "duplicados = offers.duplicated(keep=False)\n",
        "duplicados_filas = offers[duplicados]\n",
        "print(\"Filas duplicadas:\")\n",
        "duplicados_filas"
      ],
      "metadata": {
        "colab": {
          "base_uri": "https://localhost:8080/",
          "height": 441
        },
        "id": "taQaHs6hVmXz",
        "outputId": "84b06682-fdae-49ec-e447-844c079f036e"
      },
      "execution_count": 43,
      "outputs": [
        {
          "output_type": "stream",
          "name": "stdout",
          "text": [
            "Filas duplicadas:\n"
          ]
        },
        {
          "output_type": "execute_result",
          "data": {
            "text/plain": [
              "       Id              Use Case       Status   Price    Discount code  \\\n",
              "9     NaN      Corporate Events  Closed Lost  1344.0    YEARLY30PROMO   \n",
              "43    NaN      Wedding Planning  Closed Lost     NaN              NaN   \n",
              "148   NaN      Wedding Planning  Closed Lost     NaN              NaN   \n",
              "171   NaN      Wedding Planning   Closed Won     NaN              NaN   \n",
              "173   NaN      Wedding Planning  Closed Lost     NaN              NaN   \n",
              "...   ...                   ...          ...     ...              ...   \n",
              "6003  NaN      Wedding Planning   Closed Won   200.0              NaN   \n",
              "6013  NaN  Educational Seminars  Closed Lost   360.0  DISCOUNT25QUICK   \n",
              "6020  NaN      Wedding Planning   Closed Won   200.0              NaN   \n",
              "6039  NaN      Wedding Planning   Closed Won     NaN              NaN   \n",
              "6126  NaN      Wedding Planning   Closed Won     NaN              NaN   \n",
              "\n",
              "            Pain         Loss Reason  duration days  \n",
              "9     operations  lost to competitor              7  \n",
              "43           NaN         no response              0  \n",
              "148          NaN           no budget              0  \n",
              "171          NaN                 NaN              5  \n",
              "173          NaN         no response              0  \n",
              "...          ...                 ...            ...  \n",
              "6003         NaN                 NaN              0  \n",
              "6013  operations  lost to competitor              0  \n",
              "6020         NaN                 NaN              0  \n",
              "6039         NaN                 NaN              1  \n",
              "6126         NaN                 NaN              0  \n",
              "\n",
              "[328 rows x 8 columns]"
            ],
            "text/html": [
              "\n",
              "  <div id=\"df-bdb2040b-5c39-4c08-9e87-9d5a1df128c7\" class=\"colab-df-container\">\n",
              "    <div>\n",
              "<style scoped>\n",
              "    .dataframe tbody tr th:only-of-type {\n",
              "        vertical-align: middle;\n",
              "    }\n",
              "\n",
              "    .dataframe tbody tr th {\n",
              "        vertical-align: top;\n",
              "    }\n",
              "\n",
              "    .dataframe thead th {\n",
              "        text-align: right;\n",
              "    }\n",
              "</style>\n",
              "<table border=\"1\" class=\"dataframe\">\n",
              "  <thead>\n",
              "    <tr style=\"text-align: right;\">\n",
              "      <th></th>\n",
              "      <th>Id</th>\n",
              "      <th>Use Case</th>\n",
              "      <th>Status</th>\n",
              "      <th>Price</th>\n",
              "      <th>Discount code</th>\n",
              "      <th>Pain</th>\n",
              "      <th>Loss Reason</th>\n",
              "      <th>duration days</th>\n",
              "    </tr>\n",
              "  </thead>\n",
              "  <tbody>\n",
              "    <tr>\n",
              "      <th>9</th>\n",
              "      <td>NaN</td>\n",
              "      <td>Corporate Events</td>\n",
              "      <td>Closed Lost</td>\n",
              "      <td>1344.0</td>\n",
              "      <td>YEARLY30PROMO</td>\n",
              "      <td>operations</td>\n",
              "      <td>lost to competitor</td>\n",
              "      <td>7</td>\n",
              "    </tr>\n",
              "    <tr>\n",
              "      <th>43</th>\n",
              "      <td>NaN</td>\n",
              "      <td>Wedding Planning</td>\n",
              "      <td>Closed Lost</td>\n",
              "      <td>NaN</td>\n",
              "      <td>NaN</td>\n",
              "      <td>NaN</td>\n",
              "      <td>no response</td>\n",
              "      <td>0</td>\n",
              "    </tr>\n",
              "    <tr>\n",
              "      <th>148</th>\n",
              "      <td>NaN</td>\n",
              "      <td>Wedding Planning</td>\n",
              "      <td>Closed Lost</td>\n",
              "      <td>NaN</td>\n",
              "      <td>NaN</td>\n",
              "      <td>NaN</td>\n",
              "      <td>no budget</td>\n",
              "      <td>0</td>\n",
              "    </tr>\n",
              "    <tr>\n",
              "      <th>171</th>\n",
              "      <td>NaN</td>\n",
              "      <td>Wedding Planning</td>\n",
              "      <td>Closed Won</td>\n",
              "      <td>NaN</td>\n",
              "      <td>NaN</td>\n",
              "      <td>NaN</td>\n",
              "      <td>NaN</td>\n",
              "      <td>5</td>\n",
              "    </tr>\n",
              "    <tr>\n",
              "      <th>173</th>\n",
              "      <td>NaN</td>\n",
              "      <td>Wedding Planning</td>\n",
              "      <td>Closed Lost</td>\n",
              "      <td>NaN</td>\n",
              "      <td>NaN</td>\n",
              "      <td>NaN</td>\n",
              "      <td>no response</td>\n",
              "      <td>0</td>\n",
              "    </tr>\n",
              "    <tr>\n",
              "      <th>...</th>\n",
              "      <td>...</td>\n",
              "      <td>...</td>\n",
              "      <td>...</td>\n",
              "      <td>...</td>\n",
              "      <td>...</td>\n",
              "      <td>...</td>\n",
              "      <td>...</td>\n",
              "      <td>...</td>\n",
              "    </tr>\n",
              "    <tr>\n",
              "      <th>6003</th>\n",
              "      <td>NaN</td>\n",
              "      <td>Wedding Planning</td>\n",
              "      <td>Closed Won</td>\n",
              "      <td>200.0</td>\n",
              "      <td>NaN</td>\n",
              "      <td>NaN</td>\n",
              "      <td>NaN</td>\n",
              "      <td>0</td>\n",
              "    </tr>\n",
              "    <tr>\n",
              "      <th>6013</th>\n",
              "      <td>NaN</td>\n",
              "      <td>Educational Seminars</td>\n",
              "      <td>Closed Lost</td>\n",
              "      <td>360.0</td>\n",
              "      <td>DISCOUNT25QUICK</td>\n",
              "      <td>operations</td>\n",
              "      <td>lost to competitor</td>\n",
              "      <td>0</td>\n",
              "    </tr>\n",
              "    <tr>\n",
              "      <th>6020</th>\n",
              "      <td>NaN</td>\n",
              "      <td>Wedding Planning</td>\n",
              "      <td>Closed Won</td>\n",
              "      <td>200.0</td>\n",
              "      <td>NaN</td>\n",
              "      <td>NaN</td>\n",
              "      <td>NaN</td>\n",
              "      <td>0</td>\n",
              "    </tr>\n",
              "    <tr>\n",
              "      <th>6039</th>\n",
              "      <td>NaN</td>\n",
              "      <td>Wedding Planning</td>\n",
              "      <td>Closed Won</td>\n",
              "      <td>NaN</td>\n",
              "      <td>NaN</td>\n",
              "      <td>NaN</td>\n",
              "      <td>NaN</td>\n",
              "      <td>1</td>\n",
              "    </tr>\n",
              "    <tr>\n",
              "      <th>6126</th>\n",
              "      <td>NaN</td>\n",
              "      <td>Wedding Planning</td>\n",
              "      <td>Closed Won</td>\n",
              "      <td>NaN</td>\n",
              "      <td>NaN</td>\n",
              "      <td>NaN</td>\n",
              "      <td>NaN</td>\n",
              "      <td>0</td>\n",
              "    </tr>\n",
              "  </tbody>\n",
              "</table>\n",
              "<p>328 rows × 8 columns</p>\n",
              "</div>\n",
              "    <div class=\"colab-df-buttons\">\n",
              "\n",
              "  <div class=\"colab-df-container\">\n",
              "    <button class=\"colab-df-convert\" onclick=\"convertToInteractive('df-bdb2040b-5c39-4c08-9e87-9d5a1df128c7')\"\n",
              "            title=\"Convert this dataframe to an interactive table.\"\n",
              "            style=\"display:none;\">\n",
              "\n",
              "  <svg xmlns=\"http://www.w3.org/2000/svg\" height=\"24px\" viewBox=\"0 -960 960 960\">\n",
              "    <path d=\"M120-120v-720h720v720H120Zm60-500h600v-160H180v160Zm220 220h160v-160H400v160Zm0 220h160v-160H400v160ZM180-400h160v-160H180v160Zm440 0h160v-160H620v160ZM180-180h160v-160H180v160Zm440 0h160v-160H620v160Z\"/>\n",
              "  </svg>\n",
              "    </button>\n",
              "\n",
              "  <style>\n",
              "    .colab-df-container {\n",
              "      display:flex;\n",
              "      gap: 12px;\n",
              "    }\n",
              "\n",
              "    .colab-df-convert {\n",
              "      background-color: #E8F0FE;\n",
              "      border: none;\n",
              "      border-radius: 50%;\n",
              "      cursor: pointer;\n",
              "      display: none;\n",
              "      fill: #1967D2;\n",
              "      height: 32px;\n",
              "      padding: 0 0 0 0;\n",
              "      width: 32px;\n",
              "    }\n",
              "\n",
              "    .colab-df-convert:hover {\n",
              "      background-color: #E2EBFA;\n",
              "      box-shadow: 0px 1px 2px rgba(60, 64, 67, 0.3), 0px 1px 3px 1px rgba(60, 64, 67, 0.15);\n",
              "      fill: #174EA6;\n",
              "    }\n",
              "\n",
              "    .colab-df-buttons div {\n",
              "      margin-bottom: 4px;\n",
              "    }\n",
              "\n",
              "    [theme=dark] .colab-df-convert {\n",
              "      background-color: #3B4455;\n",
              "      fill: #D2E3FC;\n",
              "    }\n",
              "\n",
              "    [theme=dark] .colab-df-convert:hover {\n",
              "      background-color: #434B5C;\n",
              "      box-shadow: 0px 1px 3px 1px rgba(0, 0, 0, 0.15);\n",
              "      filter: drop-shadow(0px 1px 2px rgba(0, 0, 0, 0.3));\n",
              "      fill: #FFFFFF;\n",
              "    }\n",
              "  </style>\n",
              "\n",
              "    <script>\n",
              "      const buttonEl =\n",
              "        document.querySelector('#df-bdb2040b-5c39-4c08-9e87-9d5a1df128c7 button.colab-df-convert');\n",
              "      buttonEl.style.display =\n",
              "        google.colab.kernel.accessAllowed ? 'block' : 'none';\n",
              "\n",
              "      async function convertToInteractive(key) {\n",
              "        const element = document.querySelector('#df-bdb2040b-5c39-4c08-9e87-9d5a1df128c7');\n",
              "        const dataTable =\n",
              "          await google.colab.kernel.invokeFunction('convertToInteractive',\n",
              "                                                    [key], {});\n",
              "        if (!dataTable) return;\n",
              "\n",
              "        const docLinkHtml = 'Like what you see? Visit the ' +\n",
              "          '<a target=\"_blank\" href=https://colab.research.google.com/notebooks/data_table.ipynb>data table notebook</a>'\n",
              "          + ' to learn more about interactive tables.';\n",
              "        element.innerHTML = '';\n",
              "        dataTable['output_type'] = 'display_data';\n",
              "        await google.colab.output.renderOutput(dataTable, element);\n",
              "        const docLink = document.createElement('div');\n",
              "        docLink.innerHTML = docLinkHtml;\n",
              "        element.appendChild(docLink);\n",
              "      }\n",
              "    </script>\n",
              "  </div>\n",
              "\n",
              "\n",
              "<div id=\"df-fb227efb-f5bf-4da2-a4f5-6cf5d7155861\">\n",
              "  <button class=\"colab-df-quickchart\" onclick=\"quickchart('df-fb227efb-f5bf-4da2-a4f5-6cf5d7155861')\"\n",
              "            title=\"Suggest charts\"\n",
              "            style=\"display:none;\">\n",
              "\n",
              "<svg xmlns=\"http://www.w3.org/2000/svg\" height=\"24px\"viewBox=\"0 0 24 24\"\n",
              "     width=\"24px\">\n",
              "    <g>\n",
              "        <path d=\"M19 3H5c-1.1 0-2 .9-2 2v14c0 1.1.9 2 2 2h14c1.1 0 2-.9 2-2V5c0-1.1-.9-2-2-2zM9 17H7v-7h2v7zm4 0h-2V7h2v10zm4 0h-2v-4h2v4z\"/>\n",
              "    </g>\n",
              "</svg>\n",
              "  </button>\n",
              "\n",
              "<style>\n",
              "  .colab-df-quickchart {\n",
              "      --bg-color: #E8F0FE;\n",
              "      --fill-color: #1967D2;\n",
              "      --hover-bg-color: #E2EBFA;\n",
              "      --hover-fill-color: #174EA6;\n",
              "      --disabled-fill-color: #AAA;\n",
              "      --disabled-bg-color: #DDD;\n",
              "  }\n",
              "\n",
              "  [theme=dark] .colab-df-quickchart {\n",
              "      --bg-color: #3B4455;\n",
              "      --fill-color: #D2E3FC;\n",
              "      --hover-bg-color: #434B5C;\n",
              "      --hover-fill-color: #FFFFFF;\n",
              "      --disabled-bg-color: #3B4455;\n",
              "      --disabled-fill-color: #666;\n",
              "  }\n",
              "\n",
              "  .colab-df-quickchart {\n",
              "    background-color: var(--bg-color);\n",
              "    border: none;\n",
              "    border-radius: 50%;\n",
              "    cursor: pointer;\n",
              "    display: none;\n",
              "    fill: var(--fill-color);\n",
              "    height: 32px;\n",
              "    padding: 0;\n",
              "    width: 32px;\n",
              "  }\n",
              "\n",
              "  .colab-df-quickchart:hover {\n",
              "    background-color: var(--hover-bg-color);\n",
              "    box-shadow: 0 1px 2px rgba(60, 64, 67, 0.3), 0 1px 3px 1px rgba(60, 64, 67, 0.15);\n",
              "    fill: var(--button-hover-fill-color);\n",
              "  }\n",
              "\n",
              "  .colab-df-quickchart-complete:disabled,\n",
              "  .colab-df-quickchart-complete:disabled:hover {\n",
              "    background-color: var(--disabled-bg-color);\n",
              "    fill: var(--disabled-fill-color);\n",
              "    box-shadow: none;\n",
              "  }\n",
              "\n",
              "  .colab-df-spinner {\n",
              "    border: 2px solid var(--fill-color);\n",
              "    border-color: transparent;\n",
              "    border-bottom-color: var(--fill-color);\n",
              "    animation:\n",
              "      spin 1s steps(1) infinite;\n",
              "  }\n",
              "\n",
              "  @keyframes spin {\n",
              "    0% {\n",
              "      border-color: transparent;\n",
              "      border-bottom-color: var(--fill-color);\n",
              "      border-left-color: var(--fill-color);\n",
              "    }\n",
              "    20% {\n",
              "      border-color: transparent;\n",
              "      border-left-color: var(--fill-color);\n",
              "      border-top-color: var(--fill-color);\n",
              "    }\n",
              "    30% {\n",
              "      border-color: transparent;\n",
              "      border-left-color: var(--fill-color);\n",
              "      border-top-color: var(--fill-color);\n",
              "      border-right-color: var(--fill-color);\n",
              "    }\n",
              "    40% {\n",
              "      border-color: transparent;\n",
              "      border-right-color: var(--fill-color);\n",
              "      border-top-color: var(--fill-color);\n",
              "    }\n",
              "    60% {\n",
              "      border-color: transparent;\n",
              "      border-right-color: var(--fill-color);\n",
              "    }\n",
              "    80% {\n",
              "      border-color: transparent;\n",
              "      border-right-color: var(--fill-color);\n",
              "      border-bottom-color: var(--fill-color);\n",
              "    }\n",
              "    90% {\n",
              "      border-color: transparent;\n",
              "      border-bottom-color: var(--fill-color);\n",
              "    }\n",
              "  }\n",
              "</style>\n",
              "\n",
              "  <script>\n",
              "    async function quickchart(key) {\n",
              "      const quickchartButtonEl =\n",
              "        document.querySelector('#' + key + ' button');\n",
              "      quickchartButtonEl.disabled = true;  // To prevent multiple clicks.\n",
              "      quickchartButtonEl.classList.add('colab-df-spinner');\n",
              "      try {\n",
              "        const charts = await google.colab.kernel.invokeFunction(\n",
              "            'suggestCharts', [key], {});\n",
              "      } catch (error) {\n",
              "        console.error('Error during call to suggestCharts:', error);\n",
              "      }\n",
              "      quickchartButtonEl.classList.remove('colab-df-spinner');\n",
              "      quickchartButtonEl.classList.add('colab-df-quickchart-complete');\n",
              "    }\n",
              "    (() => {\n",
              "      let quickchartButtonEl =\n",
              "        document.querySelector('#df-fb227efb-f5bf-4da2-a4f5-6cf5d7155861 button');\n",
              "      quickchartButtonEl.style.display =\n",
              "        google.colab.kernel.accessAllowed ? 'block' : 'none';\n",
              "    })();\n",
              "  </script>\n",
              "</div>\n",
              "    </div>\n",
              "  </div>\n"
            ]
          },
          "metadata": {},
          "execution_count": 43
        }
      ]
    },
    {
      "cell_type": "markdown",
      "source": [
        "- Tambien se tienen 87 regitros duplicados los cuales se repiten y posteriormente se deben trabajar ya que generarian problemas, para un posible modelo."
      ],
      "metadata": {
        "id": "XIECbFvBWBUF"
      }
    },
    {
      "cell_type": "code",
      "source": [
        "duplicados_filas.isnull().sum()"
      ],
      "metadata": {
        "colab": {
          "base_uri": "https://localhost:8080/"
        },
        "id": "GhN-oa_IWAas",
        "outputId": "815e019d-23a6-43b5-fa6e-808cfb0e82d8"
      },
      "execution_count": 44,
      "outputs": [
        {
          "output_type": "execute_result",
          "data": {
            "text/plain": [
              "Id               328\n",
              "Use Case           0\n",
              "Status             0\n",
              "Price            149\n",
              "Discount code    246\n",
              "Pain             189\n",
              "Loss Reason      218\n",
              "duration days      0\n",
              "dtype: int64"
            ]
          },
          "metadata": {},
          "execution_count": 44
        }
      ]
    },
    {
      "cell_type": "markdown",
      "source": [
        "- Se puede apreciar que lo datos duplicados ninguno tiene id, lo cual es un dato relevante para un posterior tratamiento a los datos."
      ],
      "metadata": {
        "id": "MO6KUo20WRfN"
      }
    },
    {
      "cell_type": "code",
      "source": [
        "\n",
        "offers = offers.drop_duplicates()\n",
        "\n",
        "offers"
      ],
      "metadata": {
        "colab": {
          "base_uri": "https://localhost:8080/",
          "height": 424
        },
        "id": "Uj2FIEoZd4G_",
        "outputId": "e19a30db-86b0-4849-9afb-3c03e753b78b"
      },
      "execution_count": 45,
      "outputs": [
        {
          "output_type": "execute_result",
          "data": {
            "text/plain": [
              "            Id              Use Case       Status   Price    Discount code  \\\n",
              "0     doqyhjtv  Educational Seminars   Closed Won   300.0       SAVEMORE50   \n",
              "1          NaN         Sports Events  Closed Lost   150.0              NaN   \n",
              "2          NaN         Sports Events  Closed Lost   768.0      HALFYEAR20G   \n",
              "3     cturqi48      Corporate Events   Closed Won   240.0  DISCOUNT50POWER   \n",
              "4          NaN         Sports Events  Closed Lost   240.0     SAVEMONTH50G   \n",
              "...        ...                   ...          ...     ...              ...   \n",
              "6124  ut9flvo3      Corporate Events   Closed Won   150.0   QUARTERLY75OFF   \n",
              "6125       NaN      Corporate Events  Closed Lost   120.0              NaN   \n",
              "6127  88tre7ve      Corporate Events  Closed Lost   768.0  2SEMESTERS20OFF   \n",
              "6128  2d15fo90      Corporate Events  Closed Lost  1344.0              NaN   \n",
              "6129  9k6zoun6         Sports Events   Closed Won   240.0     SAVEMONTH50G   \n",
              "\n",
              "                   Pain     Loss Reason  duration days  \n",
              "0            operations             NaN              0  \n",
              "1            operations           price              1  \n",
              "2            operations     no response              1  \n",
              "3     financial control             NaN              0  \n",
              "4     financial control     no response              8  \n",
              "...                 ...             ...            ...  \n",
              "6124         operations             NaN              0  \n",
              "6125         operations           price              1  \n",
              "6127         operations     no response              0  \n",
              "6128         operations  no product fit              6  \n",
              "6129         operations             NaN              1  \n",
              "\n",
              "[5886 rows x 8 columns]"
            ],
            "text/html": [
              "\n",
              "  <div id=\"df-f6844efb-57da-4a74-9fa8-cd9e5199e77c\" class=\"colab-df-container\">\n",
              "    <div>\n",
              "<style scoped>\n",
              "    .dataframe tbody tr th:only-of-type {\n",
              "        vertical-align: middle;\n",
              "    }\n",
              "\n",
              "    .dataframe tbody tr th {\n",
              "        vertical-align: top;\n",
              "    }\n",
              "\n",
              "    .dataframe thead th {\n",
              "        text-align: right;\n",
              "    }\n",
              "</style>\n",
              "<table border=\"1\" class=\"dataframe\">\n",
              "  <thead>\n",
              "    <tr style=\"text-align: right;\">\n",
              "      <th></th>\n",
              "      <th>Id</th>\n",
              "      <th>Use Case</th>\n",
              "      <th>Status</th>\n",
              "      <th>Price</th>\n",
              "      <th>Discount code</th>\n",
              "      <th>Pain</th>\n",
              "      <th>Loss Reason</th>\n",
              "      <th>duration days</th>\n",
              "    </tr>\n",
              "  </thead>\n",
              "  <tbody>\n",
              "    <tr>\n",
              "      <th>0</th>\n",
              "      <td>doqyhjtv</td>\n",
              "      <td>Educational Seminars</td>\n",
              "      <td>Closed Won</td>\n",
              "      <td>300.0</td>\n",
              "      <td>SAVEMORE50</td>\n",
              "      <td>operations</td>\n",
              "      <td>NaN</td>\n",
              "      <td>0</td>\n",
              "    </tr>\n",
              "    <tr>\n",
              "      <th>1</th>\n",
              "      <td>NaN</td>\n",
              "      <td>Sports Events</td>\n",
              "      <td>Closed Lost</td>\n",
              "      <td>150.0</td>\n",
              "      <td>NaN</td>\n",
              "      <td>operations</td>\n",
              "      <td>price</td>\n",
              "      <td>1</td>\n",
              "    </tr>\n",
              "    <tr>\n",
              "      <th>2</th>\n",
              "      <td>NaN</td>\n",
              "      <td>Sports Events</td>\n",
              "      <td>Closed Lost</td>\n",
              "      <td>768.0</td>\n",
              "      <td>HALFYEAR20G</td>\n",
              "      <td>operations</td>\n",
              "      <td>no response</td>\n",
              "      <td>1</td>\n",
              "    </tr>\n",
              "    <tr>\n",
              "      <th>3</th>\n",
              "      <td>cturqi48</td>\n",
              "      <td>Corporate Events</td>\n",
              "      <td>Closed Won</td>\n",
              "      <td>240.0</td>\n",
              "      <td>DISCOUNT50POWER</td>\n",
              "      <td>financial control</td>\n",
              "      <td>NaN</td>\n",
              "      <td>0</td>\n",
              "    </tr>\n",
              "    <tr>\n",
              "      <th>4</th>\n",
              "      <td>NaN</td>\n",
              "      <td>Sports Events</td>\n",
              "      <td>Closed Lost</td>\n",
              "      <td>240.0</td>\n",
              "      <td>SAVEMONTH50G</td>\n",
              "      <td>financial control</td>\n",
              "      <td>no response</td>\n",
              "      <td>8</td>\n",
              "    </tr>\n",
              "    <tr>\n",
              "      <th>...</th>\n",
              "      <td>...</td>\n",
              "      <td>...</td>\n",
              "      <td>...</td>\n",
              "      <td>...</td>\n",
              "      <td>...</td>\n",
              "      <td>...</td>\n",
              "      <td>...</td>\n",
              "      <td>...</td>\n",
              "    </tr>\n",
              "    <tr>\n",
              "      <th>6124</th>\n",
              "      <td>ut9flvo3</td>\n",
              "      <td>Corporate Events</td>\n",
              "      <td>Closed Won</td>\n",
              "      <td>150.0</td>\n",
              "      <td>QUARTERLY75OFF</td>\n",
              "      <td>operations</td>\n",
              "      <td>NaN</td>\n",
              "      <td>0</td>\n",
              "    </tr>\n",
              "    <tr>\n",
              "      <th>6125</th>\n",
              "      <td>NaN</td>\n",
              "      <td>Corporate Events</td>\n",
              "      <td>Closed Lost</td>\n",
              "      <td>120.0</td>\n",
              "      <td>NaN</td>\n",
              "      <td>operations</td>\n",
              "      <td>price</td>\n",
              "      <td>1</td>\n",
              "    </tr>\n",
              "    <tr>\n",
              "      <th>6127</th>\n",
              "      <td>88tre7ve</td>\n",
              "      <td>Corporate Events</td>\n",
              "      <td>Closed Lost</td>\n",
              "      <td>768.0</td>\n",
              "      <td>2SEMESTERS20OFF</td>\n",
              "      <td>operations</td>\n",
              "      <td>no response</td>\n",
              "      <td>0</td>\n",
              "    </tr>\n",
              "    <tr>\n",
              "      <th>6128</th>\n",
              "      <td>2d15fo90</td>\n",
              "      <td>Corporate Events</td>\n",
              "      <td>Closed Lost</td>\n",
              "      <td>1344.0</td>\n",
              "      <td>NaN</td>\n",
              "      <td>operations</td>\n",
              "      <td>no product fit</td>\n",
              "      <td>6</td>\n",
              "    </tr>\n",
              "    <tr>\n",
              "      <th>6129</th>\n",
              "      <td>9k6zoun6</td>\n",
              "      <td>Sports Events</td>\n",
              "      <td>Closed Won</td>\n",
              "      <td>240.0</td>\n",
              "      <td>SAVEMONTH50G</td>\n",
              "      <td>operations</td>\n",
              "      <td>NaN</td>\n",
              "      <td>1</td>\n",
              "    </tr>\n",
              "  </tbody>\n",
              "</table>\n",
              "<p>5886 rows × 8 columns</p>\n",
              "</div>\n",
              "    <div class=\"colab-df-buttons\">\n",
              "\n",
              "  <div class=\"colab-df-container\">\n",
              "    <button class=\"colab-df-convert\" onclick=\"convertToInteractive('df-f6844efb-57da-4a74-9fa8-cd9e5199e77c')\"\n",
              "            title=\"Convert this dataframe to an interactive table.\"\n",
              "            style=\"display:none;\">\n",
              "\n",
              "  <svg xmlns=\"http://www.w3.org/2000/svg\" height=\"24px\" viewBox=\"0 -960 960 960\">\n",
              "    <path d=\"M120-120v-720h720v720H120Zm60-500h600v-160H180v160Zm220 220h160v-160H400v160Zm0 220h160v-160H400v160ZM180-400h160v-160H180v160Zm440 0h160v-160H620v160ZM180-180h160v-160H180v160Zm440 0h160v-160H620v160Z\"/>\n",
              "  </svg>\n",
              "    </button>\n",
              "\n",
              "  <style>\n",
              "    .colab-df-container {\n",
              "      display:flex;\n",
              "      gap: 12px;\n",
              "    }\n",
              "\n",
              "    .colab-df-convert {\n",
              "      background-color: #E8F0FE;\n",
              "      border: none;\n",
              "      border-radius: 50%;\n",
              "      cursor: pointer;\n",
              "      display: none;\n",
              "      fill: #1967D2;\n",
              "      height: 32px;\n",
              "      padding: 0 0 0 0;\n",
              "      width: 32px;\n",
              "    }\n",
              "\n",
              "    .colab-df-convert:hover {\n",
              "      background-color: #E2EBFA;\n",
              "      box-shadow: 0px 1px 2px rgba(60, 64, 67, 0.3), 0px 1px 3px 1px rgba(60, 64, 67, 0.15);\n",
              "      fill: #174EA6;\n",
              "    }\n",
              "\n",
              "    .colab-df-buttons div {\n",
              "      margin-bottom: 4px;\n",
              "    }\n",
              "\n",
              "    [theme=dark] .colab-df-convert {\n",
              "      background-color: #3B4455;\n",
              "      fill: #D2E3FC;\n",
              "    }\n",
              "\n",
              "    [theme=dark] .colab-df-convert:hover {\n",
              "      background-color: #434B5C;\n",
              "      box-shadow: 0px 1px 3px 1px rgba(0, 0, 0, 0.15);\n",
              "      filter: drop-shadow(0px 1px 2px rgba(0, 0, 0, 0.3));\n",
              "      fill: #FFFFFF;\n",
              "    }\n",
              "  </style>\n",
              "\n",
              "    <script>\n",
              "      const buttonEl =\n",
              "        document.querySelector('#df-f6844efb-57da-4a74-9fa8-cd9e5199e77c button.colab-df-convert');\n",
              "      buttonEl.style.display =\n",
              "        google.colab.kernel.accessAllowed ? 'block' : 'none';\n",
              "\n",
              "      async function convertToInteractive(key) {\n",
              "        const element = document.querySelector('#df-f6844efb-57da-4a74-9fa8-cd9e5199e77c');\n",
              "        const dataTable =\n",
              "          await google.colab.kernel.invokeFunction('convertToInteractive',\n",
              "                                                    [key], {});\n",
              "        if (!dataTable) return;\n",
              "\n",
              "        const docLinkHtml = 'Like what you see? Visit the ' +\n",
              "          '<a target=\"_blank\" href=https://colab.research.google.com/notebooks/data_table.ipynb>data table notebook</a>'\n",
              "          + ' to learn more about interactive tables.';\n",
              "        element.innerHTML = '';\n",
              "        dataTable['output_type'] = 'display_data';\n",
              "        await google.colab.output.renderOutput(dataTable, element);\n",
              "        const docLink = document.createElement('div');\n",
              "        docLink.innerHTML = docLinkHtml;\n",
              "        element.appendChild(docLink);\n",
              "      }\n",
              "    </script>\n",
              "  </div>\n",
              "\n",
              "\n",
              "<div id=\"df-48e4335a-674e-4667-a9a3-b66f418ca92c\">\n",
              "  <button class=\"colab-df-quickchart\" onclick=\"quickchart('df-48e4335a-674e-4667-a9a3-b66f418ca92c')\"\n",
              "            title=\"Suggest charts\"\n",
              "            style=\"display:none;\">\n",
              "\n",
              "<svg xmlns=\"http://www.w3.org/2000/svg\" height=\"24px\"viewBox=\"0 0 24 24\"\n",
              "     width=\"24px\">\n",
              "    <g>\n",
              "        <path d=\"M19 3H5c-1.1 0-2 .9-2 2v14c0 1.1.9 2 2 2h14c1.1 0 2-.9 2-2V5c0-1.1-.9-2-2-2zM9 17H7v-7h2v7zm4 0h-2V7h2v10zm4 0h-2v-4h2v4z\"/>\n",
              "    </g>\n",
              "</svg>\n",
              "  </button>\n",
              "\n",
              "<style>\n",
              "  .colab-df-quickchart {\n",
              "      --bg-color: #E8F0FE;\n",
              "      --fill-color: #1967D2;\n",
              "      --hover-bg-color: #E2EBFA;\n",
              "      --hover-fill-color: #174EA6;\n",
              "      --disabled-fill-color: #AAA;\n",
              "      --disabled-bg-color: #DDD;\n",
              "  }\n",
              "\n",
              "  [theme=dark] .colab-df-quickchart {\n",
              "      --bg-color: #3B4455;\n",
              "      --fill-color: #D2E3FC;\n",
              "      --hover-bg-color: #434B5C;\n",
              "      --hover-fill-color: #FFFFFF;\n",
              "      --disabled-bg-color: #3B4455;\n",
              "      --disabled-fill-color: #666;\n",
              "  }\n",
              "\n",
              "  .colab-df-quickchart {\n",
              "    background-color: var(--bg-color);\n",
              "    border: none;\n",
              "    border-radius: 50%;\n",
              "    cursor: pointer;\n",
              "    display: none;\n",
              "    fill: var(--fill-color);\n",
              "    height: 32px;\n",
              "    padding: 0;\n",
              "    width: 32px;\n",
              "  }\n",
              "\n",
              "  .colab-df-quickchart:hover {\n",
              "    background-color: var(--hover-bg-color);\n",
              "    box-shadow: 0 1px 2px rgba(60, 64, 67, 0.3), 0 1px 3px 1px rgba(60, 64, 67, 0.15);\n",
              "    fill: var(--button-hover-fill-color);\n",
              "  }\n",
              "\n",
              "  .colab-df-quickchart-complete:disabled,\n",
              "  .colab-df-quickchart-complete:disabled:hover {\n",
              "    background-color: var(--disabled-bg-color);\n",
              "    fill: var(--disabled-fill-color);\n",
              "    box-shadow: none;\n",
              "  }\n",
              "\n",
              "  .colab-df-spinner {\n",
              "    border: 2px solid var(--fill-color);\n",
              "    border-color: transparent;\n",
              "    border-bottom-color: var(--fill-color);\n",
              "    animation:\n",
              "      spin 1s steps(1) infinite;\n",
              "  }\n",
              "\n",
              "  @keyframes spin {\n",
              "    0% {\n",
              "      border-color: transparent;\n",
              "      border-bottom-color: var(--fill-color);\n",
              "      border-left-color: var(--fill-color);\n",
              "    }\n",
              "    20% {\n",
              "      border-color: transparent;\n",
              "      border-left-color: var(--fill-color);\n",
              "      border-top-color: var(--fill-color);\n",
              "    }\n",
              "    30% {\n",
              "      border-color: transparent;\n",
              "      border-left-color: var(--fill-color);\n",
              "      border-top-color: var(--fill-color);\n",
              "      border-right-color: var(--fill-color);\n",
              "    }\n",
              "    40% {\n",
              "      border-color: transparent;\n",
              "      border-right-color: var(--fill-color);\n",
              "      border-top-color: var(--fill-color);\n",
              "    }\n",
              "    60% {\n",
              "      border-color: transparent;\n",
              "      border-right-color: var(--fill-color);\n",
              "    }\n",
              "    80% {\n",
              "      border-color: transparent;\n",
              "      border-right-color: var(--fill-color);\n",
              "      border-bottom-color: var(--fill-color);\n",
              "    }\n",
              "    90% {\n",
              "      border-color: transparent;\n",
              "      border-bottom-color: var(--fill-color);\n",
              "    }\n",
              "  }\n",
              "</style>\n",
              "\n",
              "  <script>\n",
              "    async function quickchart(key) {\n",
              "      const quickchartButtonEl =\n",
              "        document.querySelector('#' + key + ' button');\n",
              "      quickchartButtonEl.disabled = true;  // To prevent multiple clicks.\n",
              "      quickchartButtonEl.classList.add('colab-df-spinner');\n",
              "      try {\n",
              "        const charts = await google.colab.kernel.invokeFunction(\n",
              "            'suggestCharts', [key], {});\n",
              "      } catch (error) {\n",
              "        console.error('Error during call to suggestCharts:', error);\n",
              "      }\n",
              "      quickchartButtonEl.classList.remove('colab-df-spinner');\n",
              "      quickchartButtonEl.classList.add('colab-df-quickchart-complete');\n",
              "    }\n",
              "    (() => {\n",
              "      let quickchartButtonEl =\n",
              "        document.querySelector('#df-48e4335a-674e-4667-a9a3-b66f418ca92c button');\n",
              "      quickchartButtonEl.style.display =\n",
              "        google.colab.kernel.accessAllowed ? 'block' : 'none';\n",
              "    })();\n",
              "  </script>\n",
              "</div>\n",
              "    </div>\n",
              "  </div>\n"
            ]
          },
          "metadata": {},
          "execution_count": 45
        }
      ]
    },
    {
      "cell_type": "code",
      "source": [
        "offers.info()"
      ],
      "metadata": {
        "colab": {
          "base_uri": "https://localhost:8080/"
        },
        "id": "Gij3ILU0I-Mc",
        "outputId": "1b080d05-a0d8-4d5a-aa22-691c11930e61"
      },
      "execution_count": 46,
      "outputs": [
        {
          "output_type": "stream",
          "name": "stdout",
          "text": [
            "<class 'pandas.core.frame.DataFrame'>\n",
            "Int64Index: 5886 entries, 0 to 6129\n",
            "Data columns (total 8 columns):\n",
            " #   Column         Non-Null Count  Dtype  \n",
            "---  ------         --------------  -----  \n",
            " 0   Id             4962 non-null   object \n",
            " 1   Use Case       5849 non-null   object \n",
            " 2   Status         5886 non-null   object \n",
            " 3   Price          5648 non-null   float64\n",
            " 4   Discount code  4381 non-null   object \n",
            " 5   Pain           5177 non-null   object \n",
            " 6   Loss Reason    2297 non-null   object \n",
            " 7   duration days  5886 non-null   int64  \n",
            "dtypes: float64(1), int64(1), object(6)\n",
            "memory usage: 413.9+ KB\n"
          ]
        }
      ]
    },
    {
      "cell_type": "markdown",
      "source": [
        "# 5. Fase exploratoria de los datos (VISUAL) (DATA OFFERS)"
      ],
      "metadata": {
        "id": "yyVLt-pLdj82"
      }
    },
    {
      "cell_type": "code",
      "source": [
        "offers['Use Case'].value_counts()"
      ],
      "metadata": {
        "colab": {
          "base_uri": "https://localhost:8080/"
        },
        "id": "BqiUM7RpdrZY",
        "outputId": "fc4e3271-792e-4b3d-f21a-7d82145f7b6c"
      },
      "execution_count": 47,
      "outputs": [
        {
          "output_type": "execute_result",
          "data": {
            "text/plain": [
              "Corporate Events          3434\n",
              "Educational Seminars      1308\n",
              "Sports Events             1013\n",
              "Wedding Planning            92\n",
              "Concerts and festivals       2\n",
              "Name: Use Case, dtype: int64"
            ]
          },
          "metadata": {},
          "execution_count": 47
        }
      ]
    },
    {
      "cell_type": "code",
      "source": [
        "\n",
        "plt.figure(figsize=(10, 6))\n",
        "colors = sns.color_palette('pastel', n_colors=len(offers['Use Case'].value_counts()))\n",
        "ax = sns.countplot(x='Use Case', data=offers, palette=colors, order=offers['Use Case'].value_counts().index)\n",
        "total = len(offers['Use Case'])\n",
        "for p in ax.patches:\n",
        "    height = p.get_height()\n",
        "    ax.text(p.get_x() + p.get_width() / 2., height + 0.1, f'{height/total:.1%}', ha=\"center\")\n",
        "plt.xticks(rotation=45, ha='right')\n",
        "\n",
        "plt.xlabel('Use Case')\n",
        "plt.ylabel('Cantidad')\n",
        "plt.title('Distribución de Use Case en el Conjunto de Datos')\n",
        "plt.show()"
      ],
      "metadata": {
        "colab": {
          "base_uri": "https://localhost:8080/",
          "height": 670
        },
        "id": "kp5bJj6UYvDn",
        "outputId": "337cfcd3-fcac-480f-82ee-7234b4de4a25"
      },
      "execution_count": 48,
      "outputs": [
        {
          "output_type": "display_data",
          "data": {
            "text/plain": [
              "<Figure size 1000x600 with 1 Axes>"
            ],
            "image/png": "[encoded data removed]"
          },
          "metadata": {}
        }
      ]
    },
    {
      "cell_type": "markdown",
      "source": [
        "- Se aprecia que el 58.3% de las ofertas estan asociados a Corporate Events, un poco mas de la mitad corresponden a esta categoria, seguido de Sport Events con 22.2%, por lo cual, en esta categoria se presenta la mayor concentraccion de las ofertas.\n",
        "- Se obseva un patron que guarda relacion con la data de leads, siendo una concentraccion de datos similar."
      ],
      "metadata": {
        "id": "MYUOAuWUjN35"
      }
    },
    {
      "cell_type": "code",
      "source": [
        "offers['Status'].value_counts()"
      ],
      "metadata": {
        "colab": {
          "base_uri": "https://localhost:8080/"
        },
        "id": "yfntULTxk8Wy",
        "outputId": "5edf488b-e6a4-44e5-c071-0ae8d5e6c176"
      },
      "execution_count": 49,
      "outputs": [
        {
          "output_type": "execute_result",
          "data": {
            "text/plain": [
              "Closed Won     3085\n",
              "Closed Lost    2291\n",
              "Demo 1          201\n",
              "Negotiation     145\n",
              "Checkbox        144\n",
              "Demo 2           20\n",
              "Name: Status, dtype: int64"
            ]
          },
          "metadata": {},
          "execution_count": 49
        }
      ]
    },
    {
      "cell_type": "code",
      "source": [
        "\n",
        "colors = sns.color_palette('pastel', n_colors=len(offers['Status'].value_counts()))\n",
        "\n",
        "ax = sns.countplot(x='Use Case', hue='Status', data=offers, palette=colors, order=offers['Use Case'].value_counts().index)\n",
        "\n",
        "ax.legend(loc='upper right')\n",
        "\n",
        "\n",
        "plt.xlabel('Use Case')\n",
        "plt.ylabel('Cantidad')\n",
        "plt.title('Distribución de Use Case en el Conjunto de Datos por Status')\n",
        "\n",
        "plt.xticks(rotation=45, ha='right')\n",
        "\n",
        "plt.show()\n"
      ],
      "metadata": {
        "colab": {
          "base_uri": "https://localhost:8080/",
          "height": 577
        },
        "id": "hSKjJVXBYvG9",
        "outputId": "3d1e9d90-0ec3-4866-efac-d1b6dacd6677"
      },
      "execution_count": 50,
      "outputs": [
        {
          "output_type": "display_data",
          "data": {
            "text/plain": [
              "<Figure size 640x480 with 1 Axes>"
            ],
            "image/png": "[encoded data removed]"
          },
          "metadata": {}
        }
      ]
    },
    {
      "cell_type": "markdown",
      "source": [
        "- Con el grafico se ve que en el caso de uso, que antes se valido Coporate Events era el mayor, ahora se refleja con los status siendo Nurturing y Discared los mas relevantes."
      ],
      "metadata": {
        "id": "gIMy_WGRlitK"
      }
    },
    {
      "cell_type": "code",
      "source": [
        "offers.info()"
      ],
      "metadata": {
        "colab": {
          "base_uri": "https://localhost:8080/"
        },
        "id": "_PCzORZSYvKe",
        "outputId": "a25190be-e28f-4e4a-9665-05e067276a70"
      },
      "execution_count": 51,
      "outputs": [
        {
          "output_type": "stream",
          "name": "stdout",
          "text": [
            "<class 'pandas.core.frame.DataFrame'>\n",
            "Int64Index: 5886 entries, 0 to 6129\n",
            "Data columns (total 8 columns):\n",
            " #   Column         Non-Null Count  Dtype  \n",
            "---  ------         --------------  -----  \n",
            " 0   Id             4962 non-null   object \n",
            " 1   Use Case       5849 non-null   object \n",
            " 2   Status         5886 non-null   object \n",
            " 3   Price          5648 non-null   float64\n",
            " 4   Discount code  4381 non-null   object \n",
            " 5   Pain           5177 non-null   object \n",
            " 6   Loss Reason    2297 non-null   object \n",
            " 7   duration days  5886 non-null   int64  \n",
            "dtypes: float64(1), int64(1), object(6)\n",
            "memory usage: 413.9+ KB\n"
          ]
        }
      ]
    },
    {
      "cell_type": "code",
      "source": [
        "\n",
        "colors = sns.color_palette('pastel', n_colors=len(offers['Status'].value_counts()))\n",
        "\n",
        "ax = sns.countplot(x='Pain', hue='Status', data=offers, palette=colors, order=offers['Pain'].value_counts().index)\n",
        "\n",
        "ax.legend(loc='upper right')\n",
        "\n",
        "\n",
        "plt.xlabel('Pain')\n",
        "plt.ylabel('Cantidad')\n",
        "plt.title('Distribución de Pain en el Conjunto de Datos por Status')\n",
        "\n",
        "plt.xticks(rotation=45, ha='right')\n",
        "\n",
        "plt.show()"
      ],
      "metadata": {
        "colab": {
          "base_uri": "https://localhost:8080/",
          "height": 557
        },
        "id": "VHcXMg4OHQ3A",
        "outputId": "385ff052-6c6d-4abf-b529-c952206a63fa"
      },
      "execution_count": 52,
      "outputs": [
        {
          "output_type": "display_data",
          "data": {
            "text/plain": [
              "<Figure size 640x480 with 1 Axes>"
            ],
            "image/png": "[encoded data removed]"
          },
          "metadata": {}
        }
      ]
    },
    {
      "cell_type": "markdown",
      "source": [
        "- Podemos apreciar que la categoria de problemas que se quiere solucionar la categoria operations es la mayor con estados de cerrado ganado."
      ],
      "metadata": {
        "id": "5UrT9fwKPqT_"
      }
    },
    {
      "cell_type": "code",
      "source": [
        "offers.isnull().sum()"
      ],
      "metadata": {
        "colab": {
          "base_uri": "https://localhost:8080/"
        },
        "id": "GK9pPX3SXJuY",
        "outputId": "fab2ae8c-111c-44c8-a769-55d75489b017"
      },
      "execution_count": 53,
      "outputs": [
        {
          "output_type": "execute_result",
          "data": {
            "text/plain": [
              "Id                924\n",
              "Use Case           37\n",
              "Status              0\n",
              "Price             238\n",
              "Discount code    1505\n",
              "Pain              709\n",
              "Loss Reason      3589\n",
              "duration days       0\n",
              "dtype: int64"
            ]
          },
          "metadata": {},
          "execution_count": 53
        }
      ]
    },
    {
      "cell_type": "code",
      "source": [
        "\n",
        "offers['Use Case'].fillna(offers['Use Case'].mode()[0], inplace=True)\n",
        "offers['Discount code'].fillna(offers['Discount code'].mode()[0], inplace=True)\n",
        "offers['Loss Reason'].fillna(offers['Loss Reason'].mode()[0], inplace=True)\n",
        "offers['Pain'].fillna(offers['Pain'].mode()[0], inplace=True)\n",
        "offers['Price'].fillna(offers['Price'].mean(), inplace=True)\n",
        "\n"
      ],
      "metadata": {
        "colab": {
          "base_uri": "https://localhost:8080/"
        },
        "id": "vnF-wFSHXNTg",
        "outputId": "057ec8b3-ac23-401d-fd03-c91b10bacfbd"
      },
      "execution_count": 54,
      "outputs": [
        {
          "output_type": "stream",
          "name": "stderr",
          "text": [
            "<ipython-input-54-36e570792c40>:1: SettingWithCopyWarning: \n",
            "A value is trying to be set on a copy of a slice from a DataFrame\n",
            "\n",
            "See the caveats in the documentation: https://pandas.pydata.org/pandas-docs/stable/user_guide/indexing.html#returning-a-view-versus-a-copy\n",
            "  offers['Use Case'].fillna(offers['Use Case'].mode()[0], inplace=True)\n",
            "<ipython-input-54-36e570792c40>:2: SettingWithCopyWarning: \n",
            "A value is trying to be set on a copy of a slice from a DataFrame\n",
            "\n",
            "See the caveats in the documentation: https://pandas.pydata.org/pandas-docs/stable/user_guide/indexing.html#returning-a-view-versus-a-copy\n",
            "  offers['Discount code'].fillna(offers['Discount code'].mode()[0], inplace=True)\n",
            "<ipython-input-54-36e570792c40>:3: SettingWithCopyWarning: \n",
            "A value is trying to be set on a copy of a slice from a DataFrame\n",
            "\n",
            "See the caveats in the documentation: https://pandas.pydata.org/pandas-docs/stable/user_guide/indexing.html#returning-a-view-versus-a-copy\n",
            "  offers['Loss Reason'].fillna(offers['Loss Reason'].mode()[0], inplace=True)\n",
            "<ipython-input-54-36e570792c40>:4: SettingWithCopyWarning: \n",
            "A value is trying to be set on a copy of a slice from a DataFrame\n",
            "\n",
            "See the caveats in the documentation: https://pandas.pydata.org/pandas-docs/stable/user_guide/indexing.html#returning-a-view-versus-a-copy\n",
            "  offers['Pain'].fillna(offers['Pain'].mode()[0], inplace=True)\n",
            "<ipython-input-54-36e570792c40>:5: SettingWithCopyWarning: \n",
            "A value is trying to be set on a copy of a slice from a DataFrame\n",
            "\n",
            "See the caveats in the documentation: https://pandas.pydata.org/pandas-docs/stable/user_guide/indexing.html#returning-a-view-versus-a-copy\n",
            "  offers['Price'].fillna(offers['Price'].mean(), inplace=True)\n"
          ]
        }
      ]
    },
    {
      "cell_type": "markdown",
      "source": [
        "- Se reemplaza con la moda las variables categoricas, y la variable numerica se reemplaza usando la media."
      ],
      "metadata": {
        "id": "hQe8eLLfZGxS"
      }
    },
    {
      "cell_type": "markdown",
      "source": [
        "# 6. ANALISIS PROFUNDO DE AMBOS DATASETS"
      ],
      "metadata": {
        "id": "87LBPWXS9m0d"
      }
    },
    {
      "cell_type": "code",
      "source": [
        "leads['Status'].unique()"
      ],
      "metadata": {
        "colab": {
          "base_uri": "https://localhost:8080/"
        },
        "id": "xqGIjAql4IWp",
        "outputId": "c5f66a29-5b59-4571-8796-494c174623e6"
      },
      "execution_count": 55,
      "outputs": [
        {
          "output_type": "execute_result",
          "data": {
            "text/plain": [
              "array(['Nurturing', 'Discarded', 'Qualified', 'New', 'Meeting', 'Engaged',\n",
              "       'Contacted', 'Called', 'Recicled', 'Call', 'Linkedin', 'Email'],\n",
              "      dtype=object)"
            ]
          },
          "metadata": {},
          "execution_count": 55
        }
      ]
    },
    {
      "cell_type": "code",
      "source": [
        "offers['Status'].unique()"
      ],
      "metadata": {
        "colab": {
          "base_uri": "https://localhost:8080/"
        },
        "id": "JLCmyVeJ4MJk",
        "outputId": "13b7a57d-3dd4-4467-a852-0e9794ed6710"
      },
      "execution_count": 56,
      "outputs": [
        {
          "output_type": "execute_result",
          "data": {
            "text/plain": [
              "array(['Closed Won', 'Closed Lost', 'Demo 1', 'Negotiation', 'Checkbox',\n",
              "       'Demo 2'], dtype=object)"
            ]
          },
          "metadata": {},
          "execution_count": 56
        }
      ]
    },
    {
      "cell_type": "code",
      "source": [
        "\n",
        "\n",
        "offers['Target'] = offers['Status'].map({'Closed Won': 1, 'Closed Lost': 0, 'Demo 1': 0, 'Negotiation': 0,\n",
        "                                                   'Checkbox': 0, 'Demo 2': 0})\n"
      ],
      "metadata": {
        "colab": {
          "base_uri": "https://localhost:8080/"
        },
        "id": "us1AOLFJ4p-V",
        "outputId": "7e209b00-9969-4e1e-a61f-8dba0442159c"
      },
      "execution_count": 57,
      "outputs": [
        {
          "output_type": "stream",
          "name": "stderr",
          "text": [
            "<ipython-input-57-6d90c9a96a3f>:1: SettingWithCopyWarning: \n",
            "A value is trying to be set on a copy of a slice from a DataFrame.\n",
            "Try using .loc[row_indexer,col_indexer] = value instead\n",
            "\n",
            "See the caveats in the documentation: https://pandas.pydata.org/pandas-docs/stable/user_guide/indexing.html#returning-a-view-versus-a-copy\n",
            "  offers['Target'] = offers['Status'].map({'Closed Won': 1, 'Closed Lost': 0, 'Demo 1': 0, 'Negotiation': 0,\n"
          ]
        }
      ]
    },
    {
      "cell_type": "markdown",
      "source": [
        "- Se actualiza los estados, para saber cuales se cerraron y cuales, de una manera mas general los que no."
      ],
      "metadata": {
        "id": "yjZVYQKe9tSn"
      }
    },
    {
      "cell_type": "code",
      "source": [
        "offers.drop(columns = 'Status', inplace = True)"
      ],
      "metadata": {
        "colab": {
          "base_uri": "https://localhost:8080/"
        },
        "id": "hWmRfznC6hGv",
        "outputId": "c1a22a5f-2fc4-4e46-d232-cd3c935a33b2"
      },
      "execution_count": 58,
      "outputs": [
        {
          "output_type": "stream",
          "name": "stderr",
          "text": [
            "<ipython-input-58-aef063498f78>:1: SettingWithCopyWarning: \n",
            "A value is trying to be set on a copy of a slice from a DataFrame\n",
            "\n",
            "See the caveats in the documentation: https://pandas.pydata.org/pandas-docs/stable/user_guide/indexing.html#returning-a-view-versus-a-copy\n",
            "  offers.drop(columns = 'Status', inplace = True)\n"
          ]
        }
      ]
    },
    {
      "cell_type": "code",
      "source": [
        "# Filtrar filas con valores no nulos en la columna \"Id\"\n",
        "tengp_data_filtered = offers.dropna(subset=['Id'])\n",
        "\n",
        "# Obtener la lista de clientes presentes en ambas tablas\n",
        "common_clients = tengp_data_filtered[tengp_data_filtered['Id'].isin(leads['Id'])]\n",
        "\n",
        "\n",
        "\n",
        "common_clients"
      ],
      "metadata": {
        "colab": {
          "base_uri": "https://localhost:8080/",
          "height": 424
        },
        "id": "i6qXfKwC5W4k",
        "outputId": "24c77904-b497-456f-f73f-dfea6e14a0ec"
      },
      "execution_count": 59,
      "outputs": [
        {
          "output_type": "execute_result",
          "data": {
            "text/plain": [
              "            Id              Use Case   Price    Discount code  \\\n",
              "3     cturqi48      Corporate Events   240.0  DISCOUNT50POWER   \n",
              "6     9pl1etry      Corporate Events   768.0  2SEMESTERS20OFF   \n",
              "7     7tkbogep      Corporate Events   300.0   MONTH50CUTBACK   \n",
              "8     locj094j      Corporate Events   300.0   MONTH50CUTBACK   \n",
              "13    xb6toen7  Educational Seminars  1344.0    ANNUAL30BONUS   \n",
              "...        ...                   ...     ...              ...   \n",
              "6123  uxztx07y      Corporate Events     0.0  2SEMESTERS20OFF   \n",
              "6124  ut9flvo3      Corporate Events   150.0   QUARTERLY75OFF   \n",
              "6127  88tre7ve      Corporate Events   768.0  2SEMESTERS20OFF   \n",
              "6128  2d15fo90      Corporate Events  1344.0  2SEMESTERS20OFF   \n",
              "6129  9k6zoun6         Sports Events   240.0     SAVEMONTH50G   \n",
              "\n",
              "                     Pain     Loss Reason  duration days  Target  \n",
              "3       financial control     no response              0       1  \n",
              "6              operations     no response              0       1  \n",
              "7              operations     no response              0       1  \n",
              "8     quality of delivery     no response              1       1  \n",
              "13      financial control  no product fit              6       0  \n",
              "...                   ...             ...            ...     ...  \n",
              "6123    financial control     no response              0       0  \n",
              "6124           operations     no response              0       1  \n",
              "6127           operations     no response              0       0  \n",
              "6128           operations  no product fit              6       0  \n",
              "6129           operations     no response              1       1  \n",
              "\n",
              "[3801 rows x 8 columns]"
            ],
            "text/html": [
              "\n",
              "  <div id=\"df-5906c2c5-e568-4ffe-9a08-4c01464258af\" class=\"colab-df-container\">\n",
              "    <div>\n",
              "<style scoped>\n",
              "    .dataframe tbody tr th:only-of-type {\n",
              "        vertical-align: middle;\n",
              "    }\n",
              "\n",
              "    .dataframe tbody tr th {\n",
              "        vertical-align: top;\n",
              "    }\n",
              "\n",
              "    .dataframe thead th {\n",
              "        text-align: right;\n",
              "    }\n",
              "</style>\n",
              "<table border=\"1\" class=\"dataframe\">\n",
              "  <thead>\n",
              "    <tr style=\"text-align: right;\">\n",
              "      <th></th>\n",
              "      <th>Id</th>\n",
              "      <th>Use Case</th>\n",
              "      <th>Price</th>\n",
              "      <th>Discount code</th>\n",
              "      <th>Pain</th>\n",
              "      <th>Loss Reason</th>\n",
              "      <th>duration days</th>\n",
              "      <th>Target</th>\n",
              "    </tr>\n",
              "  </thead>\n",
              "  <tbody>\n",
              "    <tr>\n",
              "      <th>3</th>\n",
              "      <td>cturqi48</td>\n",
              "      <td>Corporate Events</td>\n",
              "      <td>240.0</td>\n",
              "      <td>DISCOUNT50POWER</td>\n",
              "      <td>financial control</td>\n",
              "      <td>no response</td>\n",
              "      <td>0</td>\n",
              "      <td>1</td>\n",
              "    </tr>\n",
              "    <tr>\n",
              "      <th>6</th>\n",
              "      <td>9pl1etry</td>\n",
              "      <td>Corporate Events</td>\n",
              "      <td>768.0</td>\n",
              "      <td>2SEMESTERS20OFF</td>\n",
              "      <td>operations</td>\n",
              "      <td>no response</td>\n",
              "      <td>0</td>\n",
              "      <td>1</td>\n",
              "    </tr>\n",
              "    <tr>\n",
              "      <th>7</th>\n",
              "      <td>7tkbogep</td>\n",
              "      <td>Corporate Events</td>\n",
              "      <td>300.0</td>\n",
              "      <td>MONTH50CUTBACK</td>\n",
              "      <td>operations</td>\n",
              "      <td>no response</td>\n",
              "      <td>0</td>\n",
              "      <td>1</td>\n",
              "    </tr>\n",
              "    <tr>\n",
              "      <th>8</th>\n",
              "      <td>locj094j</td>\n",
              "      <td>Corporate Events</td>\n",
              "      <td>300.0</td>\n",
              "      <td>MONTH50CUTBACK</td>\n",
              "      <td>quality of delivery</td>\n",
              "      <td>no response</td>\n",
              "      <td>1</td>\n",
              "      <td>1</td>\n",
              "    </tr>\n",
              "    <tr>\n",
              "      <th>13</th>\n",
              "      <td>xb6toen7</td>\n",
              "      <td>Educational Seminars</td>\n",
              "      <td>1344.0</td>\n",
              "      <td>ANNUAL30BONUS</td>\n",
              "      <td>financial control</td>\n",
              "      <td>no product fit</td>\n",
              "      <td>6</td>\n",
              "      <td>0</td>\n",
              "    </tr>\n",
              "    <tr>\n",
              "      <th>...</th>\n",
              "      <td>...</td>\n",
              "      <td>...</td>\n",
              "      <td>...</td>\n",
              "      <td>...</td>\n",
              "      <td>...</td>\n",
              "      <td>...</td>\n",
              "      <td>...</td>\n",
              "      <td>...</td>\n",
              "    </tr>\n",
              "    <tr>\n",
              "      <th>6123</th>\n",
              "      <td>uxztx07y</td>\n",
              "      <td>Corporate Events</td>\n",
              "      <td>0.0</td>\n",
              "      <td>2SEMESTERS20OFF</td>\n",
              "      <td>financial control</td>\n",
              "      <td>no response</td>\n",
              "      <td>0</td>\n",
              "      <td>0</td>\n",
              "    </tr>\n",
              "    <tr>\n",
              "      <th>6124</th>\n",
              "      <td>ut9flvo3</td>\n",
              "      <td>Corporate Events</td>\n",
              "      <td>150.0</td>\n",
              "      <td>QUARTERLY75OFF</td>\n",
              "      <td>operations</td>\n",
              "      <td>no response</td>\n",
              "      <td>0</td>\n",
              "      <td>1</td>\n",
              "    </tr>\n",
              "    <tr>\n",
              "      <th>6127</th>\n",
              "      <td>88tre7ve</td>\n",
              "      <td>Corporate Events</td>\n",
              "      <td>768.0</td>\n",
              "      <td>2SEMESTERS20OFF</td>\n",
              "      <td>operations</td>\n",
              "      <td>no response</td>\n",
              "      <td>0</td>\n",
              "      <td>0</td>\n",
              "    </tr>\n",
              "    <tr>\n",
              "      <th>6128</th>\n",
              "      <td>2d15fo90</td>\n",
              "      <td>Corporate Events</td>\n",
              "      <td>1344.0</td>\n",
              "      <td>2SEMESTERS20OFF</td>\n",
              "      <td>operations</td>\n",
              "      <td>no product fit</td>\n",
              "      <td>6</td>\n",
              "      <td>0</td>\n",
              "    </tr>\n",
              "    <tr>\n",
              "      <th>6129</th>\n",
              "      <td>9k6zoun6</td>\n",
              "      <td>Sports Events</td>\n",
              "      <td>240.0</td>\n",
              "      <td>SAVEMONTH50G</td>\n",
              "      <td>operations</td>\n",
              "      <td>no response</td>\n",
              "      <td>1</td>\n",
              "      <td>1</td>\n",
              "    </tr>\n",
              "  </tbody>\n",
              "</table>\n",
              "<p>3801 rows × 8 columns</p>\n",
              "</div>\n",
              "    <div class=\"colab-df-buttons\">\n",
              "\n",
              "  <div class=\"colab-df-container\">\n",
              "    <button class=\"colab-df-convert\" onclick=\"convertToInteractive('df-5906c2c5-e568-4ffe-9a08-4c01464258af')\"\n",
              "            title=\"Convert this dataframe to an interactive table.\"\n",
              "            style=\"display:none;\">\n",
              "\n",
              "  <svg xmlns=\"http://www.w3.org/2000/svg\" height=\"24px\" viewBox=\"0 -960 960 960\">\n",
              "    <path d=\"M120-120v-720h720v720H120Zm60-500h600v-160H180v160Zm220 220h160v-160H400v160Zm0 220h160v-160H400v160ZM180-400h160v-160H180v160Zm440 0h160v-160H620v160ZM180-180h160v-160H180v160Zm440 0h160v-160H620v160Z\"/>\n",
              "  </svg>\n",
              "    </button>\n",
              "\n",
              "  <style>\n",
              "    .colab-df-container {\n",
              "      display:flex;\n",
              "      gap: 12px;\n",
              "    }\n",
              "\n",
              "    .colab-df-convert {\n",
              "      background-color: #E8F0FE;\n",
              "      border: none;\n",
              "      border-radius: 50%;\n",
              "      cursor: pointer;\n",
              "      display: none;\n",
              "      fill: #1967D2;\n",
              "      height: 32px;\n",
              "      padding: 0 0 0 0;\n",
              "      width: 32px;\n",
              "    }\n",
              "\n",
              "    .colab-df-convert:hover {\n",
              "      background-color: #E2EBFA;\n",
              "      box-shadow: 0px 1px 2px rgba(60, 64, 67, 0.3), 0px 1px 3px 1px rgba(60, 64, 67, 0.15);\n",
              "      fill: #174EA6;\n",
              "    }\n",
              "\n",
              "    .colab-df-buttons div {\n",
              "      margin-bottom: 4px;\n",
              "    }\n",
              "\n",
              "    [theme=dark] .colab-df-convert {\n",
              "      background-color: #3B4455;\n",
              "      fill: #D2E3FC;\n",
              "    }\n",
              "\n",
              "    [theme=dark] .colab-df-convert:hover {\n",
              "      background-color: #434B5C;\n",
              "      box-shadow: 0px 1px 3px 1px rgba(0, 0, 0, 0.15);\n",
              "      filter: drop-shadow(0px 1px 2px rgba(0, 0, 0, 0.3));\n",
              "      fill: #FFFFFF;\n",
              "    }\n",
              "  </style>\n",
              "\n",
              "    <script>\n",
              "      const buttonEl =\n",
              "        document.querySelector('#df-5906c2c5-e568-4ffe-9a08-4c01464258af button.colab-df-convert');\n",
              "      buttonEl.style.display =\n",
              "        google.colab.kernel.accessAllowed ? 'block' : 'none';\n",
              "\n",
              "      async function convertToInteractive(key) {\n",
              "        const element = document.querySelector('#df-5906c2c5-e568-4ffe-9a08-4c01464258af');\n",
              "        const dataTable =\n",
              "          await google.colab.kernel.invokeFunction('convertToInteractive',\n",
              "                                                    [key], {});\n",
              "        if (!dataTable) return;\n",
              "\n",
              "        const docLinkHtml = 'Like what you see? Visit the ' +\n",
              "          '<a target=\"_blank\" href=https://colab.research.google.com/notebooks/data_table.ipynb>data table notebook</a>'\n",
              "          + ' to learn more about interactive tables.';\n",
              "        element.innerHTML = '';\n",
              "        dataTable['output_type'] = 'display_data';\n",
              "        await google.colab.output.renderOutput(dataTable, element);\n",
              "        const docLink = document.createElement('div');\n",
              "        docLink.innerHTML = docLinkHtml;\n",
              "        element.appendChild(docLink);\n",
              "      }\n",
              "    </script>\n",
              "  </div>\n",
              "\n",
              "\n",
              "<div id=\"df-381ddf8b-04da-456e-995b-1113557c36b3\">\n",
              "  <button class=\"colab-df-quickchart\" onclick=\"quickchart('df-381ddf8b-04da-456e-995b-1113557c36b3')\"\n",
              "            title=\"Suggest charts\"\n",
              "            style=\"display:none;\">\n",
              "\n",
              "<svg xmlns=\"http://www.w3.org/2000/svg\" height=\"24px\"viewBox=\"0 0 24 24\"\n",
              "     width=\"24px\">\n",
              "    <g>\n",
              "        <path d=\"M19 3H5c-1.1 0-2 .9-2 2v14c0 1.1.9 2 2 2h14c1.1 0 2-.9 2-2V5c0-1.1-.9-2-2-2zM9 17H7v-7h2v7zm4 0h-2V7h2v10zm4 0h-2v-4h2v4z\"/>\n",
              "    </g>\n",
              "</svg>\n",
              "  </button>\n",
              "\n",
              "<style>\n",
              "  .colab-df-quickchart {\n",
              "      --bg-color: #E8F0FE;\n",
              "      --fill-color: #1967D2;\n",
              "      --hover-bg-color: #E2EBFA;\n",
              "      --hover-fill-color: #174EA6;\n",
              "      --disabled-fill-color: #AAA;\n",
              "      --disabled-bg-color: #DDD;\n",
              "  }\n",
              "\n",
              "  [theme=dark] .colab-df-quickchart {\n",
              "      --bg-color: #3B4455;\n",
              "      --fill-color: #D2E3FC;\n",
              "      --hover-bg-color: #434B5C;\n",
              "      --hover-fill-color: #FFFFFF;\n",
              "      --disabled-bg-color: #3B4455;\n",
              "      --disabled-fill-color: #666;\n",
              "  }\n",
              "\n",
              "  .colab-df-quickchart {\n",
              "    background-color: var(--bg-color);\n",
              "    border: none;\n",
              "    border-radius: 50%;\n",
              "    cursor: pointer;\n",
              "    display: none;\n",
              "    fill: var(--fill-color);\n",
              "    height: 32px;\n",
              "    padding: 0;\n",
              "    width: 32px;\n",
              "  }\n",
              "\n",
              "  .colab-df-quickchart:hover {\n",
              "    background-color: var(--hover-bg-color);\n",
              "    box-shadow: 0 1px 2px rgba(60, 64, 67, 0.3), 0 1px 3px 1px rgba(60, 64, 67, 0.15);\n",
              "    fill: var(--button-hover-fill-color);\n",
              "  }\n",
              "\n",
              "  .colab-df-quickchart-complete:disabled,\n",
              "  .colab-df-quickchart-complete:disabled:hover {\n",
              "    background-color: var(--disabled-bg-color);\n",
              "    fill: var(--disabled-fill-color);\n",
              "    box-shadow: none;\n",
              "  }\n",
              "\n",
              "  .colab-df-spinner {\n",
              "    border: 2px solid var(--fill-color);\n",
              "    border-color: transparent;\n",
              "    border-bottom-color: var(--fill-color);\n",
              "    animation:\n",
              "      spin 1s steps(1) infinite;\n",
              "  }\n",
              "\n",
              "  @keyframes spin {\n",
              "    0% {\n",
              "      border-color: transparent;\n",
              "      border-bottom-color: var(--fill-color);\n",
              "      border-left-color: var(--fill-color);\n",
              "    }\n",
              "    20% {\n",
              "      border-color: transparent;\n",
              "      border-left-color: var(--fill-color);\n",
              "      border-top-color: var(--fill-color);\n",
              "    }\n",
              "    30% {\n",
              "      border-color: transparent;\n",
              "      border-left-color: var(--fill-color);\n",
              "      border-top-color: var(--fill-color);\n",
              "      border-right-color: var(--fill-color);\n",
              "    }\n",
              "    40% {\n",
              "      border-color: transparent;\n",
              "      border-right-color: var(--fill-color);\n",
              "      border-top-color: var(--fill-color);\n",
              "    }\n",
              "    60% {\n",
              "      border-color: transparent;\n",
              "      border-right-color: var(--fill-color);\n",
              "    }\n",
              "    80% {\n",
              "      border-color: transparent;\n",
              "      border-right-color: var(--fill-color);\n",
              "      border-bottom-color: var(--fill-color);\n",
              "    }\n",
              "    90% {\n",
              "      border-color: transparent;\n",
              "      border-bottom-color: var(--fill-color);\n",
              "    }\n",
              "  }\n",
              "</style>\n",
              "\n",
              "  <script>\n",
              "    async function quickchart(key) {\n",
              "      const quickchartButtonEl =\n",
              "        document.querySelector('#' + key + ' button');\n",
              "      quickchartButtonEl.disabled = true;  // To prevent multiple clicks.\n",
              "      quickchartButtonEl.classList.add('colab-df-spinner');\n",
              "      try {\n",
              "        const charts = await google.colab.kernel.invokeFunction(\n",
              "            'suggestCharts', [key], {});\n",
              "      } catch (error) {\n",
              "        console.error('Error during call to suggestCharts:', error);\n",
              "      }\n",
              "      quickchartButtonEl.classList.remove('colab-df-spinner');\n",
              "      quickchartButtonEl.classList.add('colab-df-quickchart-complete');\n",
              "    }\n",
              "    (() => {\n",
              "      let quickchartButtonEl =\n",
              "        document.querySelector('#df-381ddf8b-04da-456e-995b-1113557c36b3 button');\n",
              "      quickchartButtonEl.style.display =\n",
              "        google.colab.kernel.accessAllowed ? 'block' : 'none';\n",
              "    })();\n",
              "  </script>\n",
              "</div>\n",
              "    </div>\n",
              "  </div>\n"
            ]
          },
          "metadata": {},
          "execution_count": 59
        }
      ]
    },
    {
      "cell_type": "markdown",
      "source": [
        "- Se obtiene los clientes que por lo menos llegaron a la reunion de demostraccion, que ellos estan presentes tambien en leads."
      ],
      "metadata": {
        "id": "P14eGUye-BJg"
      }
    },
    {
      "cell_type": "code",
      "source": [
        "sns.countplot(data = common_clients ,x = 'Target')"
      ],
      "metadata": {
        "colab": {
          "base_uri": "https://localhost:8080/",
          "height": 466
        },
        "id": "fzTw2eRr_ArX",
        "outputId": "25b1d341-ce58-4558-ec99-0db542210b0f"
      },
      "execution_count": 60,
      "outputs": [
        {
          "output_type": "execute_result",
          "data": {
            "text/plain": [
              "<Axes: xlabel='Target', ylabel='count'>"
            ]
          },
          "metadata": {},
          "execution_count": 60
        },
        {
          "output_type": "display_data",
          "data": {
            "text/plain": [
              "<Figure size 640x480 with 1 Axes>"
            ],
            "image/png": "[encoded data removed]"
          },
          "metadata": {}
        }
      ]
    },
    {
      "cell_type": "markdown",
      "source": [
        "- Se observa que de esa cantidad de clientes que por lo menos llegaron a a la demostraccion, esta repartido siendo un poco mayor los clientes que si cerraron la compra, por ende, es claro que si un cliente llega a la demostraccion minimo tiene mas probabilidades, pero en terminos de registros es poca."
      ],
      "metadata": {
        "id": "nYRj4jMy_CsE"
      }
    },
    {
      "cell_type": "code",
      "source": [
        "\n",
        "sns.countplot(data = common_clients ,x = 'Target', hue = 'Use Case', palette = 'coolwarm');"
      ],
      "metadata": {
        "colab": {
          "base_uri": "https://localhost:8080/",
          "height": 453
        },
        "id": "BKKfCoFK-RgA",
        "outputId": "d367f5dc-4edb-4a5f-ac0a-54ada79f2bcc"
      },
      "execution_count": 61,
      "outputs": [
        {
          "output_type": "display_data",
          "data": {
            "text/plain": [
              "<Figure size 640x480 with 1 Axes>"
            ],
            "image/png": "[encoded data removed]"
          },
          "metadata": {}
        }
      ]
    },
    {
      "cell_type": "markdown",
      "source": [
        "- Se observa que de esa cantidad de clientes que por lo menos llegaron a a la demostraccion, tienen un caso de uso mucho mayor que los que al final no cerraron, esto da indicios para plantear un modelo."
      ],
      "metadata": {
        "id": "l8YGMkOe-2FX"
      }
    },
    {
      "cell_type": "markdown",
      "source": [
        "# Procesamiento y seleccion de carcateristicas"
      ],
      "metadata": {
        "id": "ldIH1fEmQL5o"
      }
    },
    {
      "cell_type": "code",
      "source": [
        "leads.drop(columns= 'Id', inplace = True)"
      ],
      "metadata": {
        "colab": {
          "base_uri": "https://localhost:8080/"
        },
        "id": "FVSQJkBT2zm7",
        "outputId": "01ca1fbb-5e96-4e9a-9f87-290f2227ad1e"
      },
      "execution_count": 62,
      "outputs": [
        {
          "output_type": "stream",
          "name": "stderr",
          "text": [
            "<ipython-input-62-f17ccbdf3cfb>:1: SettingWithCopyWarning: \n",
            "A value is trying to be set on a copy of a slice from a DataFrame\n",
            "\n",
            "See the caveats in the documentation: https://pandas.pydata.org/pandas-docs/stable/user_guide/indexing.html#returning-a-view-versus-a-copy\n",
            "  leads.drop(columns= 'Id', inplace = True)\n"
          ]
        }
      ]
    },
    {
      "cell_type": "code",
      "source": [
        "leads.drop(columns= 'Acquisition Campaign', inplace = True)"
      ],
      "metadata": {
        "colab": {
          "base_uri": "https://localhost:8080/"
        },
        "id": "XPcQwGj7C074",
        "outputId": "bd59bc1c-a7d5-40bb-84a0-169f3b91f4a6"
      },
      "execution_count": 63,
      "outputs": [
        {
          "output_type": "stream",
          "name": "stderr",
          "text": [
            "<ipython-input-63-ece80012b464>:1: SettingWithCopyWarning: \n",
            "A value is trying to be set on a copy of a slice from a DataFrame\n",
            "\n",
            "See the caveats in the documentation: https://pandas.pydata.org/pandas-docs/stable/user_guide/indexing.html#returning-a-view-versus-a-copy\n",
            "  leads.drop(columns= 'Acquisition Campaign', inplace = True)\n"
          ]
        }
      ]
    },
    {
      "cell_type": "code",
      "source": [
        "leads.head(5)"
      ],
      "metadata": {
        "colab": {
          "base_uri": "https://localhost:8080/",
          "height": 206
        },
        "id": "vwKiC4Qi5WBG",
        "outputId": "bb2162db-8425-414b-c7c5-e978f9c52c9f"
      },
      "execution_count": 64,
      "outputs": [
        {
          "output_type": "execute_result",
          "data": {
            "text/plain": [
              "           Use Case   Source     Status Discarded/Nurturing Reason  Converted  \\\n",
              "0  Corporate Events  Inbound  Nurturing                    Not Fit          0   \n",
              "1  Corporate Events  Inbound  Discarded                Not feeling          0   \n",
              "2  Corporate Events  Inbound  Nurturing                 Competitor          0   \n",
              "3  Corporate Events  Inbound  Discarded                 Not Target          0   \n",
              "4  Corporate Events  Inbound  Nurturing                 Competitor          0   \n",
              "\n",
              "   antiquity  \n",
              "0          5  \n",
              "1          5  \n",
              "2          4  \n",
              "3          5  \n",
              "4          5  "
            ],
            "text/html": [
              "\n",
              "  <div id=\"df-95ec022f-378a-4334-b12b-c52aa7e2317d\" class=\"colab-df-container\">\n",
              "    <div>\n",
              "<style scoped>\n",
              "    .dataframe tbody tr th:only-of-type {\n",
              "        vertical-align: middle;\n",
              "    }\n",
              "\n",
              "    .dataframe tbody tr th {\n",
              "        vertical-align: top;\n",
              "    }\n",
              "\n",
              "    .dataframe thead th {\n",
              "        text-align: right;\n",
              "    }\n",
              "</style>\n",
              "<table border=\"1\" class=\"dataframe\">\n",
              "  <thead>\n",
              "    <tr style=\"text-align: right;\">\n",
              "      <th></th>\n",
              "      <th>Use Case</th>\n",
              "      <th>Source</th>\n",
              "      <th>Status</th>\n",
              "      <th>Discarded/Nurturing Reason</th>\n",
              "      <th>Converted</th>\n",
              "      <th>antiquity</th>\n",
              "    </tr>\n",
              "  </thead>\n",
              "  <tbody>\n",
              "    <tr>\n",
              "      <th>0</th>\n",
              "      <td>Corporate Events</td>\n",
              "      <td>Inbound</td>\n",
              "      <td>Nurturing</td>\n",
              "      <td>Not Fit</td>\n",
              "      <td>0</td>\n",
              "      <td>5</td>\n",
              "    </tr>\n",
              "    <tr>\n",
              "      <th>1</th>\n",
              "      <td>Corporate Events</td>\n",
              "      <td>Inbound</td>\n",
              "      <td>Discarded</td>\n",
              "      <td>Not feeling</td>\n",
              "      <td>0</td>\n",
              "      <td>5</td>\n",
              "    </tr>\n",
              "    <tr>\n",
              "      <th>2</th>\n",
              "      <td>Corporate Events</td>\n",
              "      <td>Inbound</td>\n",
              "      <td>Nurturing</td>\n",
              "      <td>Competitor</td>\n",
              "      <td>0</td>\n",
              "      <td>4</td>\n",
              "    </tr>\n",
              "    <tr>\n",
              "      <th>3</th>\n",
              "      <td>Corporate Events</td>\n",
              "      <td>Inbound</td>\n",
              "      <td>Discarded</td>\n",
              "      <td>Not Target</td>\n",
              "      <td>0</td>\n",
              "      <td>5</td>\n",
              "    </tr>\n",
              "    <tr>\n",
              "      <th>4</th>\n",
              "      <td>Corporate Events</td>\n",
              "      <td>Inbound</td>\n",
              "      <td>Nurturing</td>\n",
              "      <td>Competitor</td>\n",
              "      <td>0</td>\n",
              "      <td>5</td>\n",
              "    </tr>\n",
              "  </tbody>\n",
              "</table>\n",
              "</div>\n",
              "    <div class=\"colab-df-buttons\">\n",
              "\n",
              "  <div class=\"colab-df-container\">\n",
              "    <button class=\"colab-df-convert\" onclick=\"convertToInteractive('df-95ec022f-378a-4334-b12b-c52aa7e2317d')\"\n",
              "            title=\"Convert this dataframe to an interactive table.\"\n",
              "            style=\"display:none;\">\n",
              "\n",
              "  <svg xmlns=\"http://www.w3.org/2000/svg\" height=\"24px\" viewBox=\"0 -960 960 960\">\n",
              "    <path d=\"M120-120v-720h720v720H120Zm60-500h600v-160H180v160Zm220 220h160v-160H400v160Zm0 220h160v-160H400v160ZM180-400h160v-160H180v160Zm440 0h160v-160H620v160ZM180-180h160v-160H180v160Zm440 0h160v-160H620v160Z\"/>\n",
              "  </svg>\n",
              "    </button>\n",
              "\n",
              "  <style>\n",
              "    .colab-df-container {\n",
              "      display:flex;\n",
              "      gap: 12px;\n",
              "    }\n",
              "\n",
              "    .colab-df-convert {\n",
              "      background-color: #E8F0FE;\n",
              "      border: none;\n",
              "      border-radius: 50%;\n",
              "      cursor: pointer;\n",
              "      display: none;\n",
              "      fill: #1967D2;\n",
              "      height: 32px;\n",
              "      padding: 0 0 0 0;\n",
              "      width: 32px;\n",
              "    }\n",
              "\n",
              "    .colab-df-convert:hover {\n",
              "      background-color: #E2EBFA;\n",
              "      box-shadow: 0px 1px 2px rgba(60, 64, 67, 0.3), 0px 1px 3px 1px rgba(60, 64, 67, 0.15);\n",
              "      fill: #174EA6;\n",
              "    }\n",
              "\n",
              "    .colab-df-buttons div {\n",
              "      margin-bottom: 4px;\n",
              "    }\n",
              "\n",
              "    [theme=dark] .colab-df-convert {\n",
              "      background-color: #3B4455;\n",
              "      fill: #D2E3FC;\n",
              "    }\n",
              "\n",
              "    [theme=dark] .colab-df-convert:hover {\n",
              "      background-color: #434B5C;\n",
              "      box-shadow: 0px 1px 3px 1px rgba(0, 0, 0, 0.15);\n",
              "      filter: drop-shadow(0px 1px 2px rgba(0, 0, 0, 0.3));\n",
              "      fill: #FFFFFF;\n",
              "    }\n",
              "  </style>\n",
              "\n",
              "    <script>\n",
              "      const buttonEl =\n",
              "        document.querySelector('#df-95ec022f-378a-4334-b12b-c52aa7e2317d button.colab-df-convert');\n",
              "      buttonEl.style.display =\n",
              "        google.colab.kernel.accessAllowed ? 'block' : 'none';\n",
              "\n",
              "      async function convertToInteractive(key) {\n",
              "        const element = document.querySelector('#df-95ec022f-378a-4334-b12b-c52aa7e2317d');\n",
              "        const dataTable =\n",
              "          await google.colab.kernel.invokeFunction('convertToInteractive',\n",
              "                                                    [key], {});\n",
              "        if (!dataTable) return;\n",
              "\n",
              "        const docLinkHtml = 'Like what you see? Visit the ' +\n",
              "          '<a target=\"_blank\" href=https://colab.research.google.com/notebooks/data_table.ipynb>data table notebook</a>'\n",
              "          + ' to learn more about interactive tables.';\n",
              "        element.innerHTML = '';\n",
              "        dataTable['output_type'] = 'display_data';\n",
              "        await google.colab.output.renderOutput(dataTable, element);\n",
              "        const docLink = document.createElement('div');\n",
              "        docLink.innerHTML = docLinkHtml;\n",
              "        element.appendChild(docLink);\n",
              "      }\n",
              "    </script>\n",
              "  </div>\n",
              "\n",
              "\n",
              "<div id=\"df-d7de8823-38df-4d76-8c65-aec43139853f\">\n",
              "  <button class=\"colab-df-quickchart\" onclick=\"quickchart('df-d7de8823-38df-4d76-8c65-aec43139853f')\"\n",
              "            title=\"Suggest charts\"\n",
              "            style=\"display:none;\">\n",
              "\n",
              "<svg xmlns=\"http://www.w3.org/2000/svg\" height=\"24px\"viewBox=\"0 0 24 24\"\n",
              "     width=\"24px\">\n",
              "    <g>\n",
              "        <path d=\"M19 3H5c-1.1 0-2 .9-2 2v14c0 1.1.9 2 2 2h14c1.1 0 2-.9 2-2V5c0-1.1-.9-2-2-2zM9 17H7v-7h2v7zm4 0h-2V7h2v10zm4 0h-2v-4h2v4z\"/>\n",
              "    </g>\n",
              "</svg>\n",
              "  </button>\n",
              "\n",
              "<style>\n",
              "  .colab-df-quickchart {\n",
              "      --bg-color: #E8F0FE;\n",
              "      --fill-color: #1967D2;\n",
              "      --hover-bg-color: #E2EBFA;\n",
              "      --hover-fill-color: #174EA6;\n",
              "      --disabled-fill-color: #AAA;\n",
              "      --disabled-bg-color: #DDD;\n",
              "  }\n",
              "\n",
              "  [theme=dark] .colab-df-quickchart {\n",
              "      --bg-color: #3B4455;\n",
              "      --fill-color: #D2E3FC;\n",
              "      --hover-bg-color: #434B5C;\n",
              "      --hover-fill-color: #FFFFFF;\n",
              "      --disabled-bg-color: #3B4455;\n",
              "      --disabled-fill-color: #666;\n",
              "  }\n",
              "\n",
              "  .colab-df-quickchart {\n",
              "    background-color: var(--bg-color);\n",
              "    border: none;\n",
              "    border-radius: 50%;\n",
              "    cursor: pointer;\n",
              "    display: none;\n",
              "    fill: var(--fill-color);\n",
              "    height: 32px;\n",
              "    padding: 0;\n",
              "    width: 32px;\n",
              "  }\n",
              "\n",
              "  .colab-df-quickchart:hover {\n",
              "    background-color: var(--hover-bg-color);\n",
              "    box-shadow: 0 1px 2px rgba(60, 64, 67, 0.3), 0 1px 3px 1px rgba(60, 64, 67, 0.15);\n",
              "    fill: var(--button-hover-fill-color);\n",
              "  }\n",
              "\n",
              "  .colab-df-quickchart-complete:disabled,\n",
              "  .colab-df-quickchart-complete:disabled:hover {\n",
              "    background-color: var(--disabled-bg-color);\n",
              "    fill: var(--disabled-fill-color);\n",
              "    box-shadow: none;\n",
              "  }\n",
              "\n",
              "  .colab-df-spinner {\n",
              "    border: 2px solid var(--fill-color);\n",
              "    border-color: transparent;\n",
              "    border-bottom-color: var(--fill-color);\n",
              "    animation:\n",
              "      spin 1s steps(1) infinite;\n",
              "  }\n",
              "\n",
              "  @keyframes spin {\n",
              "    0% {\n",
              "      border-color: transparent;\n",
              "      border-bottom-color: var(--fill-color);\n",
              "      border-left-color: var(--fill-color);\n",
              "    }\n",
              "    20% {\n",
              "      border-color: transparent;\n",
              "      border-left-color: var(--fill-color);\n",
              "      border-top-color: var(--fill-color);\n",
              "    }\n",
              "    30% {\n",
              "      border-color: transparent;\n",
              "      border-left-color: var(--fill-color);\n",
              "      border-top-color: var(--fill-color);\n",
              "      border-right-color: var(--fill-color);\n",
              "    }\n",
              "    40% {\n",
              "      border-color: transparent;\n",
              "      border-right-color: var(--fill-color);\n",
              "      border-top-color: var(--fill-color);\n",
              "    }\n",
              "    60% {\n",
              "      border-color: transparent;\n",
              "      border-right-color: var(--fill-color);\n",
              "    }\n",
              "    80% {\n",
              "      border-color: transparent;\n",
              "      border-right-color: var(--fill-color);\n",
              "      border-bottom-color: var(--fill-color);\n",
              "    }\n",
              "    90% {\n",
              "      border-color: transparent;\n",
              "      border-bottom-color: var(--fill-color);\n",
              "    }\n",
              "  }\n",
              "</style>\n",
              "\n",
              "  <script>\n",
              "    async function quickchart(key) {\n",
              "      const quickchartButtonEl =\n",
              "        document.querySelector('#' + key + ' button');\n",
              "      quickchartButtonEl.disabled = true;  // To prevent multiple clicks.\n",
              "      quickchartButtonEl.classList.add('colab-df-spinner');\n",
              "      try {\n",
              "        const charts = await google.colab.kernel.invokeFunction(\n",
              "            'suggestCharts', [key], {});\n",
              "      } catch (error) {\n",
              "        console.error('Error during call to suggestCharts:', error);\n",
              "      }\n",
              "      quickchartButtonEl.classList.remove('colab-df-spinner');\n",
              "      quickchartButtonEl.classList.add('colab-df-quickchart-complete');\n",
              "    }\n",
              "    (() => {\n",
              "      let quickchartButtonEl =\n",
              "        document.querySelector('#df-d7de8823-38df-4d76-8c65-aec43139853f button');\n",
              "      quickchartButtonEl.style.display =\n",
              "        google.colab.kernel.accessAllowed ? 'block' : 'none';\n",
              "    })();\n",
              "  </script>\n",
              "</div>\n",
              "    </div>\n",
              "  </div>\n"
            ]
          },
          "metadata": {},
          "execution_count": 64
        }
      ]
    },
    {
      "cell_type": "markdown",
      "source": [
        "- Use Case: Parece ser una variable donde las categorías no tienen un orden específico y son igualmente relevantes. Por lo tanto, es más adecuado aplicar One-Hot Encoding.\n",
        "\n",
        "- Source: Similar a \"Use Case\", no parece haber un orden implícito. De nuevo, One-Hot Encoding sería apropiado.\n",
        "\n",
        "- Status: Esta variable podría tener un orden implícito, segun el estado, seria bueno el modelo aprendiera en ese caso un orden, por lo tanto es mejor aplicar laber_encoder\n",
        "\n",
        "- Discarded/Nurturing Reason: no hay ningun orden, se usar one hot."
      ],
      "metadata": {
        "id": "TXpZ7qq0DBH2"
      }
    },
    {
      "cell_type": "code",
      "source": [
        "import pandas as pd\n",
        "\n",
        "leads.to_excel(\"output.xlsx\")\n"
      ],
      "metadata": {
        "id": "jfxoPKO1VNaL"
      },
      "execution_count": 104,
      "outputs": []
    },
    {
      "cell_type": "markdown",
      "source": [
        "# FUNCIONES AUXILIARES"
      ],
      "metadata": {
        "id": "k-BTkGpHFPiM"
      }
    },
    {
      "cell_type": "code",
      "source": [
        "\n",
        "from sklearn.model_selection import train_test_split\n",
        "from sklearn.preprocessing import MinMaxScaler\n",
        "from sklearn.compose import ColumnTransformer\n",
        "from sklearn.preprocessing import OneHotEncoder\n",
        "from sklearn.pipeline import Pipeline\n",
        "from sklearn.preprocessing import RobustScaler\n",
        "from sklearn.impute import SimpleImputer\n",
        "from sklearn.base import BaseEstimator, TransformerMixin\n",
        "from sklearn.preprocessing import LabelEncoder\n",
        "from sklearn.preprocessing import StandardScaler\n",
        "from sklearn.preprocessing import RobustScaler\n",
        "from sklearn.metrics import f1_score\n",
        "import matplotlib.gridspec as gridspec\n",
        "from collections import Counter\n",
        "def train_val_test_split(df, rstate=42, shuffle=True, stratify=None):\n",
        "    strat = df[stratify] if stratify else None\n",
        "    train_set, test_set = train_test_split(\n",
        "        df, test_size=0.4, random_state=rstate, shuffle=shuffle, stratify=strat)\n",
        "    strat = test_set[stratify] if stratify else None\n",
        "    val_set, test_set = train_test_split(\n",
        "        test_set, test_size=0.5, random_state=rstate, shuffle=shuffle, stratify=strat)\n",
        "    return (train_set, val_set, test_set)"
      ],
      "metadata": {
        "id": "vK44ojKoAHAM"
      },
      "execution_count": 66,
      "outputs": []
    },
    {
      "cell_type": "code",
      "source": [
        "def apply_label_encoder_to_datasets(datasets, columns_to_encode):\n",
        "    label_encoders = {}\n",
        "    for dataset in datasets:\n",
        "        for col in columns_to_encode:\n",
        "            label_encoder = LabelEncoder()\n",
        "            dataset[col] = label_encoder.fit_transform(dataset[col])\n",
        "            label_encoders[col] = label_encoder\n",
        "    return datasets, label_encoders"
      ],
      "metadata": {
        "id": "5-YHQiA-FUre"
      },
      "execution_count": 67,
      "outputs": []
    },
    {
      "cell_type": "code",
      "source": [
        "# Construcción de un pipeline para los atributos numéricos con RobustScaler\n",
        "num_pipeline = Pipeline([\n",
        "    ('min_max_scaler', MinMaxScaler()),\n",
        "])"
      ],
      "metadata": {
        "id": "wqtWb28_FWdX"
      },
      "execution_count": 68,
      "outputs": []
    },
    {
      "cell_type": "code",
      "source": [
        "# Transormador para codificar únicamente las columnas categoricas y devolver un df\n",
        "\n",
        "class CustomOneHotEncoder(BaseEstimator, TransformerMixin):\n",
        "    def __init__(self, categorical_columns=None):\n",
        "        self.categorical_columns = categorical_columns\n",
        "        self._oh = OneHotEncoder(sparse=False)\n",
        "        self._columns = None\n",
        "\n",
        "    def fit(self, X, y=None):\n",
        "        if self.categorical_columns is not None:\n",
        "            X_cat = X[self.categorical_columns]\n",
        "        else:\n",
        "            X_cat = X.select_dtypes(include=['object'])\n",
        "\n",
        "        self._columns = pd.get_dummies(X_cat).columns\n",
        "        self._oh.fit(X_cat)\n",
        "        return self\n",
        "\n",
        "    def transform(self, X, y=None):\n",
        "        X_copy = X.copy()\n",
        "\n",
        "        if self.categorical_columns is not None:\n",
        "            X_cat = X_copy[self.categorical_columns]\n",
        "        else:\n",
        "            X_cat = X_copy.select_dtypes(include=['object'])\n",
        "\n",
        "        X_num = X_copy.select_dtypes(exclude=['object'])\n",
        "        X_cat_oh = self._oh.transform(X_cat)\n",
        "        X_cat_oh = pd.DataFrame(X_cat_oh, columns=self._columns, index=X_copy.index)\n",
        "        X_copy.drop(list(X_cat), axis=1, inplace=True)\n",
        "\n",
        "        return X_copy.join(X_cat_oh)"
      ],
      "metadata": {
        "id": "1RN3fGhUFZhA"
      },
      "execution_count": 69,
      "outputs": []
    },
    {
      "cell_type": "code",
      "source": [
        "class DataFramePreparer(BaseEstimator, TransformerMixin):\n",
        "    def __init__(self, num_pipeline, cat_columns):\n",
        "        self.num_pipeline = num_pipeline\n",
        "        self.cat_columns = cat_columns\n",
        "        self._full_pipeline = None\n",
        "        self._columns = None\n",
        "\n",
        "    def fit(self, X, y=None):\n",
        "        num_attribs = list(X.select_dtypes(exclude=['object']))\n",
        "        cat_attribs = self.cat_columns\n",
        "        self._full_pipeline = ColumnTransformer([\n",
        "                (\"num\", self.num_pipeline, num_attribs),\n",
        "                (\"cat\", CustomOneHotEncoder(categorical_columns=cat_attribs), cat_attribs)\n",
        "\n",
        "        ])\n",
        "        self._full_pipeline.fit(X)\n",
        "        self._columns = list(X.select_dtypes(exclude=['object']).columns) + \\\n",
        "                        list(self._full_pipeline.named_transformers_['cat']._columns)\n",
        "        return self\n",
        "\n",
        "    def transform(self, X, y=None):\n",
        "        X_copy = X.copy()\n",
        "        X_prep = self._full_pipeline.transform(X_copy)\n",
        "        return pd.DataFrame(X_prep, columns=self._columns, index=X_copy.index)\n"
      ],
      "metadata": {
        "id": "1nKdQD6jFiNX"
      },
      "execution_count": 70,
      "outputs": []
    },
    {
      "cell_type": "code",
      "source": [
        "# Division del conjunto en los diferentes subconjuntos\n",
        "train_set, val_set, test_set = train_val_test_split(leads)"
      ],
      "metadata": {
        "id": "adCvfU_wFkrH"
      },
      "execution_count": 71,
      "outputs": []
    },
    {
      "cell_type": "code",
      "source": [
        "print(\"Longitud del Training Set:\", len(train_set))\n",
        "print(\"Longitud del Validation Set:\", len(val_set))\n",
        "print(\"Longitud del Test Set:\", len(test_set))"
      ],
      "metadata": {
        "colab": {
          "base_uri": "https://localhost:8080/"
        },
        "id": "bEkd6hUHFrVO",
        "outputId": "788cf4d6-eac6-427a-b52c-c5f8123ed738"
      },
      "execution_count": 72,
      "outputs": [
        {
          "output_type": "stream",
          "name": "stdout",
          "text": [
            "Longitud del Training Set: 36037\n",
            "Longitud del Validation Set: 12013\n",
            "Longitud del Test Set: 12013\n"
          ]
        }
      ]
    },
    {
      "cell_type": "code",
      "source": [
        "# Conjunto de datos general\n",
        "\n",
        "\n",
        "x_data = leads.drop(\"Converted\", axis=1)\n",
        "y_data = leads[\"Converted\"].copy()\n",
        "\n",
        "X_train = train_set.drop(\"Converted\", axis=1)\n",
        "y_train = train_set[\"Converted\"].copy()\n",
        "\n",
        "X_val = val_set.drop(\"Converted\", axis=1)\n",
        "y_val = val_set[\"Converted\"].copy()\n",
        "\n",
        "X_test = test_set.drop(\"Converted\", axis=1)\n",
        "y_test = test_set[\"Converted\"].copy()"
      ],
      "metadata": {
        "id": "QbTnVQleFtAe"
      },
      "execution_count": 73,
      "outputs": []
    },
    {
      "cell_type": "code",
      "source": [
        "# Columnas a codificar con LabelEncoder\n",
        "columns_to_encode = [\"Status\"]\n",
        "\n",
        "datasets = [x_data ,X_train, X_val, X_test  ]\n",
        "datasets, label_encoders = apply_label_encoder_to_datasets(datasets, columns_to_encode)"
      ],
      "metadata": {
        "id": "u-rNhVBfF9g-"
      },
      "execution_count": 74,
      "outputs": []
    },
    {
      "cell_type": "code",
      "source": [
        "# Instanciamos nuestro transformador personalizado\n",
        "cat_columns_to_encode = ['Use Case', 'Source', 'Discarded/Nurturing Reason']\n",
        "\n",
        "\n",
        "data_preparer = DataFramePreparer(num_pipeline, cat_columns_to_encode)\n"
      ],
      "metadata": {
        "id": "d48bcHzuGE9V"
      },
      "execution_count": 75,
      "outputs": []
    },
    {
      "cell_type": "code",
      "source": [
        "# Hacemos el fit con el conjunto de datos general para que adquiera todos los valores posibles\n",
        "data_preparer.fit(x_data)"
      ],
      "metadata": {
        "colab": {
          "base_uri": "https://localhost:8080/",
          "height": 172
        },
        "id": "Ahwr6H20GVfC",
        "outputId": "ee94498f-e031-441b-a5d9-ead0d5a1de11"
      },
      "execution_count": 76,
      "outputs": [
        {
          "output_type": "stream",
          "name": "stderr",
          "text": [
            "/usr/local/lib/python3.10/dist-packages/sklearn/preprocessing/_encoders.py:868: FutureWarning: `sparse` was renamed to `sparse_output` in version 1.2 and will be removed in 1.4. `sparse_output` is ignored unless you leave `sparse` to its default value.\n",
            "  warnings.warn(\n"
          ]
        },
        {
          "output_type": "execute_result",
          "data": {
            "text/plain": [
              "DataFramePreparer(cat_columns=['Use Case', 'Source',\n",
              "                               'Discarded/Nurturing Reason'],\n",
              "                  num_pipeline=Pipeline(steps=[('min_max_scaler',\n",
              "                                                MinMaxScaler())]))"
            ],
            "text/html": [
              "<style>#sk-container-id-1 {color: black;background-color: white;}#sk-container-id-1 pre{padding: 0;}#sk-container-id-1 div.sk-toggleable {background-color: white;}#sk-container-id-1 label.sk-toggleable__label {cursor: pointer;display: block;width: 100%;margin-bottom: 0;padding: 0.3em;box-sizing: border-box;text-align: center;}#sk-container-id-1 label.sk-toggleable__label-arrow:before {content: \"▸\";float: left;margin-right: 0.25em;color: #696969;}#sk-container-id-1 label.sk-toggleable__label-arrow:hover:before {color: black;}#sk-container-id-1 div.sk-estimator:hover label.sk-toggleable__label-arrow:before {color: black;}#sk-container-id-1 div.sk-toggleable__content {max-height: 0;max-width: 0;overflow: hidden;text-align: left;background-color: #f0f8ff;}#sk-container-id-1 div.sk-toggleable__content pre {margin: 0.2em;color: black;border-radius: 0.25em;background-color: #f0f8ff;}#sk-container-id-1 input.sk-toggleable__control:checked~div.sk-toggleable__content {max-height: 200px;max-width: 100%;overflow: auto;}#sk-container-id-1 input.sk-toggleable__control:checked~label.sk-toggleable__label-arrow:before {content: \"▾\";}#sk-container-id-1 div.sk-estimator input.sk-toggleable__control:checked~label.sk-toggleable__label {background-color: #d4ebff;}#sk-container-id-1 div.sk-label input.sk-toggleable__control:checked~label.sk-toggleable__label {background-color: #d4ebff;}#sk-container-id-1 input.sk-hidden--visually {border: 0;clip: rect(1px 1px 1px 1px);clip: rect(1px, 1px, 1px, 1px);height: 1px;margin: -1px;overflow: hidden;padding: 0;position: absolute;width: 1px;}#sk-container-id-1 div.sk-estimator {font-family: monospace;background-color: #f0f8ff;border: 1px dotted black;border-radius: 0.25em;box-sizing: border-box;margin-bottom: 0.5em;}#sk-container-id-1 div.sk-estimator:hover {background-color: #d4ebff;}#sk-container-id-1 div.sk-parallel-item::after {content: \"\";width: 100%;border-bottom: 1px solid gray;flex-grow: 1;}#sk-container-id-1 div.sk-label:hover label.sk-toggleable__label {background-color: #d4ebff;}#sk-container-id-1 div.sk-serial::before {content: \"\";position: absolute;border-left: 1px solid gray;box-sizing: border-box;top: 0;bottom: 0;left: 50%;z-index: 0;}#sk-container-id-1 div.sk-serial {display: flex;flex-direction: column;align-items: center;background-color: white;padding-right: 0.2em;padding-left: 0.2em;position: relative;}#sk-container-id-1 div.sk-item {position: relative;z-index: 1;}#sk-container-id-1 div.sk-parallel {display: flex;align-items: stretch;justify-content: center;background-color: white;position: relative;}#sk-container-id-1 div.sk-item::before, #sk-container-id-1 div.sk-parallel-item::before {content: \"\";position: absolute;border-left: 1px solid gray;box-sizing: border-box;top: 0;bottom: 0;left: 50%;z-index: -1;}#sk-container-id-1 div.sk-parallel-item {display: flex;flex-direction: column;z-index: 1;position: relative;background-color: white;}#sk-container-id-1 div.sk-parallel-item:first-child::after {align-self: flex-end;width: 50%;}#sk-container-id-1 div.sk-parallel-item:last-child::after {align-self: flex-start;width: 50%;}#sk-container-id-1 div.sk-parallel-item:only-child::after {width: 0;}#sk-container-id-1 div.sk-dashed-wrapped {border: 1px dashed gray;margin: 0 0.4em 0.5em 0.4em;box-sizing: border-box;padding-bottom: 0.4em;background-color: white;}#sk-container-id-1 div.sk-label label {font-family: monospace;font-weight: bold;display: inline-block;line-height: 1.2em;}#sk-container-id-1 div.sk-label-container {text-align: center;}#sk-container-id-1 div.sk-container {/* jupyter's `normalize.less` sets `[hidden] { display: none; }` but bootstrap.min.css set `[hidden] { display: none !important; }` so we also need the `!important` here to be able to override the default hidden behavior on the sphinx rendered scikit-learn.org. See: https://github.com/scikit-learn/scikit-learn/issues/21755 */display: inline-block !important;position: relative;}#sk-container-id-1 div.sk-text-repr-fallback {display: none;}</style><div id=\"sk-container-id-1\" class=\"sk-top-container\"><div class=\"sk-text-repr-fallback\"><pre>DataFramePreparer(cat_columns=[&#x27;Use Case&#x27;, &#x27;Source&#x27;,\n",
              "                               &#x27;Discarded/Nurturing Reason&#x27;],\n",
              "                  num_pipeline=Pipeline(steps=[(&#x27;min_max_scaler&#x27;,\n",
              "                                                MinMaxScaler())]))</pre><b>In a Jupyter environment, please rerun this cell to show the HTML representation or trust the notebook. <br />On GitHub, the HTML representation is unable to render, please try loading this page with nbviewer.org.</b></div><div class=\"sk-container\" hidden><div class=\"sk-item sk-dashed-wrapped\"><div class=\"sk-label-container\"><div class=\"sk-label sk-toggleable\"><input class=\"sk-toggleable__control sk-hidden--visually\" id=\"sk-estimator-id-1\" type=\"checkbox\" ><label for=\"sk-estimator-id-1\" class=\"sk-toggleable__label sk-toggleable__label-arrow\">DataFramePreparer</label><div class=\"sk-toggleable__content\"><pre>DataFramePreparer(cat_columns=[&#x27;Use Case&#x27;, &#x27;Source&#x27;,\n",
              "                               &#x27;Discarded/Nurturing Reason&#x27;],\n",
              "                  num_pipeline=Pipeline(steps=[(&#x27;min_max_scaler&#x27;,\n",
              "                                                MinMaxScaler())]))</pre></div></div></div><div class=\"sk-parallel\"><div class=\"sk-parallel-item\"><div class=\"sk-item\"><div class=\"sk-label-container\"><div class=\"sk-label sk-toggleable\"><input class=\"sk-toggleable__control sk-hidden--visually\" id=\"sk-estimator-id-2\" type=\"checkbox\" ><label for=\"sk-estimator-id-2\" class=\"sk-toggleable__label sk-toggleable__label-arrow\">num_pipeline: Pipeline</label><div class=\"sk-toggleable__content\"><pre>Pipeline(steps=[(&#x27;min_max_scaler&#x27;, MinMaxScaler())])</pre></div></div></div><div class=\"sk-serial\"><div class=\"sk-item\"><div class=\"sk-serial\"><div class=\"sk-item\"><div class=\"sk-estimator sk-toggleable\"><input class=\"sk-toggleable__control sk-hidden--visually\" id=\"sk-estimator-id-3\" type=\"checkbox\" ><label for=\"sk-estimator-id-3\" class=\"sk-toggleable__label sk-toggleable__label-arrow\">MinMaxScaler</label><div class=\"sk-toggleable__content\"><pre>MinMaxScaler()</pre></div></div></div></div></div></div></div></div></div></div></div></div>"
            ]
          },
          "metadata": {},
          "execution_count": 76
        }
      ]
    },
    {
      "cell_type": "code",
      "source": [
        "# Transformamos el subconjunto de datos de entrenamiento\n",
        "X_train_prep = data_preparer.transform(X_train)\n",
        "\n",
        "y_train = pd.DataFrame(y_train)\n",
        "\n",
        "# Transformamos el subconjunto de datos de validacion\n",
        "X_val_prep = data_preparer.transform(X_val)\n",
        "\n",
        "\n",
        "# Transformamos el subconjunto de datos de validacion\n",
        "X_test_prep = data_preparer.transform(X_test)"
      ],
      "metadata": {
        "id": "ZpDuo9ltGV2_"
      },
      "execution_count": 77,
      "outputs": []
    },
    {
      "cell_type": "markdown",
      "source": [
        "# RANDON FOREST"
      ],
      "metadata": {
        "id": "CrLuBjlfIFoa"
      }
    },
    {
      "cell_type": "code",
      "source": [
        "from sklearn.ensemble import RandomForestClassifier\n",
        "\n",
        "clf_rnd = RandomForestClassifier(n_estimators=100, min_samples_leaf=724, random_state=42, n_jobs=-1)\n",
        "clf_rnd.fit(X_train_prep, y_train)"
      ],
      "metadata": {
        "colab": {
          "base_uri": "https://localhost:8080/",
          "height": 129
        },
        "id": "OGb_SUsuGlww",
        "outputId": "874dab90-11aa-460b-a674-41a1b9d878d3"
      },
      "execution_count": 78,
      "outputs": [
        {
          "output_type": "stream",
          "name": "stderr",
          "text": [
            "<ipython-input-78-075cb989b2f6>:4: DataConversionWarning: A column-vector y was passed when a 1d array was expected. Please change the shape of y to (n_samples,), for example using ravel().\n",
            "  clf_rnd.fit(X_train_prep, y_train)\n"
          ]
        },
        {
          "output_type": "execute_result",
          "data": {
            "text/plain": [
              "RandomForestClassifier(min_samples_leaf=724, n_jobs=-1, random_state=42)"
            ],
            "text/html": [
              "<style>#sk-container-id-2 {color: black;background-color: white;}#sk-container-id-2 pre{padding: 0;}#sk-container-id-2 div.sk-toggleable {background-color: white;}#sk-container-id-2 label.sk-toggleable__label {cursor: pointer;display: block;width: 100%;margin-bottom: 0;padding: 0.3em;box-sizing: border-box;text-align: center;}#sk-container-id-2 label.sk-toggleable__label-arrow:before {content: \"▸\";float: left;margin-right: 0.25em;color: #696969;}#sk-container-id-2 label.sk-toggleable__label-arrow:hover:before {color: black;}#sk-container-id-2 div.sk-estimator:hover label.sk-toggleable__label-arrow:before {color: black;}#sk-container-id-2 div.sk-toggleable__content {max-height: 0;max-width: 0;overflow: hidden;text-align: left;background-color: #f0f8ff;}#sk-container-id-2 div.sk-toggleable__content pre {margin: 0.2em;color: black;border-radius: 0.25em;background-color: #f0f8ff;}#sk-container-id-2 input.sk-toggleable__control:checked~div.sk-toggleable__content {max-height: 200px;max-width: 100%;overflow: auto;}#sk-container-id-2 input.sk-toggleable__control:checked~label.sk-toggleable__label-arrow:before {content: \"▾\";}#sk-container-id-2 div.sk-estimator input.sk-toggleable__control:checked~label.sk-toggleable__label {background-color: #d4ebff;}#sk-container-id-2 div.sk-label input.sk-toggleable__control:checked~label.sk-toggleable__label {background-color: #d4ebff;}#sk-container-id-2 input.sk-hidden--visually {border: 0;clip: rect(1px 1px 1px 1px);clip: rect(1px, 1px, 1px, 1px);height: 1px;margin: -1px;overflow: hidden;padding: 0;position: absolute;width: 1px;}#sk-container-id-2 div.sk-estimator {font-family: monospace;background-color: #f0f8ff;border: 1px dotted black;border-radius: 0.25em;box-sizing: border-box;margin-bottom: 0.5em;}#sk-container-id-2 div.sk-estimator:hover {background-color: #d4ebff;}#sk-container-id-2 div.sk-parallel-item::after {content: \"\";width: 100%;border-bottom: 1px solid gray;flex-grow: 1;}#sk-container-id-2 div.sk-label:hover label.sk-toggleable__label {background-color: #d4ebff;}#sk-container-id-2 div.sk-serial::before {content: \"\";position: absolute;border-left: 1px solid gray;box-sizing: border-box;top: 0;bottom: 0;left: 50%;z-index: 0;}#sk-container-id-2 div.sk-serial {display: flex;flex-direction: column;align-items: center;background-color: white;padding-right: 0.2em;padding-left: 0.2em;position: relative;}#sk-container-id-2 div.sk-item {position: relative;z-index: 1;}#sk-container-id-2 div.sk-parallel {display: flex;align-items: stretch;justify-content: center;background-color: white;position: relative;}#sk-container-id-2 div.sk-item::before, #sk-container-id-2 div.sk-parallel-item::before {content: \"\";position: absolute;border-left: 1px solid gray;box-sizing: border-box;top: 0;bottom: 0;left: 50%;z-index: -1;}#sk-container-id-2 div.sk-parallel-item {display: flex;flex-direction: column;z-index: 1;position: relative;background-color: white;}#sk-container-id-2 div.sk-parallel-item:first-child::after {align-self: flex-end;width: 50%;}#sk-container-id-2 div.sk-parallel-item:last-child::after {align-self: flex-start;width: 50%;}#sk-container-id-2 div.sk-parallel-item:only-child::after {width: 0;}#sk-container-id-2 div.sk-dashed-wrapped {border: 1px dashed gray;margin: 0 0.4em 0.5em 0.4em;box-sizing: border-box;padding-bottom: 0.4em;background-color: white;}#sk-container-id-2 div.sk-label label {font-family: monospace;font-weight: bold;display: inline-block;line-height: 1.2em;}#sk-container-id-2 div.sk-label-container {text-align: center;}#sk-container-id-2 div.sk-container {/* jupyter's `normalize.less` sets `[hidden] { display: none; }` but bootstrap.min.css set `[hidden] { display: none !important; }` so we also need the `!important` here to be able to override the default hidden behavior on the sphinx rendered scikit-learn.org. See: https://github.com/scikit-learn/scikit-learn/issues/21755 */display: inline-block !important;position: relative;}#sk-container-id-2 div.sk-text-repr-fallback {display: none;}</style><div id=\"sk-container-id-2\" class=\"sk-top-container\"><div class=\"sk-text-repr-fallback\"><pre>RandomForestClassifier(min_samples_leaf=724, n_jobs=-1, random_state=42)</pre><b>In a Jupyter environment, please rerun this cell to show the HTML representation or trust the notebook. <br />On GitHub, the HTML representation is unable to render, please try loading this page with nbviewer.org.</b></div><div class=\"sk-container\" hidden><div class=\"sk-item\"><div class=\"sk-estimator sk-toggleable\"><input class=\"sk-toggleable__control sk-hidden--visually\" id=\"sk-estimator-id-4\" type=\"checkbox\" checked><label for=\"sk-estimator-id-4\" class=\"sk-toggleable__label sk-toggleable__label-arrow\">RandomForestClassifier</label><div class=\"sk-toggleable__content\"><pre>RandomForestClassifier(min_samples_leaf=724, n_jobs=-1, random_state=42)</pre></div></div></div></div></div>"
            ]
          },
          "metadata": {},
          "execution_count": 78
        }
      ]
    },
    {
      "cell_type": "code",
      "source": [
        "# Predecimos con el conjunto de datos de entrenamiento\n",
        "y_train_pred = clf_rnd.predict(X_train_prep)"
      ],
      "metadata": {
        "id": "eA-aTSoUGrln"
      },
      "execution_count": 79,
      "outputs": []
    },
    {
      "cell_type": "code",
      "source": [
        "from sklearn.metrics import f1_score\n",
        "# Calcula el F1-score en el conjunto de datos de entrenamiento\n",
        "f1_train = f1_score(y_train, y_train_pred, average='weighted')\n",
        "f1_train"
      ],
      "metadata": {
        "colab": {
          "base_uri": "https://localhost:8080/"
        },
        "id": "n92SfEkQGtfG",
        "outputId": "afcd3fe2-0e2b-4f04-cbb2-a38d84840901"
      },
      "execution_count": 80,
      "outputs": [
        {
          "output_type": "execute_result",
          "data": {
            "text/plain": [
              "0.9788117021579086"
            ]
          },
          "metadata": {},
          "execution_count": 80
        }
      ]
    },
    {
      "cell_type": "code",
      "source": [
        "# Predecimos con el conjunto de datos de validación\n",
        "y_pred = clf_rnd.predict(X_val_prep)"
      ],
      "metadata": {
        "id": "bC-3osJ8Gvb2"
      },
      "execution_count": 81,
      "outputs": []
    },
    {
      "cell_type": "code",
      "source": [
        "# Calcula el F1-score en el conjunto de datos de validacion\n",
        "f1_train = f1_score(y_val, y_pred, average='weighted')\n",
        "f1_train"
      ],
      "metadata": {
        "colab": {
          "base_uri": "https://localhost:8080/"
        },
        "id": "-MR8PpEFGxQe",
        "outputId": "e83f27d8-1393-426f-eb0b-85f4ee13968f"
      },
      "execution_count": 82,
      "outputs": [
        {
          "output_type": "execute_result",
          "data": {
            "text/plain": [
              "0.9801979754256896"
            ]
          },
          "metadata": {},
          "execution_count": 82
        }
      ]
    },
    {
      "cell_type": "markdown",
      "source": [
        "# SELCCION DE CARACTERISTICAS Y REDUCCION"
      ],
      "metadata": {
        "id": "nSfPR4GuIJpQ"
      }
    },
    {
      "cell_type": "code",
      "source": [
        "clf_rnd.feature_importances_"
      ],
      "metadata": {
        "colab": {
          "base_uri": "https://localhost:8080/"
        },
        "id": "EZ6mvZDvGzDO",
        "outputId": "71970112-af89-49ef-c32a-bca4fac326a7"
      },
      "execution_count": 83,
      "outputs": [
        {
          "output_type": "execute_result",
          "data": {
            "text/plain": [
              "array([0.6299789 , 0.01200544, 0.        , 0.02841258, 0.03870992,\n",
              "       0.00221712, 0.        , 0.        , 0.01670028, 0.        ,\n",
              "       0.        , 0.        , 0.01564728, 0.        , 0.        ,\n",
              "       0.00206931, 0.        , 0.        , 0.        , 0.00417868,\n",
              "       0.20977537, 0.0045661 , 0.        , 0.01478356, 0.01490421,\n",
              "       0.00605124])"
            ]
          },
          "metadata": {},
          "execution_count": 83
        }
      ]
    },
    {
      "cell_type": "code",
      "source": [
        "# Podemos extraer que características son más importantes para la correcta clasificación de los datos\n",
        "feature_importances = {name: score for name, score in zip(list(X_train_prep), clf_rnd.feature_importances_)}"
      ],
      "metadata": {
        "id": "17ePUZGDG0_m"
      },
      "execution_count": 84,
      "outputs": []
    },
    {
      "cell_type": "code",
      "source": [
        "feature_importances_sorted = pd.Series(feature_importances).sort_values(ascending=False)\n",
        "feature_importances_sorted.head(30)"
      ],
      "metadata": {
        "colab": {
          "base_uri": "https://localhost:8080/"
        },
        "id": "QUlEHDIbG2fW",
        "outputId": "162629f6-4de7-4d50-c8bc-ab0e61d09b55"
      },
      "execution_count": 85,
      "outputs": [
        {
          "output_type": "execute_result",
          "data": {
            "text/plain": [
              "Status                                             0.629979\n",
              "Discarded/Nurturing Reason_Not Target              0.209775\n",
              "Use Case_Educational Seminars                      0.038710\n",
              "Use Case_Corporate Events                          0.028413\n",
              "Source_Inbound                                     0.016700\n",
              "Source_Outbound                                    0.015647\n",
              "Discarded/Nurturing Reason_Unreachable             0.014904\n",
              "Discarded/Nurturing Reason_Not the right moment    0.014784\n",
              "antiquity                                          0.012005\n",
              "Discarded/Nurturing Reason_Wrong Data              0.006051\n",
              "Discarded/Nurturing Reason_Not feeling             0.004566\n",
              "Discarded/Nurturing Reason_Not Fit                 0.004179\n",
              "Use Case_Sports Events                             0.002217\n",
              "Discarded/Nurturing Reason_Competitor              0.002069\n",
              "Source_Llamada entrante                            0.000000\n",
              "Source_Mail                                        0.000000\n",
              "Source_Intercom                                    0.000000\n",
              "Source_Bot-Intercom                                0.000000\n",
              "Discarded/Nurturing Reason_Black list              0.000000\n",
              "Discarded/Nurturing Reason_Duplicate/Test          0.000000\n",
              "Discarded/Nurturing Reason_No Fit                  0.000000\n",
              "Discarded/Nurturing Reason_No show                 0.000000\n",
              "Use Case_Wedding Planning                          0.000000\n",
              "Discarded/Nurturing Reason_Not interested          0.000000\n",
              "Use Case_Concerts and festivals                    0.000000\n",
              "Discarded/Nurturing Reason_Already Customer        0.000000\n",
              "dtype: float64"
            ]
          },
          "metadata": {},
          "execution_count": 85
        }
      ]
    },
    {
      "cell_type": "code",
      "source": [
        "# Extraemos las 10 caracteristicas con mas relevancia para el algoritmo\n",
        "columns = list(feature_importances_sorted.head(14).index)"
      ],
      "metadata": {
        "id": "_FBcUWqOG4bN"
      },
      "execution_count": 86,
      "outputs": []
    },
    {
      "cell_type": "code",
      "source": [
        "X_train_reduced = X_train_prep[columns].copy()\n",
        "X_val_reduced = X_val_prep[columns].copy()\n",
        "X_test_reduced = X_test_prep[columns].copy()\n"
      ],
      "metadata": {
        "id": "PnPopZoAHHfN"
      },
      "execution_count": 87,
      "outputs": []
    },
    {
      "cell_type": "markdown",
      "source": [
        "# RANDOM FOESRT CON SELECCION DE CARACTERISTICAS"
      ],
      "metadata": {
        "id": "Y2EUMQV_IOgn"
      }
    },
    {
      "cell_type": "code",
      "source": [
        "from sklearn.ensemble import RandomForestClassifier\n",
        "\n",
        "clf_rnd = RandomForestClassifier(n_estimators=100, min_samples_leaf=724, random_state=42, n_jobs=-1)\n",
        "clf_rnd.fit(X_train_reduced, y_train)"
      ],
      "metadata": {
        "colab": {
          "base_uri": "https://localhost:8080/",
          "height": 129
        },
        "id": "T6zrgChdHJ78",
        "outputId": "bb27d231-7d59-4c7f-ac52-8d6e2f2f4e56"
      },
      "execution_count": 88,
      "outputs": [
        {
          "output_type": "stream",
          "name": "stderr",
          "text": [
            "<ipython-input-88-3989e49eecb0>:4: DataConversionWarning: A column-vector y was passed when a 1d array was expected. Please change the shape of y to (n_samples,), for example using ravel().\n",
            "  clf_rnd.fit(X_train_reduced, y_train)\n"
          ]
        },
        {
          "output_type": "execute_result",
          "data": {
            "text/plain": [
              "RandomForestClassifier(min_samples_leaf=724, n_jobs=-1, random_state=42)"
            ],
            "text/html": [
              "<style>#sk-container-id-3 {color: black;background-color: white;}#sk-container-id-3 pre{padding: 0;}#sk-container-id-3 div.sk-toggleable {background-color: white;}#sk-container-id-3 label.sk-toggleable__label {cursor: pointer;display: block;width: 100%;margin-bottom: 0;padding: 0.3em;box-sizing: border-box;text-align: center;}#sk-container-id-3 label.sk-toggleable__label-arrow:before {content: \"▸\";float: left;margin-right: 0.25em;color: #696969;}#sk-container-id-3 label.sk-toggleable__label-arrow:hover:before {color: black;}#sk-container-id-3 div.sk-estimator:hover label.sk-toggleable__label-arrow:before {color: black;}#sk-container-id-3 div.sk-toggleable__content {max-height: 0;max-width: 0;overflow: hidden;text-align: left;background-color: #f0f8ff;}#sk-container-id-3 div.sk-toggleable__content pre {margin: 0.2em;color: black;border-radius: 0.25em;background-color: #f0f8ff;}#sk-container-id-3 input.sk-toggleable__control:checked~div.sk-toggleable__content {max-height: 200px;max-width: 100%;overflow: auto;}#sk-container-id-3 input.sk-toggleable__control:checked~label.sk-toggleable__label-arrow:before {content: \"▾\";}#sk-container-id-3 div.sk-estimator input.sk-toggleable__control:checked~label.sk-toggleable__label {background-color: #d4ebff;}#sk-container-id-3 div.sk-label input.sk-toggleable__control:checked~label.sk-toggleable__label {background-color: #d4ebff;}#sk-container-id-3 input.sk-hidden--visually {border: 0;clip: rect(1px 1px 1px 1px);clip: rect(1px, 1px, 1px, 1px);height: 1px;margin: -1px;overflow: hidden;padding: 0;position: absolute;width: 1px;}#sk-container-id-3 div.sk-estimator {font-family: monospace;background-color: #f0f8ff;border: 1px dotted black;border-radius: 0.25em;box-sizing: border-box;margin-bottom: 0.5em;}#sk-container-id-3 div.sk-estimator:hover {background-color: #d4ebff;}#sk-container-id-3 div.sk-parallel-item::after {content: \"\";width: 100%;border-bottom: 1px solid gray;flex-grow: 1;}#sk-container-id-3 div.sk-label:hover label.sk-toggleable__label {background-color: #d4ebff;}#sk-container-id-3 div.sk-serial::before {content: \"\";position: absolute;border-left: 1px solid gray;box-sizing: border-box;top: 0;bottom: 0;left: 50%;z-index: 0;}#sk-container-id-3 div.sk-serial {display: flex;flex-direction: column;align-items: center;background-color: white;padding-right: 0.2em;padding-left: 0.2em;position: relative;}#sk-container-id-3 div.sk-item {position: relative;z-index: 1;}#sk-container-id-3 div.sk-parallel {display: flex;align-items: stretch;justify-content: center;background-color: white;position: relative;}#sk-container-id-3 div.sk-item::before, #sk-container-id-3 div.sk-parallel-item::before {content: \"\";position: absolute;border-left: 1px solid gray;box-sizing: border-box;top: 0;bottom: 0;left: 50%;z-index: -1;}#sk-container-id-3 div.sk-parallel-item {display: flex;flex-direction: column;z-index: 1;position: relative;background-color: white;}#sk-container-id-3 div.sk-parallel-item:first-child::after {align-self: flex-end;width: 50%;}#sk-container-id-3 div.sk-parallel-item:last-child::after {align-self: flex-start;width: 50%;}#sk-container-id-3 div.sk-parallel-item:only-child::after {width: 0;}#sk-container-id-3 div.sk-dashed-wrapped {border: 1px dashed gray;margin: 0 0.4em 0.5em 0.4em;box-sizing: border-box;padding-bottom: 0.4em;background-color: white;}#sk-container-id-3 div.sk-label label {font-family: monospace;font-weight: bold;display: inline-block;line-height: 1.2em;}#sk-container-id-3 div.sk-label-container {text-align: center;}#sk-container-id-3 div.sk-container {/* jupyter's `normalize.less` sets `[hidden] { display: none; }` but bootstrap.min.css set `[hidden] { display: none !important; }` so we also need the `!important` here to be able to override the default hidden behavior on the sphinx rendered scikit-learn.org. See: https://github.com/scikit-learn/scikit-learn/issues/21755 */display: inline-block !important;position: relative;}#sk-container-id-3 div.sk-text-repr-fallback {display: none;}</style><div id=\"sk-container-id-3\" class=\"sk-top-container\"><div class=\"sk-text-repr-fallback\"><pre>RandomForestClassifier(min_samples_leaf=724, n_jobs=-1, random_state=42)</pre><b>In a Jupyter environment, please rerun this cell to show the HTML representation or trust the notebook. <br />On GitHub, the HTML representation is unable to render, please try loading this page with nbviewer.org.</b></div><div class=\"sk-container\" hidden><div class=\"sk-item\"><div class=\"sk-estimator sk-toggleable\"><input class=\"sk-toggleable__control sk-hidden--visually\" id=\"sk-estimator-id-5\" type=\"checkbox\" checked><label for=\"sk-estimator-id-5\" class=\"sk-toggleable__label sk-toggleable__label-arrow\">RandomForestClassifier</label><div class=\"sk-toggleable__content\"><pre>RandomForestClassifier(min_samples_leaf=724, n_jobs=-1, random_state=42)</pre></div></div></div></div></div>"
            ]
          },
          "metadata": {},
          "execution_count": 88
        }
      ]
    },
    {
      "cell_type": "code",
      "source": [
        "# Predecimos con el conjunto de datos de validación\n",
        "y_pred = clf_rnd.predict(X_val_reduced)"
      ],
      "metadata": {
        "id": "dFN12JZfHNCE"
      },
      "execution_count": 89,
      "outputs": []
    },
    {
      "cell_type": "code",
      "source": [
        "# Calcula el F1-score en el conjunto de datos de validacion\n",
        "f1_train = f1_score(y_val, y_pred, average='weighted')\n",
        "f1_train"
      ],
      "metadata": {
        "colab": {
          "base_uri": "https://localhost:8080/"
        },
        "id": "0tPTEQeCHQbk",
        "outputId": "0b554ff8-6c45-4213-acae-f34a1e30fd7b"
      },
      "execution_count": 90,
      "outputs": [
        {
          "output_type": "execute_result",
          "data": {
            "text/plain": [
              "0.9989167784133103"
            ]
          },
          "metadata": {},
          "execution_count": 90
        }
      ]
    },
    {
      "cell_type": "code",
      "source": [
        "\n",
        "from sklearn.metrics import confusion_matrix\n",
        "\n",
        "\n",
        "cm = confusion_matrix(y_val, y_pred)\n",
        "\n",
        "plt.figure(figsize=(8, 6))\n",
        "sns.heatmap(cm, annot=True, fmt='d', cmap='Blues')\n",
        "plt.xlabel(\"Predicciones\")\n",
        "plt.ylabel(\"Etiquetas Verdaderas\")\n",
        "plt.title(\"Matriz de Confusión\")\n",
        "plt.show()"
      ],
      "metadata": {
        "colab": {
          "base_uri": "https://localhost:8080/",
          "height": 564
        },
        "id": "7ictwC1gHSVc",
        "outputId": "94f0495a-2cdc-4870-a35d-7f5b93bdbb91"
      },
      "execution_count": 91,
      "outputs": [
        {
          "output_type": "display_data",
          "data": {
            "text/plain": [
              "<Figure size 800x600 with 2 Axes>"
            ],
            "image/png": "[encoded data removed]"
          },
          "metadata": {}
        }
      ]
    },
    {
      "cell_type": "code",
      "source": [
        "cm"
      ],
      "metadata": {
        "colab": {
          "base_uri": "https://localhost:8080/"
        },
        "id": "9Mxk1b56MkvR",
        "outputId": "70dc72f1-b610-4aac-cc4a-314a7f03c817"
      },
      "execution_count": 92,
      "outputs": [
        {
          "output_type": "execute_result",
          "data": {
            "text/plain": [
              "array([[10865,     4],\n",
              "       [    9,  1135]])"
            ]
          },
          "metadata": {},
          "execution_count": 92
        }
      ]
    },
    {
      "cell_type": "markdown",
      "source": [
        "# SVM KERNEL NO LINEAL"
      ],
      "metadata": {
        "id": "-Yv0EXinIYjm"
      }
    },
    {
      "cell_type": "code",
      "source": [
        "from sklearn.svm import SVC\n",
        "\n",
        "svm_clf = SVC(kernel=\"poly\", degree=2, coef0=10, C=1.0)\n",
        "svm_clf.fit(X_train_reduced, y_train)"
      ],
      "metadata": {
        "colab": {
          "base_uri": "https://localhost:8080/",
          "height": 129
        },
        "id": "u4HycegyIftm",
        "outputId": "922c6f67-07ab-409d-8bb6-dff78970fb2d"
      },
      "execution_count": 93,
      "outputs": [
        {
          "output_type": "stream",
          "name": "stderr",
          "text": [
            "/usr/local/lib/python3.10/dist-packages/sklearn/utils/validation.py:1143: DataConversionWarning: A column-vector y was passed when a 1d array was expected. Please change the shape of y to (n_samples, ), for example using ravel().\n",
            "  y = column_or_1d(y, warn=True)\n"
          ]
        },
        {
          "output_type": "execute_result",
          "data": {
            "text/plain": [
              "SVC(coef0=10, degree=2, kernel='poly')"
            ],
            "text/html": [
              "<style>#sk-container-id-4 {color: black;background-color: white;}#sk-container-id-4 pre{padding: 0;}#sk-container-id-4 div.sk-toggleable {background-color: white;}#sk-container-id-4 label.sk-toggleable__label {cursor: pointer;display: block;width: 100%;margin-bottom: 0;padding: 0.3em;box-sizing: border-box;text-align: center;}#sk-container-id-4 label.sk-toggleable__label-arrow:before {content: \"▸\";float: left;margin-right: 0.25em;color: #696969;}#sk-container-id-4 label.sk-toggleable__label-arrow:hover:before {color: black;}#sk-container-id-4 div.sk-estimator:hover label.sk-toggleable__label-arrow:before {color: black;}#sk-container-id-4 div.sk-toggleable__content {max-height: 0;max-width: 0;overflow: hidden;text-align: left;background-color: #f0f8ff;}#sk-container-id-4 div.sk-toggleable__content pre {margin: 0.2em;color: black;border-radius: 0.25em;background-color: #f0f8ff;}#sk-container-id-4 input.sk-toggleable__control:checked~div.sk-toggleable__content {max-height: 200px;max-width: 100%;overflow: auto;}#sk-container-id-4 input.sk-toggleable__control:checked~label.sk-toggleable__label-arrow:before {content: \"▾\";}#sk-container-id-4 div.sk-estimator input.sk-toggleable__control:checked~label.sk-toggleable__label {background-color: #d4ebff;}#sk-container-id-4 div.sk-label input.sk-toggleable__control:checked~label.sk-toggleable__label {background-color: #d4ebff;}#sk-container-id-4 input.sk-hidden--visually {border: 0;clip: rect(1px 1px 1px 1px);clip: rect(1px, 1px, 1px, 1px);height: 1px;margin: -1px;overflow: hidden;padding: 0;position: absolute;width: 1px;}#sk-container-id-4 div.sk-estimator {font-family: monospace;background-color: #f0f8ff;border: 1px dotted black;border-radius: 0.25em;box-sizing: border-box;margin-bottom: 0.5em;}#sk-container-id-4 div.sk-estimator:hover {background-color: #d4ebff;}#sk-container-id-4 div.sk-parallel-item::after {content: \"\";width: 100%;border-bottom: 1px solid gray;flex-grow: 1;}#sk-container-id-4 div.sk-label:hover label.sk-toggleable__label {background-color: #d4ebff;}#sk-container-id-4 div.sk-serial::before {content: \"\";position: absolute;border-left: 1px solid gray;box-sizing: border-box;top: 0;bottom: 0;left: 50%;z-index: 0;}#sk-container-id-4 div.sk-serial {display: flex;flex-direction: column;align-items: center;background-color: white;padding-right: 0.2em;padding-left: 0.2em;position: relative;}#sk-container-id-4 div.sk-item {position: relative;z-index: 1;}#sk-container-id-4 div.sk-parallel {display: flex;align-items: stretch;justify-content: center;background-color: white;position: relative;}#sk-container-id-4 div.sk-item::before, #sk-container-id-4 div.sk-parallel-item::before {content: \"\";position: absolute;border-left: 1px solid gray;box-sizing: border-box;top: 0;bottom: 0;left: 50%;z-index: -1;}#sk-container-id-4 div.sk-parallel-item {display: flex;flex-direction: column;z-index: 1;position: relative;background-color: white;}#sk-container-id-4 div.sk-parallel-item:first-child::after {align-self: flex-end;width: 50%;}#sk-container-id-4 div.sk-parallel-item:last-child::after {align-self: flex-start;width: 50%;}#sk-container-id-4 div.sk-parallel-item:only-child::after {width: 0;}#sk-container-id-4 div.sk-dashed-wrapped {border: 1px dashed gray;margin: 0 0.4em 0.5em 0.4em;box-sizing: border-box;padding-bottom: 0.4em;background-color: white;}#sk-container-id-4 div.sk-label label {font-family: monospace;font-weight: bold;display: inline-block;line-height: 1.2em;}#sk-container-id-4 div.sk-label-container {text-align: center;}#sk-container-id-4 div.sk-container {/* jupyter's `normalize.less` sets `[hidden] { display: none; }` but bootstrap.min.css set `[hidden] { display: none !important; }` so we also need the `!important` here to be able to override the default hidden behavior on the sphinx rendered scikit-learn.org. See: https://github.com/scikit-learn/scikit-learn/issues/21755 */display: inline-block !important;position: relative;}#sk-container-id-4 div.sk-text-repr-fallback {display: none;}</style><div id=\"sk-container-id-4\" class=\"sk-top-container\"><div class=\"sk-text-repr-fallback\"><pre>SVC(coef0=10, degree=2, kernel=&#x27;poly&#x27;)</pre><b>In a Jupyter environment, please rerun this cell to show the HTML representation or trust the notebook. <br />On GitHub, the HTML representation is unable to render, please try loading this page with nbviewer.org.</b></div><div class=\"sk-container\" hidden><div class=\"sk-item\"><div class=\"sk-estimator sk-toggleable\"><input class=\"sk-toggleable__control sk-hidden--visually\" id=\"sk-estimator-id-6\" type=\"checkbox\" checked><label for=\"sk-estimator-id-6\" class=\"sk-toggleable__label sk-toggleable__label-arrow\">SVC</label><div class=\"sk-toggleable__content\"><pre>SVC(coef0=10, degree=2, kernel=&#x27;poly&#x27;)</pre></div></div></div></div></div>"
            ]
          },
          "metadata": {},
          "execution_count": 93
        }
      ]
    },
    {
      "cell_type": "code",
      "source": [
        "y_pred = svm_clf.predict(X_val_reduced)"
      ],
      "metadata": {
        "id": "qlMa_icGIjOO"
      },
      "execution_count": 94,
      "outputs": []
    },
    {
      "cell_type": "code",
      "source": [
        "print(\"F1 Score:\", f1_score(y_pred, y_val))"
      ],
      "metadata": {
        "colab": {
          "base_uri": "https://localhost:8080/"
        },
        "id": "tXwZ-3fdImJ9",
        "outputId": "708bc924-2681-4ffe-8939-c4e2cd7d0cbd"
      },
      "execution_count": 95,
      "outputs": [
        {
          "output_type": "stream",
          "name": "stdout",
          "text": [
            "F1 Score: 0.9965095986038394\n"
          ]
        }
      ]
    },
    {
      "cell_type": "code",
      "source": [
        "\n",
        "from sklearn.metrics import confusion_matrix\n",
        "\n",
        "\n",
        "cm = confusion_matrix(y_val, y_pred)\n",
        "\n",
        "plt.figure(figsize=(8, 6))\n",
        "sns.heatmap(cm, annot=True, fmt='d', cmap='Blues')\n",
        "plt.xlabel(\"Predicciones\")\n",
        "plt.ylabel(\"Etiquetas Verdaderas\")\n",
        "plt.title(\"Matriz de Confusión\")\n",
        "plt.show()"
      ],
      "metadata": {
        "colab": {
          "base_uri": "https://localhost:8080/",
          "height": 564
        },
        "id": "CvihWYSDIsN-",
        "outputId": "ff058513-6dfa-451d-9135-6fd6814a132c"
      },
      "execution_count": 96,
      "outputs": [
        {
          "output_type": "display_data",
          "data": {
            "text/plain": [
              "<Figure size 800x600 with 2 Axes>"
            ],
            "image/png": "[encoded data removed]"
          },
          "metadata": {}
        }
      ]
    },
    {
      "cell_type": "code",
      "source": [
        "cm"
      ],
      "metadata": {
        "colab": {
          "base_uri": "https://localhost:8080/"
        },
        "id": "AuxFTk4yMh2I",
        "outputId": "8cadc309-c9f1-45cb-b5eb-77fb96198e36"
      },
      "execution_count": 97,
      "outputs": [
        {
          "output_type": "execute_result",
          "data": {
            "text/plain": [
              "array([[10863,     6],\n",
              "       [    2,  1142]])"
            ]
          },
          "metadata": {},
          "execution_count": 97
        }
      ]
    },
    {
      "cell_type": "markdown",
      "source": [
        "# RED NEURONAL PROFUNDA FULL CONECTADA"
      ],
      "metadata": {
        "id": "Mv_ttWNwI4k8"
      }
    },
    {
      "cell_type": "code",
      "source": [
        "import keras\n",
        "from keras.models import Sequential\n",
        "from keras.layers import Dense\n",
        "from tensorflow.keras import regularizers\n",
        "import tensorflow as tf\n",
        "import numpy as np\n",
        "\n",
        "# Define y compila el modelo\n",
        "modelo = Sequential([\n",
        "    Dense(1000, input_dim=14, activation=\"relu\"),\n",
        "    Dense(500, activation=\"relu\"),\n",
        "    Dense(1, activation=\"sigmoid\")\n",
        "])\n",
        "\n",
        "modelo.compile(\n",
        "    optimizer=\"adam\",\n",
        "    loss='binary_crossentropy',\n",
        "    metrics=['accuracy']\n",
        ")\n",
        "\n",
        "# Evalúa el modelo en los datos de entrenamiento\n",
        "modelo.evaluate(X_train_reduced, y_train)\n",
        "\n",
        "# Importa el módulo de tensorflow para generar lotes de datos (batch)\n",
        "from tensorflow.python.ops.gen_batch_ops import batch\n",
        "\n",
        "# Entrena el modelo\n",
        "modelo.fit(X_train_reduced, y_train, batch_size=94, epochs=40, validation_data=(X_val_reduced, y_val), verbose=1)"
      ],
      "metadata": {
        "colab": {
          "base_uri": "https://localhost:8080/"
        },
        "id": "4qOzKXimI8hV",
        "outputId": "bd434f7d-b680-4065-d37b-37204480d8af"
      },
      "execution_count": 98,
      "outputs": [
        {
          "output_type": "stream",
          "name": "stdout",
          "text": [
            "1127/1127 [==============================] - 7s 2ms/step - loss: 0.7034 - accuracy: 0.2499\n",
            "Epoch 1/40\n",
            "384/384 [==============================] - 3s 4ms/step - loss: 0.0541 - accuracy: 0.9817 - val_loss: 0.0143 - val_accuracy: 0.9988\n",
            "Epoch 2/40\n",
            "384/384 [==============================] - 1s 4ms/step - loss: 0.0119 - accuracy: 0.9976 - val_loss: 0.0101 - val_accuracy: 0.9990\n",
            "Epoch 3/40\n",
            "384/384 [==============================] - 2s 5ms/step - loss: 0.0074 - accuracy: 0.9989 - val_loss: 0.0089 - val_accuracy: 0.9993\n",
            "Epoch 4/40\n",
            "384/384 [==============================] - 2s 5ms/step - loss: 0.0104 - accuracy: 0.9979 - val_loss: 0.0094 - val_accuracy: 0.9989\n",
            "Epoch 5/40\n",
            "384/384 [==============================] - 2s 4ms/step - loss: 0.0078 - accuracy: 0.9987 - val_loss: 0.0086 - val_accuracy: 0.9991\n",
            "Epoch 6/40\n",
            "384/384 [==============================] - 2s 4ms/step - loss: 0.0062 - accuracy: 0.9990 - val_loss: 0.0097 - val_accuracy: 0.9993\n",
            "Epoch 7/40\n",
            "384/384 [==============================] - 1s 4ms/step - loss: 0.0058 - accuracy: 0.9991 - val_loss: 0.0089 - val_accuracy: 0.9992\n",
            "Epoch 8/40\n",
            "384/384 [==============================] - 2s 4ms/step - loss: 0.0105 - accuracy: 0.9977 - val_loss: 0.0092 - val_accuracy: 0.9988\n",
            "Epoch 9/40\n",
            "384/384 [==============================] - 1s 4ms/step - loss: 0.0055 - accuracy: 0.9992 - val_loss: 0.0089 - val_accuracy: 0.9991\n",
            "Epoch 10/40\n",
            "384/384 [==============================] - 2s 4ms/step - loss: 0.0052 - accuracy: 0.9993 - val_loss: 0.0095 - val_accuracy: 0.9993\n",
            "Epoch 11/40\n",
            "384/384 [==============================] - 2s 5ms/step - loss: 0.0095 - accuracy: 0.9977 - val_loss: 0.0363 - val_accuracy: 0.9919\n",
            "Epoch 12/40\n",
            "384/384 [==============================] - 2s 6ms/step - loss: 0.0084 - accuracy: 0.9983 - val_loss: 0.0085 - val_accuracy: 0.9991\n",
            "Epoch 13/40\n",
            "384/384 [==============================] - 2s 4ms/step - loss: 0.0049 - accuracy: 0.9993 - val_loss: 0.0090 - val_accuracy: 0.9993\n",
            "Epoch 14/40\n",
            "384/384 [==============================] - 3s 7ms/step - loss: 0.0047 - accuracy: 0.9993 - val_loss: 0.0092 - val_accuracy: 0.9993\n",
            "Epoch 15/40\n",
            "384/384 [==============================] - 2s 5ms/step - loss: 0.0051 - accuracy: 0.9992 - val_loss: 0.0096 - val_accuracy: 0.9991\n",
            "Epoch 16/40\n",
            "384/384 [==============================] - 2s 4ms/step - loss: 0.0053 - accuracy: 0.9989 - val_loss: 0.0103 - val_accuracy: 0.9991\n",
            "Epoch 17/40\n",
            "384/384 [==============================] - 3s 8ms/step - loss: 0.0043 - accuracy: 0.9993 - val_loss: 0.0094 - val_accuracy: 0.9991\n",
            "Epoch 18/40\n",
            "384/384 [==============================] - 4s 10ms/step - loss: 0.0055 - accuracy: 0.9988 - val_loss: 0.0091 - val_accuracy: 0.9991\n",
            "Epoch 19/40\n",
            "384/384 [==============================] - 3s 7ms/step - loss: 0.0056 - accuracy: 0.9986 - val_loss: 0.0085 - val_accuracy: 0.9991\n",
            "Epoch 20/40\n",
            "384/384 [==============================] - 3s 8ms/step - loss: 0.0040 - accuracy: 0.9990 - val_loss: 0.0099 - val_accuracy: 0.9991\n",
            "Epoch 21/40\n",
            "384/384 [==============================] - 3s 8ms/step - loss: 0.0033 - accuracy: 0.9993 - val_loss: 0.0108 - val_accuracy: 0.9989\n",
            "Epoch 22/40\n",
            "384/384 [==============================] - 2s 5ms/step - loss: 0.0033 - accuracy: 0.9994 - val_loss: 0.0084 - val_accuracy: 0.9991\n",
            "Epoch 23/40\n",
            "384/384 [==============================] - 2s 5ms/step - loss: 0.0028 - accuracy: 0.9993 - val_loss: 0.0092 - val_accuracy: 0.9992\n",
            "Epoch 24/40\n",
            "384/384 [==============================] - 2s 4ms/step - loss: 0.0025 - accuracy: 0.9996 - val_loss: 0.0081 - val_accuracy: 0.9992\n",
            "Epoch 25/40\n",
            "384/384 [==============================] - 2s 4ms/step - loss: 0.0022 - accuracy: 0.9996 - val_loss: 0.0092 - val_accuracy: 0.9992\n",
            "Epoch 26/40\n",
            "384/384 [==============================] - 2s 4ms/step - loss: 0.0028 - accuracy: 0.9994 - val_loss: 0.0104 - val_accuracy: 0.9992\n",
            "Epoch 27/40\n",
            "384/384 [==============================] - 1s 4ms/step - loss: 0.0029 - accuracy: 0.9994 - val_loss: 0.0086 - val_accuracy: 0.9993\n",
            "Epoch 28/40\n",
            "384/384 [==============================] - 2s 4ms/step - loss: 0.0032 - accuracy: 0.9993 - val_loss: 0.0110 - val_accuracy: 0.9988\n",
            "Epoch 29/40\n",
            "384/384 [==============================] - 2s 4ms/step - loss: 0.0035 - accuracy: 0.9995 - val_loss: 0.0080 - val_accuracy: 0.9994\n",
            "Epoch 30/40\n",
            "384/384 [==============================] - 2s 5ms/step - loss: 0.0022 - accuracy: 0.9997 - val_loss: 0.0081 - val_accuracy: 0.9995\n",
            "Epoch 31/40\n",
            "384/384 [==============================] - 2s 6ms/step - loss: 0.0018 - accuracy: 0.9998 - val_loss: 0.0080 - val_accuracy: 0.9995\n",
            "Epoch 32/40\n",
            "384/384 [==============================] - 2s 4ms/step - loss: 0.0020 - accuracy: 0.9996 - val_loss: 0.0075 - val_accuracy: 0.9994\n",
            "Epoch 33/40\n",
            "384/384 [==============================] - 2s 4ms/step - loss: 0.0017 - accuracy: 0.9998 - val_loss: 0.0079 - val_accuracy: 0.9994\n",
            "Epoch 34/40\n",
            "384/384 [==============================] - 1s 4ms/step - loss: 0.0024 - accuracy: 0.9996 - val_loss: 0.0119 - val_accuracy: 0.9990\n",
            "Epoch 35/40\n",
            "384/384 [==============================] - 2s 4ms/step - loss: 0.0056 - accuracy: 0.9990 - val_loss: 0.0093 - val_accuracy: 0.9995\n",
            "Epoch 36/40\n",
            "384/384 [==============================] - 2s 4ms/step - loss: 0.0021 - accuracy: 0.9997 - val_loss: 0.0089 - val_accuracy: 0.9994\n",
            "Epoch 37/40\n",
            "384/384 [==============================] - 2s 4ms/step - loss: 0.0024 - accuracy: 0.9995 - val_loss: 0.0114 - val_accuracy: 0.9992\n",
            "Epoch 38/40\n",
            "384/384 [==============================] - 2s 6ms/step - loss: 0.0035 - accuracy: 0.9993 - val_loss: 0.0087 - val_accuracy: 0.9994\n",
            "Epoch 39/40\n",
            "384/384 [==============================] - 2s 6ms/step - loss: 0.0023 - accuracy: 0.9997 - val_loss: 0.0086 - val_accuracy: 0.9994\n",
            "Epoch 40/40\n",
            "384/384 [==============================] - 1s 4ms/step - loss: 0.0016 - accuracy: 0.9999 - val_loss: 0.0082 - val_accuracy: 0.9994\n"
          ]
        },
        {
          "output_type": "execute_result",
          "data": {
            "text/plain": [
              "<keras.src.callbacks.History at 0x7ab9005dcfd0>"
            ]
          },
          "metadata": {},
          "execution_count": 98
        }
      ]
    },
    {
      "cell_type": "code",
      "source": [
        "# Calcula el F1-Score en el conjunto de validación\n",
        "from sklearn.metrics import f1_score\n",
        "y_val_pred = modelo.predict(X_val_reduced)\n",
        "y_val_pred_binary = (y_val_pred > 0.5).astype(int)\n",
        "f1 = f1_score(y_val, y_val_pred_binary)\n",
        "print(f'F1-Score en el conjunto de validación: {f1}')\n"
      ],
      "metadata": {
        "colab": {
          "base_uri": "https://localhost:8080/"
        },
        "id": "3OscCI79JMLl",
        "outputId": "a9e05a1e-288c-437b-a34c-f6c652545674"
      },
      "execution_count": 99,
      "outputs": [
        {
          "output_type": "stream",
          "name": "stdout",
          "text": [
            "376/376 [==============================] - 1s 2ms/step\n",
            "F1-Score en el conjunto de validación: 0.9969392216878007\n"
          ]
        }
      ]
    },
    {
      "cell_type": "code",
      "source": [
        "cm = confusion_matrix(y_val, y_val_pred_binary)\n",
        "\n",
        "plt.figure(figsize=(8, 6))\n",
        "sns.heatmap(cm, annot=True, fmt='d', cmap='Blues')\n",
        "plt.xlabel(\"Predicciones\")\n",
        "plt.ylabel(\"Etiquetas Verdaderas\")\n",
        "plt.title(\"Matriz de Confusión\")\n",
        "plt.show()"
      ],
      "metadata": {
        "colab": {
          "base_uri": "https://localhost:8080/",
          "height": 564
        },
        "id": "Mte4CFyhJlcE",
        "outputId": "46f891d3-b216-4f2c-e912-ba4d4d9b538e"
      },
      "execution_count": 100,
      "outputs": [
        {
          "output_type": "display_data",
          "data": {
            "text/plain": [
              "<Figure size 800x600 with 2 Axes>"
            ],
            "image/png": "[encoded data removed]"
          },
          "metadata": {}
        }
      ]
    }
  ]
}